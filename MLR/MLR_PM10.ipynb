{
  "nbformat": 4,
  "nbformat_minor": 0,
  "metadata": {
    "colab": {
      "name": "MLR-PM10.ipynb",
      "provenance": [],
      "collapsed_sections": []
    },
    "kernelspec": {
      "name": "python3",
      "display_name": "Python 3"
    },
    "language_info": {
      "name": "python"
    }
  },
  "cells": [
    {
      "cell_type": "markdown",
      "source": [
        "# Multiple Linear Regression Analysis\n",
        "\n",
        "Author: E. Thompson-Becker\n",
        "\n",
        "Inclusion of the PM10 variable is a fixation variable\n"
      ],
      "metadata": {
        "id": "FMNvhtD5M8Is"
      }
    },
    {
      "cell_type": "code",
      "execution_count": 92,
      "metadata": {
        "id": "HLjFl2nm74Gw"
      },
      "outputs": [],
      "source": [
        "import pandas as pd\n",
        "import numpy as np\n",
        "import matplotlib.pyplot as plt\n",
        "import seaborn as sns\n",
        "import sklearn.linear_model as lm\n",
        "from sklearn import metrics\n",
        "import statsmodels.api as sm\n",
        "import matplotlib.pyplot as plt"
      ]
    },
    {
      "cell_type": "code",
      "source": [
        "#load the csv file \n",
        "data = pd.read_csv(\"Shunyi-data_norm-date.csv\")"
      ],
      "metadata": {
        "id": "jNz0ErBs78gd"
      },
      "execution_count": 93,
      "outputs": []
    },
    {
      "cell_type": "code",
      "source": [
        "#check the first 6 rows of the data set\n",
        "data.head()"
      ],
      "metadata": {
        "colab": {
          "base_uri": "https://localhost:8080/",
          "height": 374
        },
        "id": "bjchRwvq8Gye",
        "outputId": "29e7c89c-635b-413b-cb71-7a6817bfc6a7"
      },
      "execution_count": 94,
      "outputs": [
        {
          "output_type": "execute_result",
          "data": {
            "text/plain": [
              "   Unnamed: 0        date  hour      PM25      PM10       SO2       NO2  \\\n",
              "0           0  2013-03-01     0  0.001065  0.004012  0.011371  0.023438   \n",
              "1           1  2013-03-01     1  0.010650  0.010030  0.011371  0.019531   \n",
              "2           2  2013-03-01     2  0.012780  0.012036  0.011371  0.019531   \n",
              "3           3  2013-03-01     3  0.010650  0.010030  0.011371  0.011719   \n",
              "4           4  2013-03-01     4  0.010650  0.010030  0.011371  0.011719   \n",
              "\n",
              "         CO        O3      TEMP      PRES      DEWP  RAIN      WSPM  year  \\\n",
              "0  0.020202  0.124568  0.277003  0.689781  0.244094   0.0  0.726562  2013   \n",
              "1  0.020202  0.133102  0.273519  0.695255  0.231496   0.0  0.734375  2013   \n",
              "2  0.010101  0.061979  0.263066  0.697080  0.204724   0.0  0.671875  2013   \n",
              "3  0.010101  0.061979  0.256098  0.717153  0.200000   0.0  0.515625  2013   \n",
              "4  0.010101  0.030685  0.250871  0.724453  0.206299   0.0  0.351562  2013   \n",
              "\n",
              "  month  \n",
              "0   Mar  \n",
              "1   Mar  \n",
              "2   Mar  \n",
              "3   Mar  \n",
              "4   Mar  "
            ],
            "text/html": [
              "\n",
              "  <div id=\"df-1be66f2c-e462-4aff-9b66-510310acaea3\">\n",
              "    <div class=\"colab-df-container\">\n",
              "      <div>\n",
              "<style scoped>\n",
              "    .dataframe tbody tr th:only-of-type {\n",
              "        vertical-align: middle;\n",
              "    }\n",
              "\n",
              "    .dataframe tbody tr th {\n",
              "        vertical-align: top;\n",
              "    }\n",
              "\n",
              "    .dataframe thead th {\n",
              "        text-align: right;\n",
              "    }\n",
              "</style>\n",
              "<table border=\"1\" class=\"dataframe\">\n",
              "  <thead>\n",
              "    <tr style=\"text-align: right;\">\n",
              "      <th></th>\n",
              "      <th>Unnamed: 0</th>\n",
              "      <th>date</th>\n",
              "      <th>hour</th>\n",
              "      <th>PM25</th>\n",
              "      <th>PM10</th>\n",
              "      <th>SO2</th>\n",
              "      <th>NO2</th>\n",
              "      <th>CO</th>\n",
              "      <th>O3</th>\n",
              "      <th>TEMP</th>\n",
              "      <th>PRES</th>\n",
              "      <th>DEWP</th>\n",
              "      <th>RAIN</th>\n",
              "      <th>WSPM</th>\n",
              "      <th>year</th>\n",
              "      <th>month</th>\n",
              "    </tr>\n",
              "  </thead>\n",
              "  <tbody>\n",
              "    <tr>\n",
              "      <th>0</th>\n",
              "      <td>0</td>\n",
              "      <td>2013-03-01</td>\n",
              "      <td>0</td>\n",
              "      <td>0.001065</td>\n",
              "      <td>0.004012</td>\n",
              "      <td>0.011371</td>\n",
              "      <td>0.023438</td>\n",
              "      <td>0.020202</td>\n",
              "      <td>0.124568</td>\n",
              "      <td>0.277003</td>\n",
              "      <td>0.689781</td>\n",
              "      <td>0.244094</td>\n",
              "      <td>0.0</td>\n",
              "      <td>0.726562</td>\n",
              "      <td>2013</td>\n",
              "      <td>Mar</td>\n",
              "    </tr>\n",
              "    <tr>\n",
              "      <th>1</th>\n",
              "      <td>1</td>\n",
              "      <td>2013-03-01</td>\n",
              "      <td>1</td>\n",
              "      <td>0.010650</td>\n",
              "      <td>0.010030</td>\n",
              "      <td>0.011371</td>\n",
              "      <td>0.019531</td>\n",
              "      <td>0.020202</td>\n",
              "      <td>0.133102</td>\n",
              "      <td>0.273519</td>\n",
              "      <td>0.695255</td>\n",
              "      <td>0.231496</td>\n",
              "      <td>0.0</td>\n",
              "      <td>0.734375</td>\n",
              "      <td>2013</td>\n",
              "      <td>Mar</td>\n",
              "    </tr>\n",
              "    <tr>\n",
              "      <th>2</th>\n",
              "      <td>2</td>\n",
              "      <td>2013-03-01</td>\n",
              "      <td>2</td>\n",
              "      <td>0.012780</td>\n",
              "      <td>0.012036</td>\n",
              "      <td>0.011371</td>\n",
              "      <td>0.019531</td>\n",
              "      <td>0.010101</td>\n",
              "      <td>0.061979</td>\n",
              "      <td>0.263066</td>\n",
              "      <td>0.697080</td>\n",
              "      <td>0.204724</td>\n",
              "      <td>0.0</td>\n",
              "      <td>0.671875</td>\n",
              "      <td>2013</td>\n",
              "      <td>Mar</td>\n",
              "    </tr>\n",
              "    <tr>\n",
              "      <th>3</th>\n",
              "      <td>3</td>\n",
              "      <td>2013-03-01</td>\n",
              "      <td>3</td>\n",
              "      <td>0.010650</td>\n",
              "      <td>0.010030</td>\n",
              "      <td>0.011371</td>\n",
              "      <td>0.011719</td>\n",
              "      <td>0.010101</td>\n",
              "      <td>0.061979</td>\n",
              "      <td>0.256098</td>\n",
              "      <td>0.717153</td>\n",
              "      <td>0.200000</td>\n",
              "      <td>0.0</td>\n",
              "      <td>0.515625</td>\n",
              "      <td>2013</td>\n",
              "      <td>Mar</td>\n",
              "    </tr>\n",
              "    <tr>\n",
              "      <th>4</th>\n",
              "      <td>4</td>\n",
              "      <td>2013-03-01</td>\n",
              "      <td>4</td>\n",
              "      <td>0.010650</td>\n",
              "      <td>0.010030</td>\n",
              "      <td>0.011371</td>\n",
              "      <td>0.011719</td>\n",
              "      <td>0.010101</td>\n",
              "      <td>0.030685</td>\n",
              "      <td>0.250871</td>\n",
              "      <td>0.724453</td>\n",
              "      <td>0.206299</td>\n",
              "      <td>0.0</td>\n",
              "      <td>0.351562</td>\n",
              "      <td>2013</td>\n",
              "      <td>Mar</td>\n",
              "    </tr>\n",
              "  </tbody>\n",
              "</table>\n",
              "</div>\n",
              "      <button class=\"colab-df-convert\" onclick=\"convertToInteractive('df-1be66f2c-e462-4aff-9b66-510310acaea3')\"\n",
              "              title=\"Convert this dataframe to an interactive table.\"\n",
              "              style=\"display:none;\">\n",
              "        \n",
              "  <svg xmlns=\"http://www.w3.org/2000/svg\" height=\"24px\"viewBox=\"0 0 24 24\"\n",
              "       width=\"24px\">\n",
              "    <path d=\"M0 0h24v24H0V0z\" fill=\"none\"/>\n",
              "    <path d=\"M18.56 5.44l.94 2.06.94-2.06 2.06-.94-2.06-.94-.94-2.06-.94 2.06-2.06.94zm-11 1L8.5 8.5l.94-2.06 2.06-.94-2.06-.94L8.5 2.5l-.94 2.06-2.06.94zm10 10l.94 2.06.94-2.06 2.06-.94-2.06-.94-.94-2.06-.94 2.06-2.06.94z\"/><path d=\"M17.41 7.96l-1.37-1.37c-.4-.4-.92-.59-1.43-.59-.52 0-1.04.2-1.43.59L10.3 9.45l-7.72 7.72c-.78.78-.78 2.05 0 2.83L4 21.41c.39.39.9.59 1.41.59.51 0 1.02-.2 1.41-.59l7.78-7.78 2.81-2.81c.8-.78.8-2.07 0-2.86zM5.41 20L4 18.59l7.72-7.72 1.47 1.35L5.41 20z\"/>\n",
              "  </svg>\n",
              "      </button>\n",
              "      \n",
              "  <style>\n",
              "    .colab-df-container {\n",
              "      display:flex;\n",
              "      flex-wrap:wrap;\n",
              "      gap: 12px;\n",
              "    }\n",
              "\n",
              "    .colab-df-convert {\n",
              "      background-color: #E8F0FE;\n",
              "      border: none;\n",
              "      border-radius: 50%;\n",
              "      cursor: pointer;\n",
              "      display: none;\n",
              "      fill: #1967D2;\n",
              "      height: 32px;\n",
              "      padding: 0 0 0 0;\n",
              "      width: 32px;\n",
              "    }\n",
              "\n",
              "    .colab-df-convert:hover {\n",
              "      background-color: #E2EBFA;\n",
              "      box-shadow: 0px 1px 2px rgba(60, 64, 67, 0.3), 0px 1px 3px 1px rgba(60, 64, 67, 0.15);\n",
              "      fill: #174EA6;\n",
              "    }\n",
              "\n",
              "    [theme=dark] .colab-df-convert {\n",
              "      background-color: #3B4455;\n",
              "      fill: #D2E3FC;\n",
              "    }\n",
              "\n",
              "    [theme=dark] .colab-df-convert:hover {\n",
              "      background-color: #434B5C;\n",
              "      box-shadow: 0px 1px 3px 1px rgba(0, 0, 0, 0.15);\n",
              "      filter: drop-shadow(0px 1px 2px rgba(0, 0, 0, 0.3));\n",
              "      fill: #FFFFFF;\n",
              "    }\n",
              "  </style>\n",
              "\n",
              "      <script>\n",
              "        const buttonEl =\n",
              "          document.querySelector('#df-1be66f2c-e462-4aff-9b66-510310acaea3 button.colab-df-convert');\n",
              "        buttonEl.style.display =\n",
              "          google.colab.kernel.accessAllowed ? 'block' : 'none';\n",
              "\n",
              "        async function convertToInteractive(key) {\n",
              "          const element = document.querySelector('#df-1be66f2c-e462-4aff-9b66-510310acaea3');\n",
              "          const dataTable =\n",
              "            await google.colab.kernel.invokeFunction('convertToInteractive',\n",
              "                                                     [key], {});\n",
              "          if (!dataTable) return;\n",
              "\n",
              "          const docLinkHtml = 'Like what you see? Visit the ' +\n",
              "            '<a target=\"_blank\" href=https://colab.research.google.com/notebooks/data_table.ipynb>data table notebook</a>'\n",
              "            + ' to learn more about interactive tables.';\n",
              "          element.innerHTML = '';\n",
              "          dataTable['output_type'] = 'display_data';\n",
              "          await google.colab.output.renderOutput(dataTable, element);\n",
              "          const docLink = document.createElement('div');\n",
              "          docLink.innerHTML = docLinkHtml;\n",
              "          element.appendChild(docLink);\n",
              "        }\n",
              "      </script>\n",
              "    </div>\n",
              "  </div>\n",
              "  "
            ]
          },
          "metadata": {},
          "execution_count": 94
        }
      ]
    },
    {
      "cell_type": "markdown",
      "source": [
        "# Multiple Linear Regression \n",
        "\n",
        "Includes all independent variables: SO2, NO2, CO, O3, TEMP, PRES, DEWP, RAIN and WSPM"
      ],
      "metadata": {
        "id": "ArRBMwMLNB4l"
      }
    },
    {
      "cell_type": "code",
      "source": [
        "#setting the independent and dependent variables\n",
        "x = data[['PM10','SO2', 'NO2','CO','O3','TEMP','PRES','DEWP','RAIN','WSPM']]\n",
        "y = data['PM25']"
      ],
      "metadata": {
        "id": "Jm3tP4769BOg"
      },
      "execution_count": 95,
      "outputs": []
    },
    {
      "cell_type": "code",
      "source": [
        "#use training and test sets found in initial analysis\n",
        "#based on testing 3 months of data at a time\n",
        "#describing the independent variable \n",
        "xtrain1, xtest1 = data.iloc[:2922,4:14 ], data.iloc[2922:5844, 4:14]\n",
        "xtrain2, xtest2 = data.iloc[:5844,4:14 ], data.iloc[5844:8766,4:14 ]\n",
        "xtrain3, xtest3 = data.iloc[:8766,4:14 ], data.iloc[8766:11688,4:14 ]\n",
        "xtrain4, xtest4 = data.iloc[:11688,4:14 ], data.iloc[11688:14610,4:14 ]\n",
        "xtrain5, xtest5 = data.iloc[:14610,4:14 ], data.iloc[14610:17532,4:14 ]\n",
        "xtrain6, xtest6 = data.iloc[:17532,4:14 ], data.iloc[17532:20454,4:14 ]\n",
        "xtrain7, xtest7 = data.iloc[:20454,4:14 ], data.iloc[20454:23376,4:14 ]\n",
        "xtrain8, xtest8 = data.iloc[:23376,4:14 ], data.iloc[23376:26298,4:14 ]\n",
        "xtrain9, xtest9 = data.iloc[:26298,4:14 ], data.iloc[26298:29220,4:14 ]\n",
        "xtrain10, xtest10 = data.iloc[:29220,4:14 ], data.iloc[29220:32142,4:14 ]\n",
        "xtrain11, xtest11 = data.iloc[:32142,4:14 ], data.iloc[32142:35063,4:14 ]\n",
        "\n",
        "#setting the dependent variable\n",
        "ytrain1, ytest1 = data.iloc[:2922,3 ], data.iloc[2922:5844,3 ]\n",
        "ytrain2, ytest2 = data.iloc[:5844, 3], data.iloc[5844:8766, 3]\n",
        "ytrain3, ytest3 = data.iloc[:8766,3 ], data.iloc[8766:11688, 3]\n",
        "ytrain4, ytest4 = data.iloc[:11688,3 ], data.iloc[11688:14610,3 ]\n",
        "ytrain5, ytest5 = data.iloc[:14610,3 ], data.iloc[14610:17532, 3]\n",
        "ytrain6, ytest6 = data.iloc[:17532,3 ], data.iloc[17532:20454,3 ]\n",
        "ytrain7, ytest7 = data.iloc[:20454,3 ], data.iloc[20454:23376,3 ]\n",
        "ytrain8, ytest8 = data.iloc[:23376,3 ], data.iloc[23376:26298,3 ]\n",
        "ytrain9, ytest9 = data.iloc[:26298, 3], data.iloc[26298:29220,3 ]\n",
        "ytrain10, ytest10 = data.iloc[:29220,3 ], data.iloc[29220:32142,3 ]\n",
        "ytrain11, ytest11 = data.iloc[:32142,3 ], data.iloc[32142:35063, 3]"
      ],
      "metadata": {
        "id": "v-_3rpK09p9F"
      },
      "execution_count": 96,
      "outputs": []
    },
    {
      "cell_type": "code",
      "source": [
        "#fitting multiple linear regression model\n",
        "MLR1 = lm.LinearRegression()\n",
        "MLR1.fit(xtrain1,ytrain1)"
      ],
      "metadata": {
        "colab": {
          "base_uri": "https://localhost:8080/"
        },
        "id": "RqrlgaoX90Oi",
        "outputId": "0d4a67ee-e557-4492-904f-db863d8cf56a"
      },
      "execution_count": 97,
      "outputs": [
        {
          "output_type": "execute_result",
          "data": {
            "text/plain": [
              "LinearRegression()"
            ]
          },
          "metadata": {},
          "execution_count": 97
        }
      ]
    },
    {
      "cell_type": "code",
      "source": [
        "\n",
        "#Intercept and Coefficient\n",
        "print(\"Intercept: \", MLR1.intercept_)\n",
        "print(\"Coefficients:\")\n",
        "list(zip(x, MLR1.coef_))"
      ],
      "metadata": {
        "colab": {
          "base_uri": "https://localhost:8080/"
        },
        "id": "ENZmse0o_Lue",
        "outputId": "a53f0895-d09d-4690-f844-36c1273b38ec"
      },
      "execution_count": 98,
      "outputs": [
        {
          "output_type": "stream",
          "name": "stdout",
          "text": [
            "Intercept:  -0.02877537160995898\n",
            "Coefficients:\n"
          ]
        },
        {
          "output_type": "execute_result",
          "data": {
            "text/plain": [
              "[('PM10', 0.28815803532939926),\n",
              " ('SO2', -0.037070710939398455),\n",
              " ('NO2', 0.11737450042259487),\n",
              " ('CO', 0.36679985602956433),\n",
              " ('O3', 0.0770682957394089),\n",
              " ('TEMP', -0.11180470305063421),\n",
              " ('PRES', -0.021667662100484337),\n",
              " ('DEWP', 0.13512579535995284),\n",
              " ('RAIN', 0.029076933445940506),\n",
              " ('WSPM', 0.0073804400065364826)]"
            ]
          },
          "metadata": {},
          "execution_count": 98
        }
      ]
    },
    {
      "cell_type": "code",
      "source": [
        "#Prediction of test set\n",
        "y_pred_MLR1= MLR1.predict(xtest1)\n",
        "#Predicted values\n",
        "print(\"Prediction for test set: {}\".format(y_pred_MLR1))\n"
      ],
      "metadata": {
        "colab": {
          "base_uri": "https://localhost:8080/"
        },
        "id": "c2r2JZ9x_IE8",
        "outputId": "f9b5ff20-4e7f-4a45-e24c-db04ba058a4c"
      },
      "execution_count": 99,
      "outputs": [
        {
          "output_type": "stream",
          "name": "stdout",
          "text": [
            "Prediction for test set: [0.15707693 0.17196456 0.175594   ... 0.04500258 0.01895702 0.01971469]\n"
          ]
        }
      ]
    },
    {
      "cell_type": "code",
      "source": [
        "#Actual value and the predicted value\n",
        "MLR1_diff = pd.DataFrame({'Actual value': ytest1, 'Predicted value': y_pred_MLR1})\n",
        "MLR1_diff"
      ],
      "metadata": {
        "colab": {
          "base_uri": "https://localhost:8080/",
          "height": 424
        },
        "id": "WKVVQyBM_D9b",
        "outputId": "31c5ec90-9195-4aec-aa73-48807b3cd2fc"
      },
      "execution_count": 100,
      "outputs": [
        {
          "output_type": "execute_result",
          "data": {
            "text/plain": [
              "      Actual value  Predicted value\n",
              "2922      0.200213         0.157077\n",
              "2923      0.241747         0.171965\n",
              "2924      0.279020         0.175594\n",
              "2925      0.279020         0.165083\n",
              "2926      0.236422         0.126684\n",
              "...            ...              ...\n",
              "5839      0.019169         0.027145\n",
              "5840      0.007455         0.027906\n",
              "5841      0.033014         0.045003\n",
              "5842      0.027689         0.018957\n",
              "5843      0.027689         0.019715\n",
              "\n",
              "[2922 rows x 2 columns]"
            ],
            "text/html": [
              "\n",
              "  <div id=\"df-aaf37b8e-f8fe-4ee7-aa1f-a1e860268ee6\">\n",
              "    <div class=\"colab-df-container\">\n",
              "      <div>\n",
              "<style scoped>\n",
              "    .dataframe tbody tr th:only-of-type {\n",
              "        vertical-align: middle;\n",
              "    }\n",
              "\n",
              "    .dataframe tbody tr th {\n",
              "        vertical-align: top;\n",
              "    }\n",
              "\n",
              "    .dataframe thead th {\n",
              "        text-align: right;\n",
              "    }\n",
              "</style>\n",
              "<table border=\"1\" class=\"dataframe\">\n",
              "  <thead>\n",
              "    <tr style=\"text-align: right;\">\n",
              "      <th></th>\n",
              "      <th>Actual value</th>\n",
              "      <th>Predicted value</th>\n",
              "    </tr>\n",
              "  </thead>\n",
              "  <tbody>\n",
              "    <tr>\n",
              "      <th>2922</th>\n",
              "      <td>0.200213</td>\n",
              "      <td>0.157077</td>\n",
              "    </tr>\n",
              "    <tr>\n",
              "      <th>2923</th>\n",
              "      <td>0.241747</td>\n",
              "      <td>0.171965</td>\n",
              "    </tr>\n",
              "    <tr>\n",
              "      <th>2924</th>\n",
              "      <td>0.279020</td>\n",
              "      <td>0.175594</td>\n",
              "    </tr>\n",
              "    <tr>\n",
              "      <th>2925</th>\n",
              "      <td>0.279020</td>\n",
              "      <td>0.165083</td>\n",
              "    </tr>\n",
              "    <tr>\n",
              "      <th>2926</th>\n",
              "      <td>0.236422</td>\n",
              "      <td>0.126684</td>\n",
              "    </tr>\n",
              "    <tr>\n",
              "      <th>...</th>\n",
              "      <td>...</td>\n",
              "      <td>...</td>\n",
              "    </tr>\n",
              "    <tr>\n",
              "      <th>5839</th>\n",
              "      <td>0.019169</td>\n",
              "      <td>0.027145</td>\n",
              "    </tr>\n",
              "    <tr>\n",
              "      <th>5840</th>\n",
              "      <td>0.007455</td>\n",
              "      <td>0.027906</td>\n",
              "    </tr>\n",
              "    <tr>\n",
              "      <th>5841</th>\n",
              "      <td>0.033014</td>\n",
              "      <td>0.045003</td>\n",
              "    </tr>\n",
              "    <tr>\n",
              "      <th>5842</th>\n",
              "      <td>0.027689</td>\n",
              "      <td>0.018957</td>\n",
              "    </tr>\n",
              "    <tr>\n",
              "      <th>5843</th>\n",
              "      <td>0.027689</td>\n",
              "      <td>0.019715</td>\n",
              "    </tr>\n",
              "  </tbody>\n",
              "</table>\n",
              "<p>2922 rows × 2 columns</p>\n",
              "</div>\n",
              "      <button class=\"colab-df-convert\" onclick=\"convertToInteractive('df-aaf37b8e-f8fe-4ee7-aa1f-a1e860268ee6')\"\n",
              "              title=\"Convert this dataframe to an interactive table.\"\n",
              "              style=\"display:none;\">\n",
              "        \n",
              "  <svg xmlns=\"http://www.w3.org/2000/svg\" height=\"24px\"viewBox=\"0 0 24 24\"\n",
              "       width=\"24px\">\n",
              "    <path d=\"M0 0h24v24H0V0z\" fill=\"none\"/>\n",
              "    <path d=\"M18.56 5.44l.94 2.06.94-2.06 2.06-.94-2.06-.94-.94-2.06-.94 2.06-2.06.94zm-11 1L8.5 8.5l.94-2.06 2.06-.94-2.06-.94L8.5 2.5l-.94 2.06-2.06.94zm10 10l.94 2.06.94-2.06 2.06-.94-2.06-.94-.94-2.06-.94 2.06-2.06.94z\"/><path d=\"M17.41 7.96l-1.37-1.37c-.4-.4-.92-.59-1.43-.59-.52 0-1.04.2-1.43.59L10.3 9.45l-7.72 7.72c-.78.78-.78 2.05 0 2.83L4 21.41c.39.39.9.59 1.41.59.51 0 1.02-.2 1.41-.59l7.78-7.78 2.81-2.81c.8-.78.8-2.07 0-2.86zM5.41 20L4 18.59l7.72-7.72 1.47 1.35L5.41 20z\"/>\n",
              "  </svg>\n",
              "      </button>\n",
              "      \n",
              "  <style>\n",
              "    .colab-df-container {\n",
              "      display:flex;\n",
              "      flex-wrap:wrap;\n",
              "      gap: 12px;\n",
              "    }\n",
              "\n",
              "    .colab-df-convert {\n",
              "      background-color: #E8F0FE;\n",
              "      border: none;\n",
              "      border-radius: 50%;\n",
              "      cursor: pointer;\n",
              "      display: none;\n",
              "      fill: #1967D2;\n",
              "      height: 32px;\n",
              "      padding: 0 0 0 0;\n",
              "      width: 32px;\n",
              "    }\n",
              "\n",
              "    .colab-df-convert:hover {\n",
              "      background-color: #E2EBFA;\n",
              "      box-shadow: 0px 1px 2px rgba(60, 64, 67, 0.3), 0px 1px 3px 1px rgba(60, 64, 67, 0.15);\n",
              "      fill: #174EA6;\n",
              "    }\n",
              "\n",
              "    [theme=dark] .colab-df-convert {\n",
              "      background-color: #3B4455;\n",
              "      fill: #D2E3FC;\n",
              "    }\n",
              "\n",
              "    [theme=dark] .colab-df-convert:hover {\n",
              "      background-color: #434B5C;\n",
              "      box-shadow: 0px 1px 3px 1px rgba(0, 0, 0, 0.15);\n",
              "      filter: drop-shadow(0px 1px 2px rgba(0, 0, 0, 0.3));\n",
              "      fill: #FFFFFF;\n",
              "    }\n",
              "  </style>\n",
              "\n",
              "      <script>\n",
              "        const buttonEl =\n",
              "          document.querySelector('#df-aaf37b8e-f8fe-4ee7-aa1f-a1e860268ee6 button.colab-df-convert');\n",
              "        buttonEl.style.display =\n",
              "          google.colab.kernel.accessAllowed ? 'block' : 'none';\n",
              "\n",
              "        async function convertToInteractive(key) {\n",
              "          const element = document.querySelector('#df-aaf37b8e-f8fe-4ee7-aa1f-a1e860268ee6');\n",
              "          const dataTable =\n",
              "            await google.colab.kernel.invokeFunction('convertToInteractive',\n",
              "                                                     [key], {});\n",
              "          if (!dataTable) return;\n",
              "\n",
              "          const docLinkHtml = 'Like what you see? Visit the ' +\n",
              "            '<a target=\"_blank\" href=https://colab.research.google.com/notebooks/data_table.ipynb>data table notebook</a>'\n",
              "            + ' to learn more about interactive tables.';\n",
              "          element.innerHTML = '';\n",
              "          dataTable['output_type'] = 'display_data';\n",
              "          await google.colab.output.renderOutput(dataTable, element);\n",
              "          const docLink = document.createElement('div');\n",
              "          docLink.innerHTML = docLinkHtml;\n",
              "          element.appendChild(docLink);\n",
              "        }\n",
              "      </script>\n",
              "    </div>\n",
              "  </div>\n",
              "  "
            ]
          },
          "metadata": {},
          "execution_count": 100
        }
      ]
    },
    {
      "cell_type": "code",
      "source": [
        "#use evaluation metrics to check if the regression fits \n",
        "meanAbErr1 = metrics.mean_absolute_error(ytest1, y_pred_MLR1)\n",
        "meanSqErr1 = metrics.mean_squared_error(ytest1, y_pred_MLR1)\n",
        "rootMeanSqErr1 = np.sqrt(metrics.mean_squared_error(ytest1, y_pred_MLR1))\n",
        "meanAbsPer1 = metrics.mean_absolute_percentage_error(ytest1, y_pred_MLR1)\n",
        "print('R squared: {:.2f}'.format(MLR1.score(x,y)*100))\n",
        "print('Mean Absolute Error:', meanAbErr1)\n",
        "print('Mean Absolute Percentage Error: {:.2f}'.format(meanAbsPer1))\n",
        "print('Mean Square Error:', meanSqErr1)\n",
        "print('Root Mean Square Error:', rootMeanSqErr1)"
      ],
      "metadata": {
        "colab": {
          "base_uri": "https://localhost:8080/"
        },
        "id": "58aE7hkF-HiI",
        "outputId": "6e953bae-1e5f-47d8-f2a5-89b3f315178c"
      },
      "execution_count": 101,
      "outputs": [
        {
          "output_type": "stream",
          "name": "stdout",
          "text": [
            "R squared: 77.16\n",
            "Mean Absolute Error: 0.03859543198183616\n",
            "Mean Absolute Percentage Error: 2.17\n",
            "Mean Square Error: 0.0025542033724896105\n",
            "Root Mean Square Error: 0.05053912714412082\n"
          ]
        }
      ]
    },
    {
      "cell_type": "code",
      "source": [
        "## repeat the above steps 11 times for each test set\n",
        "\n",
        "#fitting multiple linear regression model\n",
        "MLR2 = lm.LinearRegression()\n",
        "MLR2.fit(xtrain2,ytrain2)\n",
        "\n",
        "#fitting multiple linear regression model\n",
        "MLR3 = lm.LinearRegression()\n",
        "MLR3.fit(xtrain3,ytrain3)\n",
        "\n",
        "#fitting multiple linear regression model\n",
        "MLR4 = lm.LinearRegression()\n",
        "MLR4.fit(xtrain4,ytrain4)\n",
        "\n",
        "#fitting multiple linear regression model\n",
        "MLR5 = lm.LinearRegression()\n",
        "MLR5.fit(xtrain5,ytrain5)\n",
        "\n",
        "#fitting multiple linear regression model\n",
        "MLR6 = lm.LinearRegression()\n",
        "MLR6.fit(xtrain6,ytrain6)\n",
        "\n",
        "#fitting multiple linear regression model\n",
        "MLR7 = lm.LinearRegression()\n",
        "MLR7.fit(xtrain7,ytrain7)\n",
        "\n",
        "#fitting multiple linear regression model\n",
        "MLR8 = lm.LinearRegression()\n",
        "MLR8.fit(xtrain8,ytrain8)\n",
        "\n",
        "#fitting multiple linear regression model\n",
        "MLR9 = lm.LinearRegression()\n",
        "MLR9.fit(xtrain9,ytrain9)\n",
        "\n",
        "#fitting multiple linear regression model\n",
        "MLR10 = lm.LinearRegression()\n",
        "MLR10.fit(xtrain10,ytrain10)\n",
        "\n",
        "#fitting multiple linear regression model\n",
        "MLR11 = lm.LinearRegression()\n",
        "MLR11.fit(xtrain11,ytrain11)\n"
      ],
      "metadata": {
        "colab": {
          "base_uri": "https://localhost:8080/"
        },
        "id": "oLaupZZV--Dp",
        "outputId": "991f2980-d094-48d6-f23e-215af6ebd6fa"
      },
      "execution_count": 102,
      "outputs": [
        {
          "output_type": "execute_result",
          "data": {
            "text/plain": [
              "LinearRegression()"
            ]
          },
          "metadata": {},
          "execution_count": 102
        }
      ]
    },
    {
      "cell_type": "code",
      "source": [
        "#Prediction of test set\n",
        "y_pred_MLR2= MLR2.predict(xtest2)\n",
        "#Prediction of test set\n",
        "y_pred_MLR3= MLR3.predict(xtest3)\n",
        "#Prediction of test set\n",
        "y_pred_MLR4= MLR4.predict(xtest4)\n",
        "#Prediction of test set\n",
        "y_pred_MLR5= MLR5.predict(xtest5)\n",
        "#Prediction of test set\n",
        "y_pred_MLR6= MLR6.predict(xtest6)\n",
        "#Prediction of test set\n",
        "y_pred_MLR7= MLR7.predict(xtest7)\n",
        "#Prediction of test set\n",
        "y_pred_MLR8= MLR8.predict(xtest8)\n",
        "#Prediction of test set\n",
        "y_pred_MLR9= MLR9.predict(xtest9)\n",
        "#Prediction of test set\n",
        "y_pred_MLR10= MLR1.predict(xtest10)\n",
        "#Prediction of test set\n",
        "y_pred_MLR11= MLR11.predict(xtest11)"
      ],
      "metadata": {
        "id": "_20wtx_nEe3C"
      },
      "execution_count": 103,
      "outputs": []
    },
    {
      "cell_type": "code",
      "source": [
        "#calculate the evaluation matrix for each trial\n",
        "#trial 2\n",
        "meanAbErr2 = metrics.mean_absolute_error(ytest2, y_pred_MLR2)\n",
        "meanSqErr2 = metrics.mean_squared_error(ytest2, y_pred_MLR2)\n",
        "rootMeanSqErr2 = np.sqrt(metrics.mean_squared_error(ytest2, y_pred_MLR2))\n",
        "meanAbsPer2 = metrics.mean_absolute_percentage_error(ytest2, y_pred_MLR2)\n",
        "print('2:R squared: {:.2f}'.format(MLR2.score(x,y)*100))\n",
        "\n",
        "#trial 3\n",
        "meanAbErr3 = metrics.mean_absolute_error(ytest3, y_pred_MLR3)\n",
        "meanSqErr3 = metrics.mean_squared_error(ytest3, y_pred_MLR3)\n",
        "rootMeanSqErr3 = np.sqrt(metrics.mean_squared_error(ytest3, y_pred_MLR3))\n",
        "meanAbsPer3 = metrics.mean_absolute_percentage_error(ytest3, y_pred_MLR3)\n",
        "print('3:R squared: {:.2f}'.format(MLR3.score(x,y)*100))\n",
        "\n",
        "#trial 4\n",
        "meanAbErr4 = metrics.mean_absolute_error(ytest4, y_pred_MLR4)\n",
        "meanSqErr4 = metrics.mean_squared_error(ytest4, y_pred_MLR4)\n",
        "rootMeanSqErr4 = np.sqrt(metrics.mean_squared_error(ytest4, y_pred_MLR4))\n",
        "meanAbsPer4 = metrics.mean_absolute_percentage_error(ytest4, y_pred_MLR4)\n",
        "print('4:R squared: {:.2f}'.format(MLR4.score(x,y)*100))\n",
        "\n",
        "#trial 5\n",
        "meanAbErr5 = metrics.mean_absolute_error(ytest5, y_pred_MLR5)\n",
        "meanSqErr5 = metrics.mean_squared_error(ytest5, y_pred_MLR5)\n",
        "rootMeanSqErr5 = np.sqrt(metrics.mean_squared_error(ytest5, y_pred_MLR5))\n",
        "meanAbsPer5 = metrics.mean_absolute_percentage_error(ytest5, y_pred_MLR5)\n",
        "print('5:R squared: {:.2f}'.format(MLR5.score(x,y)*100))\n",
        "\n",
        "#trial 6\n",
        "meanAbErr6 = metrics.mean_absolute_error(ytest6, y_pred_MLR6)\n",
        "meanSqErr6 = metrics.mean_squared_error(ytest6, y_pred_MLR6)\n",
        "rootMeanSqErr6 = np.sqrt(metrics.mean_squared_error(ytest6, y_pred_MLR6))\n",
        "meanAbsPer6 = metrics.mean_absolute_percentage_error(ytest6, y_pred_MLR6)\n",
        "print('6:R squared: {:.2f}'.format(MLR6.score(x,y)*100))\n",
        "\n",
        "#trial 7\n",
        "meanAbErr7 = metrics.mean_absolute_error(ytest7, y_pred_MLR7)\n",
        "meanSqErr7 = metrics.mean_squared_error(ytest7, y_pred_MLR7)\n",
        "rootMeanSqErr7 = np.sqrt(metrics.mean_squared_error(ytest7, y_pred_MLR7))\n",
        "meanAbsPer7 = metrics.mean_absolute_percentage_error(ytest7, y_pred_MLR7)\n",
        "print('7:R squared: {:.2f}'.format(MLR7.score(x,y)*100))\n",
        "\n",
        "#trial 8 \n",
        "meanAbErr8 = metrics.mean_absolute_error(ytest8, y_pred_MLR8)\n",
        "meanSqErr8 = metrics.mean_squared_error(ytest8, y_pred_MLR8)\n",
        "rootMeanSqErr8 = np.sqrt(metrics.mean_squared_error(ytest8, y_pred_MLR8))\n",
        "meanAbsPer8 = metrics.mean_absolute_percentage_error(ytest8, y_pred_MLR8)\n",
        "print('8:R squared: {:.2f}'.format(MLR8.score(x,y)*100))\n",
        "\n",
        "#trial 9\n",
        "meanAbErr9 = metrics.mean_absolute_error(ytest9, y_pred_MLR9)\n",
        "meanSqErr9 = metrics.mean_squared_error(ytest9, y_pred_MLR9)\n",
        "rootMeanSqErr9 = np.sqrt(metrics.mean_squared_error(ytest9, y_pred_MLR9))\n",
        "meanAbsPer9 = metrics.mean_absolute_percentage_error(ytest9, y_pred_MLR9)\n",
        "print('9:R squared: {:.2f}'.format(MLR9.score(x,y)*100))\n",
        "\n",
        "#trial 10\n",
        "meanAbErr10 = metrics.mean_absolute_error(ytest10, y_pred_MLR10)\n",
        "meanSqErr10 = metrics.mean_squared_error(ytest10, y_pred_MLR10)\n",
        "rootMeanSqErr10 = np.sqrt(metrics.mean_squared_error(ytest10, y_pred_MLR10))\n",
        "meanAbsPer10 = metrics.mean_absolute_percentage_error(ytest10, y_pred_MLR10)\n",
        "print('10:R squared: {:.2f}'.format(MLR10.score(x,y)*100))\n",
        "\n",
        "#trial 11\n",
        "meanAbErr11 = metrics.mean_absolute_error(ytest11, y_pred_MLR11)\n",
        "meanSqErr11 = metrics.mean_squared_error(ytest11, y_pred_MLR11)\n",
        "rootMeanSqErr11 = np.sqrt(metrics.mean_squared_error(ytest11, y_pred_MLR11))\n",
        "meanAbsPer11 = metrics.mean_absolute_percentage_error(ytest11, y_pred_MLR11)\n",
        "print('11:R squared: {:.2f}'.format(MLR11.score(x,y)*100))"
      ],
      "metadata": {
        "colab": {
          "base_uri": "https://localhost:8080/"
        },
        "id": "4cAyNNy6FWMZ",
        "outputId": "67b80f67-7e87-4848-d523-cb0c7a615c0f"
      },
      "execution_count": 104,
      "outputs": [
        {
          "output_type": "stream",
          "name": "stdout",
          "text": [
            "2:R squared: 81.83\n",
            "3:R squared: 83.00\n",
            "4:R squared: 82.94\n",
            "5:R squared: 83.18\n",
            "6:R squared: 83.07\n",
            "7:R squared: 83.06\n",
            "8:R squared: 83.26\n",
            "9:R squared: 83.46\n",
            "10:R squared: 83.51\n",
            "11:R squared: 83.56\n"
          ]
        }
      ]
    },
    {
      "cell_type": "code",
      "source": [
        "#print all evaluation metrics in one data frame\n",
        "trial = [1,2,3,4,5,6,7,8,9,10,11]\n",
        "rsquared = [MLR1.score(x,y)*100, MLR2.score(x,y)*100, MLR3.score(x,y)*100,MLR4.score(x,y)*100,MLR5.score(x,y)*100,MLR6.score(x,y)*100,MLR7.score(x,y)*100,MLR8.score(x,y)*100,MLR9.score(x,y)*100,MLR10.score(x,y)*100,MLR11.score(x,y)*100]\n",
        "MAE = [meanAbErr1,meanAbErr2,meanAbErr3,meanAbErr4,meanAbErr5,meanAbErr6,meanAbErr7,meanAbErr8,meanAbErr9,meanAbErr10,meanAbErr11]\n",
        "MSE = [meanSqErr1,meanSqErr2,meanSqErr3,meanSqErr4,meanSqErr5,meanSqErr6,meanSqErr7,meanSqErr8,meanSqErr9,meanSqErr10,meanSqErr11]\n",
        "RMSE = [rootMeanSqErr1,rootMeanSqErr2,rootMeanSqErr3,rootMeanSqErr4,rootMeanSqErr5,rootMeanSqErr6,rootMeanSqErr7,rootMeanSqErr8,rootMeanSqErr9,rootMeanSqErr10,rootMeanSqErr11]\n",
        "MAPE = [meanAbsPer1,meanAbsPer2,meanAbsPer3,meanAbsPer4,meanAbsPer5,meanAbsPer6, meanAbsPer7, meanAbsPer8, meanAbsPer9, meanAbsPer10, meanAbsPer11]\n",
        "\n",
        "results = pd.DataFrame({'Trial': trial, 'R-Squared': rsquared, 'Mean Absolute Error':MAE, 'Mean Absolute Percentage Error':MAPE, 'Mean Square Error': MSE, 'Root Mean Square Error': RMSE})\n",
        "results"
      ],
      "metadata": {
        "colab": {
          "base_uri": "https://localhost:8080/",
          "height": 456
        },
        "id": "_Kezh6ues9n6",
        "outputId": "86ae1458-f27c-4c1d-cdac-30279455fba6"
      },
      "execution_count": 105,
      "outputs": [
        {
          "output_type": "execute_result",
          "data": {
            "text/plain": [
              "    Trial  R-Squared  Mean Absolute Error  Mean Absolute Percentage Error  \\\n",
              "0       1  77.163401             0.038595                    2.166901e+00   \n",
              "1       2  81.834545             0.024967                    1.023823e+00   \n",
              "2       3  83.001708             0.024935                    9.811777e-01   \n",
              "3       4  82.943777             0.023760                    7.825657e-01   \n",
              "4       5  83.182121             0.023931                    1.195675e+00   \n",
              "5       6  83.074757             0.024125                    8.634948e-01   \n",
              "6       7  83.057216             0.019638                    9.250499e-01   \n",
              "7       8  83.259501             0.018535                    7.392748e-01   \n",
              "8       9  83.455131             0.023318                    1.151389e+00   \n",
              "9      10  83.513509             0.025137                    1.164097e+00   \n",
              "10     11  83.556050             0.020442                    7.452884e+10   \n",
              "\n",
              "    Mean Square Error  Root Mean Square Error  \n",
              "0            0.002554                0.050539  \n",
              "1            0.001525                0.039050  \n",
              "2            0.001246                0.035302  \n",
              "3            0.001105                0.033248  \n",
              "4            0.001649                0.040603  \n",
              "5            0.001505                0.038794  \n",
              "6            0.000828                0.028767  \n",
              "7            0.001089                0.033001  \n",
              "8            0.001363                0.036915  \n",
              "9            0.001128                0.033579  \n",
              "10           0.000946                0.030765  "
            ],
            "text/html": [
              "\n",
              "  <div id=\"df-2b3a934a-458d-4d3f-bc60-615e49b7d935\">\n",
              "    <div class=\"colab-df-container\">\n",
              "      <div>\n",
              "<style scoped>\n",
              "    .dataframe tbody tr th:only-of-type {\n",
              "        vertical-align: middle;\n",
              "    }\n",
              "\n",
              "    .dataframe tbody tr th {\n",
              "        vertical-align: top;\n",
              "    }\n",
              "\n",
              "    .dataframe thead th {\n",
              "        text-align: right;\n",
              "    }\n",
              "</style>\n",
              "<table border=\"1\" class=\"dataframe\">\n",
              "  <thead>\n",
              "    <tr style=\"text-align: right;\">\n",
              "      <th></th>\n",
              "      <th>Trial</th>\n",
              "      <th>R-Squared</th>\n",
              "      <th>Mean Absolute Error</th>\n",
              "      <th>Mean Absolute Percentage Error</th>\n",
              "      <th>Mean Square Error</th>\n",
              "      <th>Root Mean Square Error</th>\n",
              "    </tr>\n",
              "  </thead>\n",
              "  <tbody>\n",
              "    <tr>\n",
              "      <th>0</th>\n",
              "      <td>1</td>\n",
              "      <td>77.163401</td>\n",
              "      <td>0.038595</td>\n",
              "      <td>2.166901e+00</td>\n",
              "      <td>0.002554</td>\n",
              "      <td>0.050539</td>\n",
              "    </tr>\n",
              "    <tr>\n",
              "      <th>1</th>\n",
              "      <td>2</td>\n",
              "      <td>81.834545</td>\n",
              "      <td>0.024967</td>\n",
              "      <td>1.023823e+00</td>\n",
              "      <td>0.001525</td>\n",
              "      <td>0.039050</td>\n",
              "    </tr>\n",
              "    <tr>\n",
              "      <th>2</th>\n",
              "      <td>3</td>\n",
              "      <td>83.001708</td>\n",
              "      <td>0.024935</td>\n",
              "      <td>9.811777e-01</td>\n",
              "      <td>0.001246</td>\n",
              "      <td>0.035302</td>\n",
              "    </tr>\n",
              "    <tr>\n",
              "      <th>3</th>\n",
              "      <td>4</td>\n",
              "      <td>82.943777</td>\n",
              "      <td>0.023760</td>\n",
              "      <td>7.825657e-01</td>\n",
              "      <td>0.001105</td>\n",
              "      <td>0.033248</td>\n",
              "    </tr>\n",
              "    <tr>\n",
              "      <th>4</th>\n",
              "      <td>5</td>\n",
              "      <td>83.182121</td>\n",
              "      <td>0.023931</td>\n",
              "      <td>1.195675e+00</td>\n",
              "      <td>0.001649</td>\n",
              "      <td>0.040603</td>\n",
              "    </tr>\n",
              "    <tr>\n",
              "      <th>5</th>\n",
              "      <td>6</td>\n",
              "      <td>83.074757</td>\n",
              "      <td>0.024125</td>\n",
              "      <td>8.634948e-01</td>\n",
              "      <td>0.001505</td>\n",
              "      <td>0.038794</td>\n",
              "    </tr>\n",
              "    <tr>\n",
              "      <th>6</th>\n",
              "      <td>7</td>\n",
              "      <td>83.057216</td>\n",
              "      <td>0.019638</td>\n",
              "      <td>9.250499e-01</td>\n",
              "      <td>0.000828</td>\n",
              "      <td>0.028767</td>\n",
              "    </tr>\n",
              "    <tr>\n",
              "      <th>7</th>\n",
              "      <td>8</td>\n",
              "      <td>83.259501</td>\n",
              "      <td>0.018535</td>\n",
              "      <td>7.392748e-01</td>\n",
              "      <td>0.001089</td>\n",
              "      <td>0.033001</td>\n",
              "    </tr>\n",
              "    <tr>\n",
              "      <th>8</th>\n",
              "      <td>9</td>\n",
              "      <td>83.455131</td>\n",
              "      <td>0.023318</td>\n",
              "      <td>1.151389e+00</td>\n",
              "      <td>0.001363</td>\n",
              "      <td>0.036915</td>\n",
              "    </tr>\n",
              "    <tr>\n",
              "      <th>9</th>\n",
              "      <td>10</td>\n",
              "      <td>83.513509</td>\n",
              "      <td>0.025137</td>\n",
              "      <td>1.164097e+00</td>\n",
              "      <td>0.001128</td>\n",
              "      <td>0.033579</td>\n",
              "    </tr>\n",
              "    <tr>\n",
              "      <th>10</th>\n",
              "      <td>11</td>\n",
              "      <td>83.556050</td>\n",
              "      <td>0.020442</td>\n",
              "      <td>7.452884e+10</td>\n",
              "      <td>0.000946</td>\n",
              "      <td>0.030765</td>\n",
              "    </tr>\n",
              "  </tbody>\n",
              "</table>\n",
              "</div>\n",
              "      <button class=\"colab-df-convert\" onclick=\"convertToInteractive('df-2b3a934a-458d-4d3f-bc60-615e49b7d935')\"\n",
              "              title=\"Convert this dataframe to an interactive table.\"\n",
              "              style=\"display:none;\">\n",
              "        \n",
              "  <svg xmlns=\"http://www.w3.org/2000/svg\" height=\"24px\"viewBox=\"0 0 24 24\"\n",
              "       width=\"24px\">\n",
              "    <path d=\"M0 0h24v24H0V0z\" fill=\"none\"/>\n",
              "    <path d=\"M18.56 5.44l.94 2.06.94-2.06 2.06-.94-2.06-.94-.94-2.06-.94 2.06-2.06.94zm-11 1L8.5 8.5l.94-2.06 2.06-.94-2.06-.94L8.5 2.5l-.94 2.06-2.06.94zm10 10l.94 2.06.94-2.06 2.06-.94-2.06-.94-.94-2.06-.94 2.06-2.06.94z\"/><path d=\"M17.41 7.96l-1.37-1.37c-.4-.4-.92-.59-1.43-.59-.52 0-1.04.2-1.43.59L10.3 9.45l-7.72 7.72c-.78.78-.78 2.05 0 2.83L4 21.41c.39.39.9.59 1.41.59.51 0 1.02-.2 1.41-.59l7.78-7.78 2.81-2.81c.8-.78.8-2.07 0-2.86zM5.41 20L4 18.59l7.72-7.72 1.47 1.35L5.41 20z\"/>\n",
              "  </svg>\n",
              "      </button>\n",
              "      \n",
              "  <style>\n",
              "    .colab-df-container {\n",
              "      display:flex;\n",
              "      flex-wrap:wrap;\n",
              "      gap: 12px;\n",
              "    }\n",
              "\n",
              "    .colab-df-convert {\n",
              "      background-color: #E8F0FE;\n",
              "      border: none;\n",
              "      border-radius: 50%;\n",
              "      cursor: pointer;\n",
              "      display: none;\n",
              "      fill: #1967D2;\n",
              "      height: 32px;\n",
              "      padding: 0 0 0 0;\n",
              "      width: 32px;\n",
              "    }\n",
              "\n",
              "    .colab-df-convert:hover {\n",
              "      background-color: #E2EBFA;\n",
              "      box-shadow: 0px 1px 2px rgba(60, 64, 67, 0.3), 0px 1px 3px 1px rgba(60, 64, 67, 0.15);\n",
              "      fill: #174EA6;\n",
              "    }\n",
              "\n",
              "    [theme=dark] .colab-df-convert {\n",
              "      background-color: #3B4455;\n",
              "      fill: #D2E3FC;\n",
              "    }\n",
              "\n",
              "    [theme=dark] .colab-df-convert:hover {\n",
              "      background-color: #434B5C;\n",
              "      box-shadow: 0px 1px 3px 1px rgba(0, 0, 0, 0.15);\n",
              "      filter: drop-shadow(0px 1px 2px rgba(0, 0, 0, 0.3));\n",
              "      fill: #FFFFFF;\n",
              "    }\n",
              "  </style>\n",
              "\n",
              "      <script>\n",
              "        const buttonEl =\n",
              "          document.querySelector('#df-2b3a934a-458d-4d3f-bc60-615e49b7d935 button.colab-df-convert');\n",
              "        buttonEl.style.display =\n",
              "          google.colab.kernel.accessAllowed ? 'block' : 'none';\n",
              "\n",
              "        async function convertToInteractive(key) {\n",
              "          const element = document.querySelector('#df-2b3a934a-458d-4d3f-bc60-615e49b7d935');\n",
              "          const dataTable =\n",
              "            await google.colab.kernel.invokeFunction('convertToInteractive',\n",
              "                                                     [key], {});\n",
              "          if (!dataTable) return;\n",
              "\n",
              "          const docLinkHtml = 'Like what you see? Visit the ' +\n",
              "            '<a target=\"_blank\" href=https://colab.research.google.com/notebooks/data_table.ipynb>data table notebook</a>'\n",
              "            + ' to learn more about interactive tables.';\n",
              "          element.innerHTML = '';\n",
              "          dataTable['output_type'] = 'display_data';\n",
              "          await google.colab.output.renderOutput(dataTable, element);\n",
              "          const docLink = document.createElement('div');\n",
              "          docLink.innerHTML = docLinkHtml;\n",
              "          element.appendChild(docLink);\n",
              "        }\n",
              "      </script>\n",
              "    </div>\n",
              "  </div>\n",
              "  "
            ]
          },
          "metadata": {},
          "execution_count": 105
        }
      ]
    },
    {
      "cell_type": "code",
      "source": [
        "#plot the predicted values\n",
        "plt.plot(np.arange(len(y_pred_MLR1)) + len(ytrain1),ytest1)\n",
        "plt.plot(np.arange(len(y_pred_MLR1)) + len(ytrain1), y_pred_MLR1)\n",
        "plt.plot(ytrain1)\n",
        "# you seemed to mess up the labels\n",
        "plt.legend(['y_test', 'y_pred', 'y_train'])"
      ],
      "metadata": {
        "colab": {
          "base_uri": "https://localhost:8080/",
          "height": 282
        },
        "id": "ePWsVcNI8f86",
        "outputId": "7fbb47c8-ae52-4b1d-a2bd-855e15ccef4c"
      },
      "execution_count": 107,
      "outputs": [
        {
          "output_type": "execute_result",
          "data": {
            "text/plain": [
              "<matplotlib.legend.Legend at 0x7f7da8f27650>"
            ]
          },
          "metadata": {},
          "execution_count": 107
        },
        {
          "output_type": "display_data",
          "data": {
            "text/plain": [
              "<Figure size 432x288 with 1 Axes>"
            ],
            "image/png": "[encoded data removed]"
          },
          "metadata": {
            "needs_background": "light"
          }
        }
      ]
    },
    {
      "cell_type": "code",
      "source": [
        "\n",
        "#plot the predicted values\n",
        "plt.plot(np.arange(len(y_pred_MLR2)) + len(ytrain2),ytest2)\n",
        "plt.plot(np.arange(len(y_pred_MLR2)) + len(ytrain2), y_pred_MLR2)\n",
        "plt.plot(ytrain2)\n",
        "# you seemed to mess up the labels\n",
        "plt.legend(['y_test', 'y_pred', 'y_train'])"
      ],
      "metadata": {
        "colab": {
          "base_uri": "https://localhost:8080/",
          "height": 282
        },
        "id": "yIREUsB-KZwn",
        "outputId": "b8c69212-08a7-47fe-c41a-2b0fb2cd74f2"
      },
      "execution_count": 108,
      "outputs": [
        {
          "output_type": "execute_result",
          "data": {
            "text/plain": [
              "<matplotlib.legend.Legend at 0x7f7da872eb10>"
            ]
          },
          "metadata": {},
          "execution_count": 108
        },
        {
          "output_type": "display_data",
          "data": {
            "text/plain": [
              "<Figure size 432x288 with 1 Axes>"
            ],
            "image/png": "[encoded data removed]"
          },
          "metadata": {
            "needs_background": "light"
          }
        }
      ]
    },
    {
      "cell_type": "code",
      "source": [
        "#plot the predicted values\n",
        "plt.plot(np.arange(len(y_pred_MLR3)) + len(ytrain3),ytest3)\n",
        "plt.plot(np.arange(len(y_pred_MLR3)) + len(ytrain3), y_pred_MLR3)\n",
        "plt.plot(ytrain3)\n",
        "# you seemed to mess up the labels\n",
        "plt.legend(['y_test', 'y_pred', 'y_train'])\n"
      ],
      "metadata": {
        "colab": {
          "base_uri": "https://localhost:8080/",
          "height": 282
        },
        "id": "lfcoLt68K_Yq",
        "outputId": "f60bfb28-53e2-4bf6-bde4-eb18b9b21260"
      },
      "execution_count": 109,
      "outputs": [
        {
          "output_type": "execute_result",
          "data": {
            "text/plain": [
              "<matplotlib.legend.Legend at 0x7f7da8fe9c10>"
            ]
          },
          "metadata": {},
          "execution_count": 109
        },
        {
          "output_type": "display_data",
          "data": {
            "text/plain": [
              "<Figure size 432x288 with 1 Axes>"
            ],
            "image/png": "[encoded data removed]"
          },
          "metadata": {
            "needs_background": "light"
          }
        }
      ]
    },
    {
      "cell_type": "code",
      "source": [
        "#plot the predicted values\n",
        "plt.plot(np.arange(len(y_pred_MLR4)) + len(ytrain4),ytest4)\n",
        "plt.plot(np.arange(len(y_pred_MLR4)) + len(ytrain4), y_pred_MLR4)\n",
        "plt.plot(ytrain4)\n",
        "# you seemed to mess up the labels\n",
        "plt.legend(['y_test', 'y_pred', 'y_train'])\n"
      ],
      "metadata": {
        "colab": {
          "base_uri": "https://localhost:8080/",
          "height": 282
        },
        "id": "F28mFGNnLHnn",
        "outputId": "f64d4d33-f303-46b6-9ad0-4300c801f36c"
      },
      "execution_count": 110,
      "outputs": [
        {
          "output_type": "execute_result",
          "data": {
            "text/plain": [
              "<matplotlib.legend.Legend at 0x7f7da867c1d0>"
            ]
          },
          "metadata": {},
          "execution_count": 110
        },
        {
          "output_type": "display_data",
          "data": {
            "text/plain": [
              "<Figure size 432x288 with 1 Axes>"
            ],
            "image/png": "[encoded data removed]"
          },
          "metadata": {
            "needs_background": "light"
          }
        }
      ]
    },
    {
      "cell_type": "code",
      "source": [
        "#plot the predicted values\n",
        "plt.plot(np.arange(len(y_pred_MLR5)) + len(ytrain5),ytest5)\n",
        "plt.plot(np.arange(len(y_pred_MLR5)) + len(ytrain5), y_pred_MLR5)\n",
        "plt.plot(ytrain5)\n",
        "# you seemed to mess up the labels\n",
        "plt.legend(['y_test', 'y_pred', 'y_train'])\n"
      ],
      "metadata": {
        "colab": {
          "base_uri": "https://localhost:8080/",
          "height": 282
        },
        "id": "cLP4XF7gLRjU",
        "outputId": "d69983ad-f1cc-4d52-acfc-d5856d40e312"
      },
      "execution_count": 111,
      "outputs": [
        {
          "output_type": "execute_result",
          "data": {
            "text/plain": [
              "<matplotlib.legend.Legend at 0x7f7da856c490>"
            ]
          },
          "metadata": {},
          "execution_count": 111
        },
        {
          "output_type": "display_data",
          "data": {
            "text/plain": [
              "<Figure size 432x288 with 1 Axes>"
            ],
            "image/png": "[encoded data removed]"
          },
          "metadata": {
            "needs_background": "light"
          }
        }
      ]
    },
    {
      "cell_type": "code",
      "source": [
        "#plot the predicted values\n",
        "plt.plot(np.arange(len(y_pred_MLR6)) + len(ytrain6),ytest6)\n",
        "plt.plot(np.arange(len(y_pred_MLR6)) + len(ytrain6), y_pred_MLR6)\n",
        "plt.plot(ytrain6)\n",
        "# you seemed to mess up the labels\n",
        "plt.legend(['y_test', 'y_pred', 'y_train'])\n"
      ],
      "metadata": {
        "colab": {
          "base_uri": "https://localhost:8080/",
          "height": 282
        },
        "id": "dsdu_NkMLb6W",
        "outputId": "27deef22-5176-408f-b98d-e2eb36655b76"
      },
      "execution_count": 112,
      "outputs": [
        {
          "output_type": "execute_result",
          "data": {
            "text/plain": [
              "<matplotlib.legend.Legend at 0x7f7da84f4690>"
            ]
          },
          "metadata": {},
          "execution_count": 112
        },
        {
          "output_type": "display_data",
          "data": {
            "text/plain": [
              "<Figure size 432x288 with 1 Axes>"
            ],
            "image/png": "[encoded data removed]"
          },
          "metadata": {
            "needs_background": "light"
          }
        }
      ]
    },
    {
      "cell_type": "code",
      "source": [
        "#plot the predicted values\n",
        "plt.plot(np.arange(len(y_pred_MLR7)) + len(ytrain7),ytest7)\n",
        "plt.plot(np.arange(len(y_pred_MLR7)) + len(ytrain7), y_pred_MLR7)\n",
        "plt.plot(ytrain7)\n",
        "# you seemed to mess up the labels\n",
        "plt.legend(['y_test', 'y_pred', 'y_train'])"
      ],
      "metadata": {
        "colab": {
          "base_uri": "https://localhost:8080/",
          "height": 282
        },
        "id": "sYuVIjyRLkiz",
        "outputId": "6af79b1d-9467-4a86-f9a2-36fddcce9f49"
      },
      "execution_count": 113,
      "outputs": [
        {
          "output_type": "execute_result",
          "data": {
            "text/plain": [
              "<matplotlib.legend.Legend at 0x7f7da8407850>"
            ]
          },
          "metadata": {},
          "execution_count": 113
        },
        {
          "output_type": "display_data",
          "data": {
            "text/plain": [
              "<Figure size 432x288 with 1 Axes>"
            ],
            "image/png": "[encoded data removed]"
          },
          "metadata": {
            "needs_background": "light"
          }
        }
      ]
    },
    {
      "cell_type": "code",
      "source": [
        "#plot the predicted values\n",
        "plt.plot(np.arange(len(y_pred_MLR8)) + len(ytrain8),ytest8)\n",
        "plt.plot(np.arange(len(y_pred_MLR8)) + len(ytrain8), y_pred_MLR8)\n",
        "plt.plot(ytrain8)\n",
        "# you seemed to mess up the labels\n",
        "plt.legend(['y_test', 'y_pred', 'y_train'])"
      ],
      "metadata": {
        "colab": {
          "base_uri": "https://localhost:8080/",
          "height": 282
        },
        "id": "o3TCRQydL06r",
        "outputId": "e3d08c9a-0d14-4e13-ef25-b75f5784cd4e"
      },
      "execution_count": 114,
      "outputs": [
        {
          "output_type": "execute_result",
          "data": {
            "text/plain": [
              "<matplotlib.legend.Legend at 0x7f7da83ab390>"
            ]
          },
          "metadata": {},
          "execution_count": 114
        },
        {
          "output_type": "display_data",
          "data": {
            "text/plain": [
              "<Figure size 432x288 with 1 Axes>"
            ],
            "image/png": "[encoded data removed]"
          },
          "metadata": {
            "needs_background": "light"
          }
        }
      ]
    },
    {
      "cell_type": "code",
      "source": [
        "#plot the predicted values\n",
        "plt.plot(np.arange(len(y_pred_MLR9)) + len(ytrain9),ytest9)\n",
        "plt.plot(np.arange(len(y_pred_MLR9)) + len(ytrain9), y_pred_MLR9)\n",
        "plt.plot(ytrain9)\n",
        "# you seemed to mess up the labels\n",
        "plt.legend(['y_test', 'y_pred', 'y_train'])"
      ],
      "metadata": {
        "colab": {
          "base_uri": "https://localhost:8080/",
          "height": 282
        },
        "id": "dlXmpIiEL8aH",
        "outputId": "b0de24f3-acfe-41eb-ea0e-30f4663caee8"
      },
      "execution_count": 115,
      "outputs": [
        {
          "output_type": "execute_result",
          "data": {
            "text/plain": [
              "<matplotlib.legend.Legend at 0x7f7da83269d0>"
            ]
          },
          "metadata": {},
          "execution_count": 115
        },
        {
          "output_type": "display_data",
          "data": {
            "text/plain": [
              "<Figure size 432x288 with 1 Axes>"
            ],
            "image/png": "[encoded data removed]"
          },
          "metadata": {
            "needs_background": "light"
          }
        }
      ]
    },
    {
      "cell_type": "code",
      "source": [
        "#plot the predicted values\n",
        "plt.plot(np.arange(len(y_pred_MLR10)) + len(ytrain10),ytest10)\n",
        "plt.plot(np.arange(len(y_pred_MLR10)) + len(ytrain10), y_pred_MLR10)\n",
        "plt.plot(ytrain10)\n",
        "# you seemed to mess up the labels\n",
        "plt.legend(['y_test', 'y_pred', 'y_train'])"
      ],
      "metadata": {
        "colab": {
          "base_uri": "https://localhost:8080/",
          "height": 282
        },
        "id": "lTocWDq6MDYx",
        "outputId": "2af4b6de-7cd5-4bd4-c1ce-5af163d221b2"
      },
      "execution_count": 116,
      "outputs": [
        {
          "output_type": "execute_result",
          "data": {
            "text/plain": [
              "<matplotlib.legend.Legend at 0x7f7da825afd0>"
            ]
          },
          "metadata": {},
          "execution_count": 116
        },
        {
          "output_type": "display_data",
          "data": {
            "text/plain": [
              "<Figure size 432x288 with 1 Axes>"
            ],
            "image/png": "[encoded data removed]"
          },
          "metadata": {
            "needs_background": "light"
          }
        }
      ]
    },
    {
      "cell_type": "code",
      "source": [
        "#plot the predicted values\n",
        "plt.plot(np.arange(len(y_pred_MLR11)) + len(ytrain11),ytest11)\n",
        "plt.plot(np.arange(len(y_pred_MLR11)) + len(ytrain11), y_pred_MLR11)\n",
        "plt.plot(ytrain11)\n",
        "# you seemed to mess up the labels\n",
        "plt.legend(['y_test', 'y_pred', 'y_train'])"
      ],
      "metadata": {
        "colab": {
          "base_uri": "https://localhost:8080/",
          "height": 282
        },
        "id": "WkLf9Zv_MKr5",
        "outputId": "7a072803-d7e6-4cae-ded9-659c5a9f047a"
      },
      "execution_count": 117,
      "outputs": [
        {
          "output_type": "execute_result",
          "data": {
            "text/plain": [
              "<matplotlib.legend.Legend at 0x7f7da821dc90>"
            ]
          },
          "metadata": {},
          "execution_count": 117
        },
        {
          "output_type": "display_data",
          "data": {
            "text/plain": [
              "<Figure size 432x288 with 1 Axes>"
            ],
            "image/png": "[encoded data removed]"
          },
          "metadata": {
            "needs_background": "light"
          }
        }
      ]
    },
    {
      "cell_type": "code",
      "source": [
        "#Plot of test values vs predicted values\n",
        "plt.subplot(6, 6, 1)\n",
        "plt.scatter(ytest1, y_pred_MLR1)\n",
        " \n",
        "plt.subplot(6, 6, 2)\n",
        "plt.scatter(ytest2, y_pred_MLR2)\n",
        " \n",
        "plt.subplot(6, 6, 3)\n",
        "plt.scatter(ytest3, y_pred_MLR3)\n",
        " \n",
        "plt.subplot(6, 6, 4)\n",
        "plt.scatter(ytest4, y_pred_MLR4)\n",
        "\n",
        "plt.subplot(6, 6, 5)\n",
        "plt.scatter(ytest5, y_pred_MLR5)\n",
        "\n",
        "plt.subplot(6, 6, 6)\n",
        "plt.scatter(ytest6, y_pred_MLR6)\n",
        "\n",
        "plt.subplot(6, 6, 7)\n",
        "plt.scatter(ytest7, y_pred_MLR7)\n",
        "\n",
        "plt.subplot(6, 6, 8)\n",
        "plt.scatter(ytest8, y_pred_MLR8)\n",
        "\n",
        "plt.subplot(6, 6, 9)\n",
        "plt.scatter(ytest9, y_pred_MLR9)\n",
        "\n",
        "plt.subplot(6, 6, 10)\n",
        "plt.scatter(ytest10, y_pred_MLR10)\n",
        "\n",
        "plt.subplot(6, 6, 11)\n",
        "plt.scatter(ytest11, y_pred_MLR11)\n",
        " \n",
        "plt.suptitle(\"Y test vs Y Predicted\")\n",
        "plt.show()"
      ],
      "metadata": {
        "colab": {
          "base_uri": "https://localhost:8080/",
          "height": 145
        },
        "id": "zEIoavPYOLAq",
        "outputId": "9ec348db-c744-4147-810a-4178b8bc30cb"
      },
      "execution_count": 118,
      "outputs": [
        {
          "output_type": "display_data",
          "data": {
            "text/plain": [
              "<Figure size 432x288 with 11 Axes>"
            ],
            "image/png": "[encoded data removed]"
          },
          "metadata": {
            "needs_background": "light"
          }
        }
      ]
    },
    {
      "cell_type": "markdown",
      "source": [
        "# Multiple Linear Regression \n",
        "\n",
        "Independent variables included: SO2, NO2, CO and O3"
      ],
      "metadata": {
        "id": "hCKeCYpeNEuj"
      }
    },
    {
      "cell_type": "code",
      "source": [
        "#setting the independent and dependent variables\n",
        "x = data[['PM10','SO2', 'NO2','CO','O3']]\n",
        "y = data['PM25']"
      ],
      "metadata": {
        "id": "XI9AhdtCMSO6"
      },
      "execution_count": 119,
      "outputs": []
    },
    {
      "cell_type": "code",
      "source": [
        "#use training and test sets found in initial analysis\n",
        "#based on testing 3 months of data at a time\n",
        "#describing the independent variable \n",
        "xtrain1, xtest1 = data.iloc[:2922,4:9 ], data.iloc[2922:5844, 4:9]\n",
        "xtrain2, xtest2 = data.iloc[:5844,4:9 ], data.iloc[5844:8766,4:9]\n",
        "xtrain3, xtest3 = data.iloc[:8766,4:9 ], data.iloc[8766:11688,4:9 ]\n",
        "xtrain4, xtest4 = data.iloc[:11688,4:9 ], data.iloc[11688:14610,4:9 ]\n",
        "xtrain5, xtest5 = data.iloc[:14610,4:9 ], data.iloc[14610:17532,4:9 ]\n",
        "xtrain6, xtest6 = data.iloc[:17532,4:9 ], data.iloc[17532:20454,4:9 ]\n",
        "xtrain7, xtest7 = data.iloc[:20454,4:9 ], data.iloc[20454:23376,4:9 ]\n",
        "xtrain8, xtest8 = data.iloc[:23376,4:9 ], data.iloc[23376:26298,4:9 ]\n",
        "xtrain9, xtest9 = data.iloc[:26298,4:9 ], data.iloc[26298:29220,4:9 ]\n",
        "xtrain10, xtest10 = data.iloc[:29220,4:9 ], data.iloc[29220:32142,4:9 ]\n",
        "xtrain11, xtest11 = data.iloc[:32142,4:9 ], data.iloc[32142:35063,4:9 ]\n",
        "\n",
        "#setting the dependent variable\n",
        "ytrain1, ytest1 = data.iloc[:2922,3 ], data.iloc[2922:5844,3 ]\n",
        "ytrain2, ytest2 = data.iloc[:5844, 3], data.iloc[5844:8766, 3]\n",
        "ytrain3, ytest3 = data.iloc[:8766,3 ], data.iloc[8766:11688, 3]\n",
        "ytrain4, ytest4 = data.iloc[:11688,3 ], data.iloc[11688:14610,3 ]\n",
        "ytrain5, ytest5 = data.iloc[:14610,3 ], data.iloc[14610:17532, 3]\n",
        "ytrain6, ytest6 = data.iloc[:17532,3 ], data.iloc[17532:20454,3 ]\n",
        "ytrain7, ytest7 = data.iloc[:20454,3 ], data.iloc[20454:23376,3 ]\n",
        "ytrain8, ytest8 = data.iloc[:23376,3 ], data.iloc[23376:26298,3 ]\n",
        "ytrain9, ytest9 = data.iloc[:26298, 3], data.iloc[26298:29220,3 ]\n",
        "ytrain10, ytest10 = data.iloc[:29220,3 ], data.iloc[29220:32142,3 ]\n",
        "ytrain11, ytest11 = data.iloc[:32142,3 ], data.iloc[32142:35063, 3]"
      ],
      "metadata": {
        "id": "-7KM0g0fNnd-"
      },
      "execution_count": 120,
      "outputs": []
    },
    {
      "cell_type": "code",
      "source": [
        "#fitting multiple linear regression model\n",
        "MLR1 = lm.LinearRegression()\n",
        "MLR1.fit(xtrain1,ytrain1)\n",
        "#Prediction of test set\n",
        "y_pred1= MLR1.predict(xtest1)\n",
        "#evaluation metrics\n",
        "meanAbErr1 = metrics.mean_absolute_error(ytest1, y_pred1)\n",
        "meanSqErr1 = metrics.mean_squared_error(ytest1, y_pred1)\n",
        "rootMeanSqErr1 = np.sqrt(metrics.mean_squared_error(ytest1, y_pred1))\n",
        "meanAbsPer1 = metrics.mean_absolute_percentage_error(ytest1, y_pred1)\n",
        "rsquared1 = MLR1.score(x,y)*100 "
      ],
      "metadata": {
        "id": "Dq4EQjE-s20i"
      },
      "execution_count": 121,
      "outputs": []
    },
    {
      "cell_type": "code",
      "source": [
        "#trial 2\n",
        "MLR2 = lm.LinearRegression()\n",
        "MLR2.fit(xtrain2,ytrain2)\n",
        "#Prediction of test set\n",
        "y_pred2= MLR2.predict(xtest2)\n",
        "#evaluation metrics\n",
        "meanAbErr2 = metrics.mean_absolute_error(ytest2, y_pred2)\n",
        "meanSqErr2 = metrics.mean_squared_error(ytest2, y_pred2)\n",
        "rootMeanSqErr2 = np.sqrt(metrics.mean_squared_error(ytest2, y_pred2))\n",
        "meanAbsPer2 = metrics.mean_absolute_percentage_error(ytest2, y_pred2)\n",
        "rsquared2 = MLR2.score(x,y)*100 "
      ],
      "metadata": {
        "id": "qzIV0FJEtCoF"
      },
      "execution_count": 122,
      "outputs": []
    },
    {
      "cell_type": "code",
      "source": [
        "#trial 3\n",
        "MLR3 = lm.LinearRegression()\n",
        "MLR3.fit(xtrain3,ytrain3)\n",
        "#Prediction of test set\n",
        "y_pred3 = MLR3.predict(xtest3)\n",
        "#evaluation metrics\n",
        "meanAbErr3 = metrics.mean_absolute_error(ytest3, y_pred3)\n",
        "meanSqErr3 = metrics.mean_squared_error(ytest3, y_pred3)\n",
        "rootMeanSqErr3 = np.sqrt(metrics.mean_squared_error(ytest3, y_pred3))\n",
        "meanAbsPer3 = metrics.mean_absolute_percentage_error(ytest3, y_pred3)\n",
        "rsquared3 = MLR3.score(x,y)*100 "
      ],
      "metadata": {
        "id": "3MSDvJFpvI9T"
      },
      "execution_count": 123,
      "outputs": []
    },
    {
      "cell_type": "code",
      "source": [
        "#trial 4\n",
        "MLR4 = lm.LinearRegression()\n",
        "MLR4.fit(xtrain4,ytrain4)\n",
        "#Prediction of test set\n",
        "y_pred4= MLR4.predict(xtest1)\n",
        "#evaluation metrics\n",
        "meanAbErr4 = metrics.mean_absolute_error(ytest4, y_pred4)\n",
        "meanSqErr4 = metrics.mean_squared_error(ytest4, y_pred4)\n",
        "rootMeanSqErr4 = np.sqrt(metrics.mean_squared_error(ytest4, y_pred4))\n",
        "meanAbsPer4 = metrics.mean_absolute_percentage_error(ytest4, y_pred_MLR4)\n",
        "rsquared4 = MLR4.score(x,y)*100 "
      ],
      "metadata": {
        "id": "ivFRSZwPvJo7"
      },
      "execution_count": 124,
      "outputs": []
    },
    {
      "cell_type": "code",
      "source": [
        "#trial 5\n",
        "MLR5 = lm.LinearRegression()\n",
        "MLR5.fit(xtrain5,ytrain5)\n",
        "#Prediction of test set\n",
        "y_pred5= MLR5.predict(xtest5)\n",
        "#evaluation metrics\n",
        "meanAbErr5 = metrics.mean_absolute_error(ytest5, y_pred5)\n",
        "meanSqErr5 = metrics.mean_squared_error(ytest5, y_pred5)\n",
        "rootMeanSqErr5 = np.sqrt(metrics.mean_squared_error(ytest5, y_pred5))\n",
        "meanAbsPer5 = metrics.mean_absolute_percentage_error(ytest5, y_pred5)\n",
        "rsquared5 = MLR5.score(x,y)*100 "
      ],
      "metadata": {
        "id": "NgAcaXQXvLcI"
      },
      "execution_count": 125,
      "outputs": []
    },
    {
      "cell_type": "code",
      "source": [
        "#trial 6\n",
        "MLR6 = lm.LinearRegression()\n",
        "MLR6.fit(xtrain6,ytrain6)\n",
        "#Prediction of test set\n",
        "y_pred6= MLR6.predict(xtest6)\n",
        "#evaluation metrics\n",
        "meanAbErr6 = metrics.mean_absolute_error(ytest6, y_pred6)\n",
        "meanSqErr6 = metrics.mean_squared_error(ytest6, y_pred6)\n",
        "rootMeanSqErr6 = np.sqrt(metrics.mean_squared_error(ytest6, y_pred6))\n",
        "meanAbsPer6 = metrics.mean_absolute_percentage_error(ytest6, y_pred6)\n",
        "rsquared6 = MLR6.score(x,y)*100 "
      ],
      "metadata": {
        "id": "E5HPM0gNvZrE"
      },
      "execution_count": 126,
      "outputs": []
    },
    {
      "cell_type": "code",
      "source": [
        "#trial 7\n",
        "MLR7 = lm.LinearRegression()\n",
        "MLR7.fit(xtrain7,ytrain7)\n",
        "#Prediction of test set\n",
        "y_pred7= MLR7.predict(xtest7)\n",
        "#evaluation metrics\n",
        "meanAbErr7 = metrics.mean_absolute_error(ytest7, y_pred7)\n",
        "meanSqErr7 = metrics.mean_squared_error(ytest7, y_pred7)\n",
        "rootMeanSqErr7 = np.sqrt(metrics.mean_squared_error(ytest7, y_pred7))\n",
        "meanAbsPer7 = metrics.mean_absolute_percentage_error(ytest7, y_pred7)\n",
        "rsquared7 = MLR7.score(x,y)*100 "
      ],
      "metadata": {
        "id": "lkX4jWzEvb2F"
      },
      "execution_count": 127,
      "outputs": []
    },
    {
      "cell_type": "code",
      "source": [
        "#trial 8\n",
        "MLR8 = lm.LinearRegression()\n",
        "MLR8.fit(xtrain8,ytrain8)\n",
        "#Prediction of test set\n",
        "y_pred8= MLR8.predict(xtest8)\n",
        "#evaluation metrics\n",
        "meanAbErr8 = metrics.mean_absolute_error(ytest8, y_pred8)\n",
        "meanSqErr8 = metrics.mean_squared_error(ytest8, y_pred8)\n",
        "rootMeanSqErr8 = np.sqrt(metrics.mean_squared_error(ytest8, y_pred8))\n",
        "meanAbsPer8 = metrics.mean_absolute_percentage_error(ytest8, y_pred8)\n",
        "rsquared8 = MLR8.score(x,y)*100"
      ],
      "metadata": {
        "id": "Fctp-YsEvd2F"
      },
      "execution_count": 128,
      "outputs": []
    },
    {
      "cell_type": "code",
      "source": [
        "#trial 9\n",
        "MLR9 = lm.LinearRegression()\n",
        "MLR9.fit(xtrain9,ytrain9)\n",
        "#Prediction of test set\n",
        "y_pred9= MLR9.predict(xtest9)\n",
        "#evaluation metrics\n",
        "meanAbErr9 = metrics.mean_absolute_error(ytest9, y_pred9)\n",
        "meanSqErr9 = metrics.mean_squared_error(ytest9, y_pred9)\n",
        "rootMeanSqErr9 = np.sqrt(metrics.mean_squared_error(ytest9, y_pred9))\n",
        "meanAbsPer9 = metrics.mean_absolute_percentage_error(ytest9, y_pred9)\n",
        "rsquared9 = MLR9.score(x,y)*100 "
      ],
      "metadata": {
        "id": "RcvF9eV0LBCN"
      },
      "execution_count": 129,
      "outputs": []
    },
    {
      "cell_type": "code",
      "source": [
        "#trial 10\n",
        "MLR10 = lm.LinearRegression()\n",
        "MLR10.fit(xtrain10,ytrain10)\n",
        "#Prediction of test set\n",
        "y_pred10= MLR10.predict(xtest10)\n",
        "#evaluation metrics\n",
        "meanAbErr10 = metrics.mean_absolute_error(ytest10, y_pred10)\n",
        "meanSqErr10 = metrics.mean_squared_error(ytest10, y_pred10)\n",
        "rootMeanSqErr10 = np.sqrt(metrics.mean_squared_error(ytest10, y_pred10))\n",
        "meanAbsPer10 = metrics.mean_absolute_percentage_error(ytest10, y_pred10)\n",
        "rsquared10 = MLR10.score(x,y)*100 "
      ],
      "metadata": {
        "id": "gC3T7_RnLCVC"
      },
      "execution_count": 130,
      "outputs": []
    },
    {
      "cell_type": "code",
      "source": [
        "#trial 11\n",
        "MLR11 = lm.LinearRegression()\n",
        "MLR11.fit(xtrain11,ytrain11)\n",
        "#Prediction of test set\n",
        "y_pred11= MLR11.predict(xtest11)\n",
        "#evaluation metrics\n",
        "meanAbErr11 = metrics.mean_absolute_error(ytest11, y_pred11)\n",
        "meanSqErr11 = metrics.mean_squared_error(ytest11, y_pred11)\n",
        "rootMeanSqErr11 = np.sqrt(metrics.mean_squared_error(ytest11, y_pred11))\n",
        "meanAbsPer11 = metrics.mean_absolute_percentage_error(ytest11, y_pred11)\n",
        "rsquared11 = MLR11.score(x,y)*100 "
      ],
      "metadata": {
        "id": "tInbOYMcLefG"
      },
      "execution_count": 131,
      "outputs": []
    },
    {
      "cell_type": "code",
      "source": [
        "#print all evaluation metrics in one data frame\n",
        "trial = [1,2,3,4,5,6,7,8,9,10,11]\n",
        "rsquared = [MLR1.score(x,y)*100, MLR2.score(x,y)*100, MLR3.score(x,y)*100,MLR4.score(x,y)*100,MLR5.score(x,y)*100,MLR6.score(x,y)*100,MLR7.score(x,y)*100,MLR8.score(x,y)*100,MLR9.score(x,y)*100,MLR10.score(x,y)*100,MLR11.score(x,y)*100]\n",
        "MAE = [meanAbErr1,meanAbErr2,meanAbErr3,meanAbErr4,meanAbErr5,meanAbErr6,meanAbErr7,meanAbErr8,meanAbErr9,meanAbErr10,meanAbErr11]\n",
        "MSE = [meanSqErr1,meanSqErr2,meanSqErr3,meanSqErr4,meanSqErr5,meanSqErr6,meanSqErr7,meanSqErr8,meanSqErr9,meanSqErr10,meanSqErr11]\n",
        "RMSE = [rootMeanSqErr1,rootMeanSqErr2,rootMeanSqErr3,rootMeanSqErr4,rootMeanSqErr5,rootMeanSqErr6,rootMeanSqErr7,rootMeanSqErr8,rootMeanSqErr9,rootMeanSqErr10,rootMeanSqErr11]\n",
        "MAPE = [meanAbsPer1,meanAbsPer2,meanAbsPer3,meanAbsPer4,meanAbsPer5,meanAbsPer6, meanAbsPer7, meanAbsPer8, meanAbsPer9, meanAbsPer10, meanAbsPer11]\n",
        "\n",
        "results = pd.DataFrame({'Trial': trial, 'R-Squared': rsquared, 'Mean Absolute Error':MAE, 'Mean Absolute Percentage Error':MAPE, 'Mean Square Error': MSE, 'Root Mean Square Error': RMSE})\n",
        "results"
      ],
      "metadata": {
        "colab": {
          "base_uri": "https://localhost:8080/",
          "height": 456
        },
        "id": "MaiZQwYuvkOx",
        "outputId": "b3fa7aa2-12f2-4ef1-d84d-1d3579908117"
      },
      "execution_count": 132,
      "outputs": [
        {
          "output_type": "execute_result",
          "data": {
            "text/plain": [
              "    Trial  R-Squared  Mean Absolute Error  Mean Absolute Percentage Error  \\\n",
              "0       1  74.984176             0.033898                    1.621410e+00   \n",
              "1       2  80.553735             0.026172                    9.040585e-01   \n",
              "2       3  81.828777             0.024676                    6.397282e-01   \n",
              "3       4  81.551227             0.071365                    7.825657e-01   \n",
              "4       5  81.665606             0.024070                    1.064197e+00   \n",
              "5       6  81.800576             0.024408                    6.738829e-01   \n",
              "6       7  81.923451             0.017195                    4.928705e-01   \n",
              "7       8  82.067954             0.017184                    5.541948e-01   \n",
              "8       9  82.256615             0.023374                    9.052301e-01   \n",
              "9      10  82.287043             0.016674                    4.805506e-01   \n",
              "10     11  82.321854             0.019878                    4.489213e+10   \n",
              "\n",
              "    Mean Square Error  Root Mean Square Error  \n",
              "0            0.002366                0.048639  \n",
              "1            0.001644                0.040545  \n",
              "2            0.001356                0.036827  \n",
              "3            0.008916                0.094427  \n",
              "4            0.001869                0.043233  \n",
              "5            0.001768                0.042048  \n",
              "6            0.000832                0.028852  \n",
              "7            0.001032                0.032124  \n",
              "8            0.001383                0.037186  \n",
              "9            0.000609                0.024688  \n",
              "10           0.001016                0.031875  "
            ],
            "text/html": [
              "\n",
              "  <div id=\"df-edaf89d0-8fb7-4823-91dc-b99ca6efaf45\">\n",
              "    <div class=\"colab-df-container\">\n",
              "      <div>\n",
              "<style scoped>\n",
              "    .dataframe tbody tr th:only-of-type {\n",
              "        vertical-align: middle;\n",
              "    }\n",
              "\n",
              "    .dataframe tbody tr th {\n",
              "        vertical-align: top;\n",
              "    }\n",
              "\n",
              "    .dataframe thead th {\n",
              "        text-align: right;\n",
              "    }\n",
              "</style>\n",
              "<table border=\"1\" class=\"dataframe\">\n",
              "  <thead>\n",
              "    <tr style=\"text-align: right;\">\n",
              "      <th></th>\n",
              "      <th>Trial</th>\n",
              "      <th>R-Squared</th>\n",
              "      <th>Mean Absolute Error</th>\n",
              "      <th>Mean Absolute Percentage Error</th>\n",
              "      <th>Mean Square Error</th>\n",
              "      <th>Root Mean Square Error</th>\n",
              "    </tr>\n",
              "  </thead>\n",
              "  <tbody>\n",
              "    <tr>\n",
              "      <th>0</th>\n",
              "      <td>1</td>\n",
              "      <td>74.984176</td>\n",
              "      <td>0.033898</td>\n",
              "      <td>1.621410e+00</td>\n",
              "      <td>0.002366</td>\n",
              "      <td>0.048639</td>\n",
              "    </tr>\n",
              "    <tr>\n",
              "      <th>1</th>\n",
              "      <td>2</td>\n",
              "      <td>80.553735</td>\n",
              "      <td>0.026172</td>\n",
              "      <td>9.040585e-01</td>\n",
              "      <td>0.001644</td>\n",
              "      <td>0.040545</td>\n",
              "    </tr>\n",
              "    <tr>\n",
              "      <th>2</th>\n",
              "      <td>3</td>\n",
              "      <td>81.828777</td>\n",
              "      <td>0.024676</td>\n",
              "      <td>6.397282e-01</td>\n",
              "      <td>0.001356</td>\n",
              "      <td>0.036827</td>\n",
              "    </tr>\n",
              "    <tr>\n",
              "      <th>3</th>\n",
              "      <td>4</td>\n",
              "      <td>81.551227</td>\n",
              "      <td>0.071365</td>\n",
              "      <td>7.825657e-01</td>\n",
              "      <td>0.008916</td>\n",
              "      <td>0.094427</td>\n",
              "    </tr>\n",
              "    <tr>\n",
              "      <th>4</th>\n",
              "      <td>5</td>\n",
              "      <td>81.665606</td>\n",
              "      <td>0.024070</td>\n",
              "      <td>1.064197e+00</td>\n",
              "      <td>0.001869</td>\n",
              "      <td>0.043233</td>\n",
              "    </tr>\n",
              "    <tr>\n",
              "      <th>5</th>\n",
              "      <td>6</td>\n",
              "      <td>81.800576</td>\n",
              "      <td>0.024408</td>\n",
              "      <td>6.738829e-01</td>\n",
              "      <td>0.001768</td>\n",
              "      <td>0.042048</td>\n",
              "    </tr>\n",
              "    <tr>\n",
              "      <th>6</th>\n",
              "      <td>7</td>\n",
              "      <td>81.923451</td>\n",
              "      <td>0.017195</td>\n",
              "      <td>4.928705e-01</td>\n",
              "      <td>0.000832</td>\n",
              "      <td>0.028852</td>\n",
              "    </tr>\n",
              "    <tr>\n",
              "      <th>7</th>\n",
              "      <td>8</td>\n",
              "      <td>82.067954</td>\n",
              "      <td>0.017184</td>\n",
              "      <td>5.541948e-01</td>\n",
              "      <td>0.001032</td>\n",
              "      <td>0.032124</td>\n",
              "    </tr>\n",
              "    <tr>\n",
              "      <th>8</th>\n",
              "      <td>9</td>\n",
              "      <td>82.256615</td>\n",
              "      <td>0.023374</td>\n",
              "      <td>9.052301e-01</td>\n",
              "      <td>0.001383</td>\n",
              "      <td>0.037186</td>\n",
              "    </tr>\n",
              "    <tr>\n",
              "      <th>9</th>\n",
              "      <td>10</td>\n",
              "      <td>82.287043</td>\n",
              "      <td>0.016674</td>\n",
              "      <td>4.805506e-01</td>\n",
              "      <td>0.000609</td>\n",
              "      <td>0.024688</td>\n",
              "    </tr>\n",
              "    <tr>\n",
              "      <th>10</th>\n",
              "      <td>11</td>\n",
              "      <td>82.321854</td>\n",
              "      <td>0.019878</td>\n",
              "      <td>4.489213e+10</td>\n",
              "      <td>0.001016</td>\n",
              "      <td>0.031875</td>\n",
              "    </tr>\n",
              "  </tbody>\n",
              "</table>\n",
              "</div>\n",
              "      <button class=\"colab-df-convert\" onclick=\"convertToInteractive('df-edaf89d0-8fb7-4823-91dc-b99ca6efaf45')\"\n",
              "              title=\"Convert this dataframe to an interactive table.\"\n",
              "              style=\"display:none;\">\n",
              "        \n",
              "  <svg xmlns=\"http://www.w3.org/2000/svg\" height=\"24px\"viewBox=\"0 0 24 24\"\n",
              "       width=\"24px\">\n",
              "    <path d=\"M0 0h24v24H0V0z\" fill=\"none\"/>\n",
              "    <path d=\"M18.56 5.44l.94 2.06.94-2.06 2.06-.94-2.06-.94-.94-2.06-.94 2.06-2.06.94zm-11 1L8.5 8.5l.94-2.06 2.06-.94-2.06-.94L8.5 2.5l-.94 2.06-2.06.94zm10 10l.94 2.06.94-2.06 2.06-.94-2.06-.94-.94-2.06-.94 2.06-2.06.94z\"/><path d=\"M17.41 7.96l-1.37-1.37c-.4-.4-.92-.59-1.43-.59-.52 0-1.04.2-1.43.59L10.3 9.45l-7.72 7.72c-.78.78-.78 2.05 0 2.83L4 21.41c.39.39.9.59 1.41.59.51 0 1.02-.2 1.41-.59l7.78-7.78 2.81-2.81c.8-.78.8-2.07 0-2.86zM5.41 20L4 18.59l7.72-7.72 1.47 1.35L5.41 20z\"/>\n",
              "  </svg>\n",
              "      </button>\n",
              "      \n",
              "  <style>\n",
              "    .colab-df-container {\n",
              "      display:flex;\n",
              "      flex-wrap:wrap;\n",
              "      gap: 12px;\n",
              "    }\n",
              "\n",
              "    .colab-df-convert {\n",
              "      background-color: #E8F0FE;\n",
              "      border: none;\n",
              "      border-radius: 50%;\n",
              "      cursor: pointer;\n",
              "      display: none;\n",
              "      fill: #1967D2;\n",
              "      height: 32px;\n",
              "      padding: 0 0 0 0;\n",
              "      width: 32px;\n",
              "    }\n",
              "\n",
              "    .colab-df-convert:hover {\n",
              "      background-color: #E2EBFA;\n",
              "      box-shadow: 0px 1px 2px rgba(60, 64, 67, 0.3), 0px 1px 3px 1px rgba(60, 64, 67, 0.15);\n",
              "      fill: #174EA6;\n",
              "    }\n",
              "\n",
              "    [theme=dark] .colab-df-convert {\n",
              "      background-color: #3B4455;\n",
              "      fill: #D2E3FC;\n",
              "    }\n",
              "\n",
              "    [theme=dark] .colab-df-convert:hover {\n",
              "      background-color: #434B5C;\n",
              "      box-shadow: 0px 1px 3px 1px rgba(0, 0, 0, 0.15);\n",
              "      filter: drop-shadow(0px 1px 2px rgba(0, 0, 0, 0.3));\n",
              "      fill: #FFFFFF;\n",
              "    }\n",
              "  </style>\n",
              "\n",
              "      <script>\n",
              "        const buttonEl =\n",
              "          document.querySelector('#df-edaf89d0-8fb7-4823-91dc-b99ca6efaf45 button.colab-df-convert');\n",
              "        buttonEl.style.display =\n",
              "          google.colab.kernel.accessAllowed ? 'block' : 'none';\n",
              "\n",
              "        async function convertToInteractive(key) {\n",
              "          const element = document.querySelector('#df-edaf89d0-8fb7-4823-91dc-b99ca6efaf45');\n",
              "          const dataTable =\n",
              "            await google.colab.kernel.invokeFunction('convertToInteractive',\n",
              "                                                     [key], {});\n",
              "          if (!dataTable) return;\n",
              "\n",
              "          const docLinkHtml = 'Like what you see? Visit the ' +\n",
              "            '<a target=\"_blank\" href=https://colab.research.google.com/notebooks/data_table.ipynb>data table notebook</a>'\n",
              "            + ' to learn more about interactive tables.';\n",
              "          element.innerHTML = '';\n",
              "          dataTable['output_type'] = 'display_data';\n",
              "          await google.colab.output.renderOutput(dataTable, element);\n",
              "          const docLink = document.createElement('div');\n",
              "          docLink.innerHTML = docLinkHtml;\n",
              "          element.appendChild(docLink);\n",
              "        }\n",
              "      </script>\n",
              "    </div>\n",
              "  </div>\n",
              "  "
            ]
          },
          "metadata": {},
          "execution_count": 132
        }
      ]
    },
    {
      "cell_type": "code",
      "source": [
        "#Plot of test values vs predicted values\n",
        "plt.subplot(6, 6, 1)\n",
        "plt.scatter(ytest1, y_pred1)\n",
        "\n",
        "#trial2 \n",
        "plt.subplot(6, 6, 2)\n",
        "plt.scatter(ytest2, y_pred2)\n",
        "\n",
        "#trail 3 \n",
        "plt.subplot(6, 6, 3)\n",
        "plt.scatter(ytest3, y_pred3)\n",
        "\n",
        "#trial 4 \n",
        "plt.subplot(6, 6, 4)\n",
        "plt.scatter(ytest4, y_pred4)\n",
        "\n",
        "#trial 5\n",
        "plt.subplot(6, 6, 5)\n",
        "plt.scatter(ytest5, y_pred5)\n",
        "\n",
        "#trial 6\n",
        "plt.subplot(6, 6, 6)\n",
        "plt.scatter(ytest6, y_pred6)\n",
        "\n",
        "#trial 7\n",
        "plt.subplot(6, 6, 7)\n",
        "plt.scatter(ytest7, y_pred7)\n",
        "\n",
        "#trial 8\n",
        "plt.subplot(6, 6, 8)\n",
        "plt.scatter(ytest8, y_pred8)\n",
        "\n",
        "#trial 9\n",
        "plt.subplot(6, 6, 9)\n",
        "plt.scatter(ytest9, y_pred9)\n",
        "\n",
        "#trial 10\n",
        "plt.subplot(6, 6, 10)\n",
        "plt.scatter(ytest10, y_pred10)\n",
        "\n",
        "#trial 11\n",
        "plt.subplot(6, 6, 11)\n",
        "plt.scatter(ytest11, y_pred11)\n",
        " \n",
        "plt.suptitle(\"Y test vs Y Predicted\")\n",
        "plt.show()"
      ],
      "metadata": {
        "id": "6473nXNiy7ic",
        "colab": {
          "base_uri": "https://localhost:8080/",
          "height": 145
        },
        "outputId": "7b367bd7-5e5c-4a0e-e59d-4348f8ab6e1f"
      },
      "execution_count": 135,
      "outputs": [
        {
          "output_type": "display_data",
          "data": {
            "text/plain": [
              "<Figure size 432x288 with 11 Axes>"
            ],
            "image/png": "[encoded data removed]"
          },
          "metadata": {
            "needs_background": "light"
          }
        }
      ]
    },
    {
      "cell_type": "code",
      "source": [
        ""
      ],
      "metadata": {
        "id": "pKI2H9gyXTDT"
      },
      "execution_count": null,
      "outputs": []
    }
  ]
}