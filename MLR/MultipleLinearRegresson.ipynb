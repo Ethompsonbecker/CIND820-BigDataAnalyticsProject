{
  "nbformat": 4,
  "nbformat_minor": 0,
  "metadata": {
    "colab": {
      "name": "MultipleLinearRegresson.ipynb",
      "provenance": [],
      "collapsed_sections": []
    },
    "kernelspec": {
      "name": "python3",
      "display_name": "Python 3"
    },
    "language_info": {
      "name": "python"
    }
  },
  "cells": [
    {
      "cell_type": "markdown",
      "source": [
        "# Multiple Linear Regression Analysis\n",
        "\n",
        "Author: E. Thompson-Becker\n"
      ],
      "metadata": {
        "id": "FMNvhtD5M8Is"
      }
    },
    {
      "cell_type": "code",
      "execution_count": 180,
      "metadata": {
        "id": "HLjFl2nm74Gw"
      },
      "outputs": [],
      "source": [
        "import pandas as pd\n",
        "import numpy as np\n",
        "import matplotlib.pyplot as plt\n",
        "import seaborn as sns\n",
        "import sklearn.linear_model as lm\n",
        "from sklearn import metrics\n",
        "import statsmodels.api as sm\n",
        "import matplotlib.pyplot as plt"
      ]
    },
    {
      "cell_type": "code",
      "source": [
        "#load the csv file \n",
        "data = pd.read_csv(\"Shunyi-data_norm-py.csv\")"
      ],
      "metadata": {
        "id": "jNz0ErBs78gd"
      },
      "execution_count": 181,
      "outputs": []
    },
    {
      "cell_type": "code",
      "source": [
        "#check the first 6 rows of the data set\n",
        "data.head()"
      ],
      "metadata": {
        "colab": {
          "base_uri": "https://localhost:8080/",
          "height": 206
        },
        "id": "bjchRwvq8Gye",
        "outputId": "04517bef-b749-4090-f8af-762c073e4c01"
      },
      "execution_count": 182,
      "outputs": [
        {
          "output_type": "execute_result",
          "data": {
            "text/plain": [
              "   Unnamed: 0        date  hour      PM25      PM10       SO2       NO2  \\\n",
              "0           0  2013-03-01     0  0.001065  0.004012  0.011371  0.023438   \n",
              "1           1  2013-03-01     1  0.010650  0.010030  0.011371  0.019531   \n",
              "2           2  2013-03-01     2  0.012780  0.012036  0.011371  0.019531   \n",
              "3           3  2013-03-01     3  0.010650  0.010030  0.011371  0.011719   \n",
              "4           4  2013-03-01     4  0.010650  0.010030  0.011371  0.011719   \n",
              "\n",
              "         CO        O3      TEMP      PRES      DEWP  RAIN      WSPM  year  \\\n",
              "0  0.020202  0.124568  0.277003  0.689781  0.244094   0.0  0.726562  2013   \n",
              "1  0.020202  0.133102  0.273519  0.695255  0.231496   0.0  0.734375  2013   \n",
              "2  0.010101  0.061979  0.263066  0.697080  0.204724   0.0  0.671875  2013   \n",
              "3  0.010101  0.061979  0.256098  0.717153  0.200000   0.0  0.515625  2013   \n",
              "4  0.010101  0.030685  0.250871  0.724453  0.206299   0.0  0.351562  2013   \n",
              "\n",
              "  month  \n",
              "0   Mar  \n",
              "1   Mar  \n",
              "2   Mar  \n",
              "3   Mar  \n",
              "4   Mar  "
            ],
            "text/html": [
              "\n",
              "  <div id=\"df-93b5e04e-0c5d-4051-bc5c-e519d0d0fc0a\">\n",
              "    <div class=\"colab-df-container\">\n",
              "      <div>\n",
              "<style scoped>\n",
              "    .dataframe tbody tr th:only-of-type {\n",
              "        vertical-align: middle;\n",
              "    }\n",
              "\n",
              "    .dataframe tbody tr th {\n",
              "        vertical-align: top;\n",
              "    }\n",
              "\n",
              "    .dataframe thead th {\n",
              "        text-align: right;\n",
              "    }\n",
              "</style>\n",
              "<table border=\"1\" class=\"dataframe\">\n",
              "  <thead>\n",
              "    <tr style=\"text-align: right;\">\n",
              "      <th></th>\n",
              "      <th>Unnamed: 0</th>\n",
              "      <th>date</th>\n",
              "      <th>hour</th>\n",
              "      <th>PM25</th>\n",
              "      <th>PM10</th>\n",
              "      <th>SO2</th>\n",
              "      <th>NO2</th>\n",
              "      <th>CO</th>\n",
              "      <th>O3</th>\n",
              "      <th>TEMP</th>\n",
              "      <th>PRES</th>\n",
              "      <th>DEWP</th>\n",
              "      <th>RAIN</th>\n",
              "      <th>WSPM</th>\n",
              "      <th>year</th>\n",
              "      <th>month</th>\n",
              "    </tr>\n",
              "  </thead>\n",
              "  <tbody>\n",
              "    <tr>\n",
              "      <th>0</th>\n",
              "      <td>0</td>\n",
              "      <td>2013-03-01</td>\n",
              "      <td>0</td>\n",
              "      <td>0.001065</td>\n",
              "      <td>0.004012</td>\n",
              "      <td>0.011371</td>\n",
              "      <td>0.023438</td>\n",
              "      <td>0.020202</td>\n",
              "      <td>0.124568</td>\n",
              "      <td>0.277003</td>\n",
              "      <td>0.689781</td>\n",
              "      <td>0.244094</td>\n",
              "      <td>0.0</td>\n",
              "      <td>0.726562</td>\n",
              "      <td>2013</td>\n",
              "      <td>Mar</td>\n",
              "    </tr>\n",
              "    <tr>\n",
              "      <th>1</th>\n",
              "      <td>1</td>\n",
              "      <td>2013-03-01</td>\n",
              "      <td>1</td>\n",
              "      <td>0.010650</td>\n",
              "      <td>0.010030</td>\n",
              "      <td>0.011371</td>\n",
              "      <td>0.019531</td>\n",
              "      <td>0.020202</td>\n",
              "      <td>0.133102</td>\n",
              "      <td>0.273519</td>\n",
              "      <td>0.695255</td>\n",
              "      <td>0.231496</td>\n",
              "      <td>0.0</td>\n",
              "      <td>0.734375</td>\n",
              "      <td>2013</td>\n",
              "      <td>Mar</td>\n",
              "    </tr>\n",
              "    <tr>\n",
              "      <th>2</th>\n",
              "      <td>2</td>\n",
              "      <td>2013-03-01</td>\n",
              "      <td>2</td>\n",
              "      <td>0.012780</td>\n",
              "      <td>0.012036</td>\n",
              "      <td>0.011371</td>\n",
              "      <td>0.019531</td>\n",
              "      <td>0.010101</td>\n",
              "      <td>0.061979</td>\n",
              "      <td>0.263066</td>\n",
              "      <td>0.697080</td>\n",
              "      <td>0.204724</td>\n",
              "      <td>0.0</td>\n",
              "      <td>0.671875</td>\n",
              "      <td>2013</td>\n",
              "      <td>Mar</td>\n",
              "    </tr>\n",
              "    <tr>\n",
              "      <th>3</th>\n",
              "      <td>3</td>\n",
              "      <td>2013-03-01</td>\n",
              "      <td>3</td>\n",
              "      <td>0.010650</td>\n",
              "      <td>0.010030</td>\n",
              "      <td>0.011371</td>\n",
              "      <td>0.011719</td>\n",
              "      <td>0.010101</td>\n",
              "      <td>0.061979</td>\n",
              "      <td>0.256098</td>\n",
              "      <td>0.717153</td>\n",
              "      <td>0.200000</td>\n",
              "      <td>0.0</td>\n",
              "      <td>0.515625</td>\n",
              "      <td>2013</td>\n",
              "      <td>Mar</td>\n",
              "    </tr>\n",
              "    <tr>\n",
              "      <th>4</th>\n",
              "      <td>4</td>\n",
              "      <td>2013-03-01</td>\n",
              "      <td>4</td>\n",
              "      <td>0.010650</td>\n",
              "      <td>0.010030</td>\n",
              "      <td>0.011371</td>\n",
              "      <td>0.011719</td>\n",
              "      <td>0.010101</td>\n",
              "      <td>0.030685</td>\n",
              "      <td>0.250871</td>\n",
              "      <td>0.724453</td>\n",
              "      <td>0.206299</td>\n",
              "      <td>0.0</td>\n",
              "      <td>0.351562</td>\n",
              "      <td>2013</td>\n",
              "      <td>Mar</td>\n",
              "    </tr>\n",
              "  </tbody>\n",
              "</table>\n",
              "</div>\n",
              "      <button class=\"colab-df-convert\" onclick=\"convertToInteractive('df-93b5e04e-0c5d-4051-bc5c-e519d0d0fc0a')\"\n",
              "              title=\"Convert this dataframe to an interactive table.\"\n",
              "              style=\"display:none;\">\n",
              "        \n",
              "  <svg xmlns=\"http://www.w3.org/2000/svg\" height=\"24px\"viewBox=\"0 0 24 24\"\n",
              "       width=\"24px\">\n",
              "    <path d=\"M0 0h24v24H0V0z\" fill=\"none\"/>\n",
              "    <path d=\"M18.56 5.44l.94 2.06.94-2.06 2.06-.94-2.06-.94-.94-2.06-.94 2.06-2.06.94zm-11 1L8.5 8.5l.94-2.06 2.06-.94-2.06-.94L8.5 2.5l-.94 2.06-2.06.94zm10 10l.94 2.06.94-2.06 2.06-.94-2.06-.94-.94-2.06-.94 2.06-2.06.94z\"/><path d=\"M17.41 7.96l-1.37-1.37c-.4-.4-.92-.59-1.43-.59-.52 0-1.04.2-1.43.59L10.3 9.45l-7.72 7.72c-.78.78-.78 2.05 0 2.83L4 21.41c.39.39.9.59 1.41.59.51 0 1.02-.2 1.41-.59l7.78-7.78 2.81-2.81c.8-.78.8-2.07 0-2.86zM5.41 20L4 18.59l7.72-7.72 1.47 1.35L5.41 20z\"/>\n",
              "  </svg>\n",
              "      </button>\n",
              "      \n",
              "  <style>\n",
              "    .colab-df-container {\n",
              "      display:flex;\n",
              "      flex-wrap:wrap;\n",
              "      gap: 12px;\n",
              "    }\n",
              "\n",
              "    .colab-df-convert {\n",
              "      background-color: #E8F0FE;\n",
              "      border: none;\n",
              "      border-radius: 50%;\n",
              "      cursor: pointer;\n",
              "      display: none;\n",
              "      fill: #1967D2;\n",
              "      height: 32px;\n",
              "      padding: 0 0 0 0;\n",
              "      width: 32px;\n",
              "    }\n",
              "\n",
              "    .colab-df-convert:hover {\n",
              "      background-color: #E2EBFA;\n",
              "      box-shadow: 0px 1px 2px rgba(60, 64, 67, 0.3), 0px 1px 3px 1px rgba(60, 64, 67, 0.15);\n",
              "      fill: #174EA6;\n",
              "    }\n",
              "\n",
              "    [theme=dark] .colab-df-convert {\n",
              "      background-color: #3B4455;\n",
              "      fill: #D2E3FC;\n",
              "    }\n",
              "\n",
              "    [theme=dark] .colab-df-convert:hover {\n",
              "      background-color: #434B5C;\n",
              "      box-shadow: 0px 1px 3px 1px rgba(0, 0, 0, 0.15);\n",
              "      filter: drop-shadow(0px 1px 2px rgba(0, 0, 0, 0.3));\n",
              "      fill: #FFFFFF;\n",
              "    }\n",
              "  </style>\n",
              "\n",
              "      <script>\n",
              "        const buttonEl =\n",
              "          document.querySelector('#df-93b5e04e-0c5d-4051-bc5c-e519d0d0fc0a button.colab-df-convert');\n",
              "        buttonEl.style.display =\n",
              "          google.colab.kernel.accessAllowed ? 'block' : 'none';\n",
              "\n",
              "        async function convertToInteractive(key) {\n",
              "          const element = document.querySelector('#df-93b5e04e-0c5d-4051-bc5c-e519d0d0fc0a');\n",
              "          const dataTable =\n",
              "            await google.colab.kernel.invokeFunction('convertToInteractive',\n",
              "                                                     [key], {});\n",
              "          if (!dataTable) return;\n",
              "\n",
              "          const docLinkHtml = 'Like what you see? Visit the ' +\n",
              "            '<a target=\"_blank\" href=https://colab.research.google.com/notebooks/data_table.ipynb>data table notebook</a>'\n",
              "            + ' to learn more about interactive tables.';\n",
              "          element.innerHTML = '';\n",
              "          dataTable['output_type'] = 'display_data';\n",
              "          await google.colab.output.renderOutput(dataTable, element);\n",
              "          const docLink = document.createElement('div');\n",
              "          docLink.innerHTML = docLinkHtml;\n",
              "          element.appendChild(docLink);\n",
              "        }\n",
              "      </script>\n",
              "    </div>\n",
              "  </div>\n",
              "  "
            ]
          },
          "metadata": {},
          "execution_count": 182
        }
      ]
    },
    {
      "cell_type": "markdown",
      "source": [
        "# Multiple Linear Regression \n",
        "\n",
        "Includes all independent variables: SO2, NO2, CO, O3, TEMP, PRES, DEWP, RAIN and WSPM"
      ],
      "metadata": {
        "id": "ArRBMwMLNB4l"
      }
    },
    {
      "cell_type": "code",
      "source": [
        "#setting the independent and dependent variables\n",
        "x = data[['SO2', 'NO2','CO','O3','TEMP','PRES','DEWP','RAIN','WSPM']]\n",
        "y = data['PM25']"
      ],
      "metadata": {
        "id": "Jm3tP4769BOg"
      },
      "execution_count": 183,
      "outputs": []
    },
    {
      "cell_type": "code",
      "source": [
        "#use training and test sets found in initial analysis\n",
        "#based on testing 3 months of data at a time\n",
        "#describing the independent variable \n",
        "xtrain1, xtest1 = data.iloc[:2922,5:14 ], data.iloc[2922:5844, 5:14]\n",
        "xtrain2, xtest2 = data.iloc[:5844,5:14 ], data.iloc[5844:8766,5:14 ]\n",
        "xtrain3, xtest3 = data.iloc[:8766,5:14 ], data.iloc[8766:11688,5:14 ]\n",
        "xtrain4, xtest4 = data.iloc[:11688,5:14 ], data.iloc[11688:14610,5:14 ]\n",
        "xtrain5, xtest5 = data.iloc[:14610,5:14 ], data.iloc[14610:17532,5:14 ]\n",
        "xtrain6, xtest6 = data.iloc[:17532,5:14 ], data.iloc[17532:20454,5:14 ]\n",
        "xtrain7, xtest7 = data.iloc[:20454,5:14 ], data.iloc[20454:23376,5:14 ]\n",
        "xtrain8, xtest8 = data.iloc[:23376,5:14 ], data.iloc[23376:26298,5:14 ]\n",
        "xtrain9, xtest9 = data.iloc[:26298,5:14 ], data.iloc[26298:29220,5:14 ]\n",
        "xtrain10, xtest10 = data.iloc[:29220,5:14 ], data.iloc[29220:32142,5:14 ]\n",
        "xtrain11, xtest11 = data.iloc[:32142,5:14 ], data.iloc[32142:35063,5:14 ]\n",
        "\n",
        "#setting the dependent variable\n",
        "ytrain1, ytest1 = data.iloc[:2922,3 ], data.iloc[2922:5844,3 ]\n",
        "ytrain2, ytest2 = data.iloc[:5844, 3], data.iloc[5844:8766, 3]\n",
        "ytrain3, ytest3 = data.iloc[:8766,3 ], data.iloc[8766:11688, 3]\n",
        "ytrain4, ytest4 = data.iloc[:11688,3 ], data.iloc[11688:14610,3 ]\n",
        "ytrain5, ytest5 = data.iloc[:14610,3 ], data.iloc[14610:17532, 3]\n",
        "ytrain6, ytest6 = data.iloc[:17532,3 ], data.iloc[17532:20454,3 ]\n",
        "ytrain7, ytest7 = data.iloc[:20454,3 ], data.iloc[20454:23376,3 ]\n",
        "ytrain8, ytest8 = data.iloc[:23376,3 ], data.iloc[23376:26298,3 ]\n",
        "ytrain9, ytest9 = data.iloc[:26298, 3], data.iloc[26298:29220,3 ]\n",
        "ytrain10, ytest10 = data.iloc[:29220,3 ], data.iloc[29220:32142,3 ]\n",
        "ytrain11, ytest11 = data.iloc[:32142,3 ], data.iloc[32142:35063, 3]"
      ],
      "metadata": {
        "id": "v-_3rpK09p9F"
      },
      "execution_count": 184,
      "outputs": []
    },
    {
      "cell_type": "code",
      "source": [
        "#fitting multiple linear regression model\n",
        "MLR1 = lm.LinearRegression()\n",
        "MLR1.fit(xtrain1,ytrain1)"
      ],
      "metadata": {
        "colab": {
          "base_uri": "https://localhost:8080/"
        },
        "id": "RqrlgaoX90Oi",
        "outputId": "742dc0af-1864-4c4b-a81f-c180606956bb"
      },
      "execution_count": 185,
      "outputs": [
        {
          "output_type": "execute_result",
          "data": {
            "text/plain": [
              "LinearRegression()"
            ]
          },
          "metadata": {},
          "execution_count": 185
        }
      ]
    },
    {
      "cell_type": "code",
      "source": [
        "\n",
        "#Intercept and Coefficient\n",
        "print(\"Intercept: \", MLR1.intercept_)\n",
        "print(\"Coefficients:\")\n",
        "list(zip(x, MLR1.coef_))"
      ],
      "metadata": {
        "colab": {
          "base_uri": "https://localhost:8080/"
        },
        "id": "ENZmse0o_Lue",
        "outputId": "840a7fa2-1d05-409b-d7ac-2f6f81adfa8f"
      },
      "execution_count": 186,
      "outputs": [
        {
          "output_type": "stream",
          "name": "stdout",
          "text": [
            "Intercept:  -0.042698903335454494\n",
            "Coefficients:\n"
          ]
        },
        {
          "output_type": "execute_result",
          "data": {
            "text/plain": [
              "[('SO2', 0.009997288470974908),\n",
              " ('NO2', 0.19635815107829602),\n",
              " ('CO', 0.4690314617106446),\n",
              " ('O3', 0.09856836326689226),\n",
              " ('TEMP', -0.11050794900706234),\n",
              " ('PRES', -0.025929495559120753),\n",
              " ('DEWP', 0.15297143785080394),\n",
              " ('RAIN', 0.025497324650399788),\n",
              " ('WSPM', 0.03229027428591337)]"
            ]
          },
          "metadata": {},
          "execution_count": 186
        }
      ]
    },
    {
      "cell_type": "code",
      "source": [
        "#Prediction of test set\n",
        "y_pred_MLR1= MLR1.predict(xtest1)\n",
        "#Predicted values\n",
        "print(\"Prediction for test set: {}\".format(y_pred_MLR1))\n"
      ],
      "metadata": {
        "colab": {
          "base_uri": "https://localhost:8080/"
        },
        "id": "c2r2JZ9x_IE8",
        "outputId": "0e45d945-2a50-49ee-a3e3-9552b94c2d0c"
      },
      "execution_count": 187,
      "outputs": [
        {
          "output_type": "stream",
          "name": "stdout",
          "text": [
            "Prediction for test set: [0.14960015 0.16332688 0.16115601 ... 0.04617094 0.01987207 0.02069706]\n"
          ]
        }
      ]
    },
    {
      "cell_type": "code",
      "source": [
        "#Actual value and the predicted value\n",
        "MLR1_diff = pd.DataFrame({'Actual value': ytest1, 'Predicted value': y_pred_MLR1})\n",
        "MLR1_diff"
      ],
      "metadata": {
        "colab": {
          "base_uri": "https://localhost:8080/",
          "height": 424
        },
        "id": "WKVVQyBM_D9b",
        "outputId": "fc52771e-00fa-4ced-ecea-88b6a0c4eb3f"
      },
      "execution_count": 188,
      "outputs": [
        {
          "output_type": "execute_result",
          "data": {
            "text/plain": [
              "      Actual value  Predicted value\n",
              "2922      0.200213         0.149600\n",
              "2923      0.241747         0.163327\n",
              "2924      0.279020         0.161156\n",
              "2925      0.279020         0.150969\n",
              "2926      0.236422         0.119996\n",
              "...            ...              ...\n",
              "5839      0.019169         0.037791\n",
              "5840      0.007455         0.038219\n",
              "5841      0.033014         0.046171\n",
              "5842      0.027689         0.019872\n",
              "5843      0.027689         0.020697\n",
              "\n",
              "[2922 rows x 2 columns]"
            ],
            "text/html": [
              "\n",
              "  <div id=\"df-9f8be4cb-7637-4485-80df-1165fe837d42\">\n",
              "    <div class=\"colab-df-container\">\n",
              "      <div>\n",
              "<style scoped>\n",
              "    .dataframe tbody tr th:only-of-type {\n",
              "        vertical-align: middle;\n",
              "    }\n",
              "\n",
              "    .dataframe tbody tr th {\n",
              "        vertical-align: top;\n",
              "    }\n",
              "\n",
              "    .dataframe thead th {\n",
              "        text-align: right;\n",
              "    }\n",
              "</style>\n",
              "<table border=\"1\" class=\"dataframe\">\n",
              "  <thead>\n",
              "    <tr style=\"text-align: right;\">\n",
              "      <th></th>\n",
              "      <th>Actual value</th>\n",
              "      <th>Predicted value</th>\n",
              "    </tr>\n",
              "  </thead>\n",
              "  <tbody>\n",
              "    <tr>\n",
              "      <th>2922</th>\n",
              "      <td>0.200213</td>\n",
              "      <td>0.149600</td>\n",
              "    </tr>\n",
              "    <tr>\n",
              "      <th>2923</th>\n",
              "      <td>0.241747</td>\n",
              "      <td>0.163327</td>\n",
              "    </tr>\n",
              "    <tr>\n",
              "      <th>2924</th>\n",
              "      <td>0.279020</td>\n",
              "      <td>0.161156</td>\n",
              "    </tr>\n",
              "    <tr>\n",
              "      <th>2925</th>\n",
              "      <td>0.279020</td>\n",
              "      <td>0.150969</td>\n",
              "    </tr>\n",
              "    <tr>\n",
              "      <th>2926</th>\n",
              "      <td>0.236422</td>\n",
              "      <td>0.119996</td>\n",
              "    </tr>\n",
              "    <tr>\n",
              "      <th>...</th>\n",
              "      <td>...</td>\n",
              "      <td>...</td>\n",
              "    </tr>\n",
              "    <tr>\n",
              "      <th>5839</th>\n",
              "      <td>0.019169</td>\n",
              "      <td>0.037791</td>\n",
              "    </tr>\n",
              "    <tr>\n",
              "      <th>5840</th>\n",
              "      <td>0.007455</td>\n",
              "      <td>0.038219</td>\n",
              "    </tr>\n",
              "    <tr>\n",
              "      <th>5841</th>\n",
              "      <td>0.033014</td>\n",
              "      <td>0.046171</td>\n",
              "    </tr>\n",
              "    <tr>\n",
              "      <th>5842</th>\n",
              "      <td>0.027689</td>\n",
              "      <td>0.019872</td>\n",
              "    </tr>\n",
              "    <tr>\n",
              "      <th>5843</th>\n",
              "      <td>0.027689</td>\n",
              "      <td>0.020697</td>\n",
              "    </tr>\n",
              "  </tbody>\n",
              "</table>\n",
              "<p>2922 rows × 2 columns</p>\n",
              "</div>\n",
              "      <button class=\"colab-df-convert\" onclick=\"convertToInteractive('df-9f8be4cb-7637-4485-80df-1165fe837d42')\"\n",
              "              title=\"Convert this dataframe to an interactive table.\"\n",
              "              style=\"display:none;\">\n",
              "        \n",
              "  <svg xmlns=\"http://www.w3.org/2000/svg\" height=\"24px\"viewBox=\"0 0 24 24\"\n",
              "       width=\"24px\">\n",
              "    <path d=\"M0 0h24v24H0V0z\" fill=\"none\"/>\n",
              "    <path d=\"M18.56 5.44l.94 2.06.94-2.06 2.06-.94-2.06-.94-.94-2.06-.94 2.06-2.06.94zm-11 1L8.5 8.5l.94-2.06 2.06-.94-2.06-.94L8.5 2.5l-.94 2.06-2.06.94zm10 10l.94 2.06.94-2.06 2.06-.94-2.06-.94-.94-2.06-.94 2.06-2.06.94z\"/><path d=\"M17.41 7.96l-1.37-1.37c-.4-.4-.92-.59-1.43-.59-.52 0-1.04.2-1.43.59L10.3 9.45l-7.72 7.72c-.78.78-.78 2.05 0 2.83L4 21.41c.39.39.9.59 1.41.59.51 0 1.02-.2 1.41-.59l7.78-7.78 2.81-2.81c.8-.78.8-2.07 0-2.86zM5.41 20L4 18.59l7.72-7.72 1.47 1.35L5.41 20z\"/>\n",
              "  </svg>\n",
              "      </button>\n",
              "      \n",
              "  <style>\n",
              "    .colab-df-container {\n",
              "      display:flex;\n",
              "      flex-wrap:wrap;\n",
              "      gap: 12px;\n",
              "    }\n",
              "\n",
              "    .colab-df-convert {\n",
              "      background-color: #E8F0FE;\n",
              "      border: none;\n",
              "      border-radius: 50%;\n",
              "      cursor: pointer;\n",
              "      display: none;\n",
              "      fill: #1967D2;\n",
              "      height: 32px;\n",
              "      padding: 0 0 0 0;\n",
              "      width: 32px;\n",
              "    }\n",
              "\n",
              "    .colab-df-convert:hover {\n",
              "      background-color: #E2EBFA;\n",
              "      box-shadow: 0px 1px 2px rgba(60, 64, 67, 0.3), 0px 1px 3px 1px rgba(60, 64, 67, 0.15);\n",
              "      fill: #174EA6;\n",
              "    }\n",
              "\n",
              "    [theme=dark] .colab-df-convert {\n",
              "      background-color: #3B4455;\n",
              "      fill: #D2E3FC;\n",
              "    }\n",
              "\n",
              "    [theme=dark] .colab-df-convert:hover {\n",
              "      background-color: #434B5C;\n",
              "      box-shadow: 0px 1px 3px 1px rgba(0, 0, 0, 0.15);\n",
              "      filter: drop-shadow(0px 1px 2px rgba(0, 0, 0, 0.3));\n",
              "      fill: #FFFFFF;\n",
              "    }\n",
              "  </style>\n",
              "\n",
              "      <script>\n",
              "        const buttonEl =\n",
              "          document.querySelector('#df-9f8be4cb-7637-4485-80df-1165fe837d42 button.colab-df-convert');\n",
              "        buttonEl.style.display =\n",
              "          google.colab.kernel.accessAllowed ? 'block' : 'none';\n",
              "\n",
              "        async function convertToInteractive(key) {\n",
              "          const element = document.querySelector('#df-9f8be4cb-7637-4485-80df-1165fe837d42');\n",
              "          const dataTable =\n",
              "            await google.colab.kernel.invokeFunction('convertToInteractive',\n",
              "                                                     [key], {});\n",
              "          if (!dataTable) return;\n",
              "\n",
              "          const docLinkHtml = 'Like what you see? Visit the ' +\n",
              "            '<a target=\"_blank\" href=https://colab.research.google.com/notebooks/data_table.ipynb>data table notebook</a>'\n",
              "            + ' to learn more about interactive tables.';\n",
              "          element.innerHTML = '';\n",
              "          dataTable['output_type'] = 'display_data';\n",
              "          await google.colab.output.renderOutput(dataTable, element);\n",
              "          const docLink = document.createElement('div');\n",
              "          docLink.innerHTML = docLinkHtml;\n",
              "          element.appendChild(docLink);\n",
              "        }\n",
              "      </script>\n",
              "    </div>\n",
              "  </div>\n",
              "  "
            ]
          },
          "metadata": {},
          "execution_count": 188
        }
      ]
    },
    {
      "cell_type": "code",
      "source": [
        "#use evaluation metrics to check if the regression fits \n",
        "meanAbErr1 = metrics.mean_absolute_error(ytest1, y_pred_MLR1)\n",
        "meanSqErr1 = metrics.mean_squared_error(ytest1, y_pred_MLR1)\n",
        "rootMeanSqErr1 = np.sqrt(metrics.mean_squared_error(ytest1, y_pred_MLR1))\n",
        "meanAbsPer1 = metrics.mean_absolute_percentage_error(ytest1, y_pred_MLR1)\n",
        "print('R squared: {:.2f}'.format(MLR1.score(x,y)*100))\n",
        "print('Mean Absolute Error:', meanAbErr1)\n",
        "print('Mean Absolute Percentage Error: {:.2f}'.format(meanAbsPer1))\n",
        "print('Mean Square Error:', meanSqErr1)\n",
        "print('Root Mean Square Error:', rootMeanSqErr1)"
      ],
      "metadata": {
        "colab": {
          "base_uri": "https://localhost:8080/"
        },
        "id": "58aE7hkF-HiI",
        "outputId": "b2fc7786-0ebe-429c-d83a-c8e680354b61"
      },
      "execution_count": 189,
      "outputs": [
        {
          "output_type": "stream",
          "name": "stdout",
          "text": [
            "R squared: 64.59\n",
            "Mean Absolute Error: 0.04775074542723052\n",
            "Mean Absolute Percentage Error: 2.69\n",
            "Mean Square Error: 0.0037376316138666697\n",
            "Root Mean Square Error: 0.06113617271196055\n"
          ]
        }
      ]
    },
    {
      "cell_type": "code",
      "source": [
        "## repeat the above steps 11 times for each test set\n",
        "\n",
        "#fitting multiple linear regression model\n",
        "MLR2 = lm.LinearRegression()\n",
        "MLR2.fit(xtrain2,ytrain2)\n",
        "\n",
        "#fitting multiple linear regression model\n",
        "MLR3 = lm.LinearRegression()\n",
        "MLR3.fit(xtrain3,ytrain3)\n",
        "\n",
        "#fitting multiple linear regression model\n",
        "MLR4 = lm.LinearRegression()\n",
        "MLR4.fit(xtrain4,ytrain4)\n",
        "\n",
        "#fitting multiple linear regression model\n",
        "MLR5 = lm.LinearRegression()\n",
        "MLR5.fit(xtrain5,ytrain5)\n",
        "\n",
        "#fitting multiple linear regression model\n",
        "MLR6 = lm.LinearRegression()\n",
        "MLR6.fit(xtrain6,ytrain6)\n",
        "\n",
        "#fitting multiple linear regression model\n",
        "MLR7 = lm.LinearRegression()\n",
        "MLR7.fit(xtrain7,ytrain7)\n",
        "\n",
        "#fitting multiple linear regression model\n",
        "MLR8 = lm.LinearRegression()\n",
        "MLR8.fit(xtrain8,ytrain8)\n",
        "\n",
        "#fitting multiple linear regression model\n",
        "MLR9 = lm.LinearRegression()\n",
        "MLR9.fit(xtrain9,ytrain9)\n",
        "\n",
        "#fitting multiple linear regression model\n",
        "MLR10 = lm.LinearRegression()\n",
        "MLR10.fit(xtrain10,ytrain10)\n",
        "\n",
        "#fitting multiple linear regression model\n",
        "MLR11 = lm.LinearRegression()\n",
        "MLR11.fit(xtrain11,ytrain11)\n"
      ],
      "metadata": {
        "colab": {
          "base_uri": "https://localhost:8080/"
        },
        "id": "oLaupZZV--Dp",
        "outputId": "86d0fa58-f63c-429d-cc93-18fcff049367"
      },
      "execution_count": 190,
      "outputs": [
        {
          "output_type": "execute_result",
          "data": {
            "text/plain": [
              "LinearRegression()"
            ]
          },
          "metadata": {},
          "execution_count": 190
        }
      ]
    },
    {
      "cell_type": "code",
      "source": [
        "#Prediction of test set\n",
        "y_pred_MLR2= MLR2.predict(xtest2)\n",
        "#Prediction of test set\n",
        "y_pred_MLR3= MLR3.predict(xtest3)\n",
        "#Prediction of test set\n",
        "y_pred_MLR4= MLR4.predict(xtest4)\n",
        "#Prediction of test set\n",
        "y_pred_MLR5= MLR5.predict(xtest5)\n",
        "#Prediction of test set\n",
        "y_pred_MLR6= MLR6.predict(xtest6)\n",
        "#Prediction of test set\n",
        "y_pred_MLR7= MLR7.predict(xtest7)\n",
        "#Prediction of test set\n",
        "y_pred_MLR8= MLR8.predict(xtest8)\n",
        "#Prediction of test set\n",
        "y_pred_MLR9= MLR9.predict(xtest9)\n",
        "#Prediction of test set\n",
        "y_pred_MLR10= MLR1.predict(xtest10)\n",
        "#Prediction of test set\n",
        "y_pred_MLR11= MLR11.predict(xtest11)"
      ],
      "metadata": {
        "id": "_20wtx_nEe3C"
      },
      "execution_count": 191,
      "outputs": []
    },
    {
      "cell_type": "code",
      "source": [
        "#calculate the evaluation matrix for each trial\n",
        "#trial 2\n",
        "meanAbErr2 = metrics.mean_absolute_error(ytest2, y_pred_MLR2)\n",
        "meanSqErr2 = metrics.mean_squared_error(ytest2, y_pred_MLR2)\n",
        "rootMeanSqErr2 = np.sqrt(metrics.mean_squared_error(ytest2, y_pred_MLR2))\n",
        "meanAbsPer2 = metrics.mean_absolute_percentage_error(ytest2, y_pred_MLR2)\n",
        "print('2:R squared: {:.2f}'.format(MLR2.score(x,y)*100))\n",
        "\n",
        "#trial 3\n",
        "meanAbErr3 = metrics.mean_absolute_error(ytest3, y_pred_MLR3)\n",
        "meanSqErr3 = metrics.mean_squared_error(ytest3, y_pred_MLR3)\n",
        "rootMeanSqErr3 = np.sqrt(metrics.mean_squared_error(ytest3, y_pred_MLR3))\n",
        "meanAbsPer3 = metrics.mean_absolute_percentage_error(ytest3, y_pred_MLR3)\n",
        "print('3:R squared: {:.2f}'.format(MLR3.score(x,y)*100))\n",
        "\n",
        "#trial 4\n",
        "meanAbErr4 = metrics.mean_absolute_error(ytest4, y_pred_MLR4)\n",
        "meanSqErr4 = metrics.mean_squared_error(ytest4, y_pred_MLR4)\n",
        "rootMeanSqErr4 = np.sqrt(metrics.mean_squared_error(ytest4, y_pred_MLR4))\n",
        "meanAbsPer4 = metrics.mean_absolute_percentage_error(ytest4, y_pred_MLR4)\n",
        "print('4:R squared: {:.2f}'.format(MLR4.score(x,y)*100))\n",
        "\n",
        "#trial 5\n",
        "meanAbErr5 = metrics.mean_absolute_error(ytest5, y_pred_MLR5)\n",
        "meanSqErr5 = metrics.mean_squared_error(ytest5, y_pred_MLR5)\n",
        "rootMeanSqErr5 = np.sqrt(metrics.mean_squared_error(ytest5, y_pred_MLR5))\n",
        "meanAbsPer5 = metrics.mean_absolute_percentage_error(ytest5, y_pred_MLR5)\n",
        "print('5:R squared: {:.2f}'.format(MLR5.score(x,y)*100))\n",
        "\n",
        "#trial 6\n",
        "meanAbErr6 = metrics.mean_absolute_error(ytest6, y_pred_MLR6)\n",
        "meanSqErr6 = metrics.mean_squared_error(ytest6, y_pred_MLR6)\n",
        "rootMeanSqErr6 = np.sqrt(metrics.mean_squared_error(ytest6, y_pred_MLR6))\n",
        "meanAbsPer6 = metrics.mean_absolute_percentage_error(ytest6, y_pred_MLR6)\n",
        "print('6:R squared: {:.2f}'.format(MLR6.score(x,y)*100))\n",
        "\n",
        "#trial 7\n",
        "meanAbErr7 = metrics.mean_absolute_error(ytest7, y_pred_MLR7)\n",
        "meanSqErr7 = metrics.mean_squared_error(ytest7, y_pred_MLR7)\n",
        "rootMeanSqErr7 = np.sqrt(metrics.mean_squared_error(ytest7, y_pred_MLR7))\n",
        "meanAbsPer7 = metrics.mean_absolute_percentage_error(ytest7, y_pred_MLR7)\n",
        "print('7:R squared: {:.2f}'.format(MLR7.score(x,y)*100))\n",
        "\n",
        "#trial 8 \n",
        "meanAbErr8 = metrics.mean_absolute_error(ytest8, y_pred_MLR8)\n",
        "meanSqErr8 = metrics.mean_squared_error(ytest8, y_pred_MLR8)\n",
        "rootMeanSqErr8 = np.sqrt(metrics.mean_squared_error(ytest8, y_pred_MLR8))\n",
        "meanAbsPer8 = metrics.mean_absolute_percentage_error(ytest8, y_pred_MLR8)\n",
        "print('8:R squared: {:.2f}'.format(MLR8.score(x,y)*100))\n",
        "\n",
        "#trial 9\n",
        "meanAbErr9 = metrics.mean_absolute_error(ytest9, y_pred_MLR9)\n",
        "meanSqErr9 = metrics.mean_squared_error(ytest9, y_pred_MLR9)\n",
        "rootMeanSqErr9 = np.sqrt(metrics.mean_squared_error(ytest9, y_pred_MLR9))\n",
        "meanAbsPer9 = metrics.mean_absolute_percentage_error(ytest9, y_pred_MLR9)\n",
        "print('9:R squared: {:.2f}'.format(MLR9.score(x,y)*100))\n",
        "\n",
        "#trial 10\n",
        "meanAbErr10 = metrics.mean_absolute_error(ytest10, y_pred_MLR10)\n",
        "meanSqErr10 = metrics.mean_squared_error(ytest10, y_pred_MLR10)\n",
        "rootMeanSqErr10 = np.sqrt(metrics.mean_squared_error(ytest10, y_pred_MLR10))\n",
        "meanAbsPer10 = metrics.mean_absolute_percentage_error(ytest10, y_pred_MLR10)\n",
        "print('10:R squared: {:.2f}'.format(MLR10.score(x,y)*100))\n",
        "\n",
        "#trial 11\n",
        "meanAbErr11 = metrics.mean_absolute_error(ytest11, y_pred_MLR11)\n",
        "meanSqErr11 = metrics.mean_squared_error(ytest11, y_pred_MLR11)\n",
        "rootMeanSqErr11 = np.sqrt(metrics.mean_squared_error(ytest11, y_pred_MLR11))\n",
        "meanAbsPer11 = metrics.mean_absolute_percentage_error(ytest11, y_pred_MLR11)\n",
        "print('11:R squared: {:.2f}'.format(MLR11.score(x,y)*100))"
      ],
      "metadata": {
        "colab": {
          "base_uri": "https://localhost:8080/"
        },
        "id": "4cAyNNy6FWMZ",
        "outputId": "2e93e400-7b0a-49f1-b4fc-05a6bdcee653"
      },
      "execution_count": 192,
      "outputs": [
        {
          "output_type": "stream",
          "name": "stdout",
          "text": [
            "2:R squared: 65.52\n",
            "3:R squared: 65.57\n",
            "4:R squared: 66.07\n",
            "5:R squared: 65.89\n",
            "6:R squared: 66.04\n",
            "7:R squared: 66.26\n",
            "8:R squared: 66.36\n",
            "9:R squared: 66.36\n",
            "10:R squared: 66.44\n",
            "11:R squared: 66.43\n"
          ]
        }
      ]
    },
    {
      "cell_type": "code",
      "source": [
        "#print all evaluation metrics in one data frame\n",
        "trial = [1,2,3,4,5,6,7,8,9,10,11]\n",
        "rsquared = [MLR1.score(x,y)*100, MLR2.score(x,y)*100, MLR3.score(x,y)*100,MLR4.score(x,y)*100,MLR5.score(x,y)*100,MLR6.score(x,y)*100,MLR7.score(x,y)*100,MLR8.score(x,y)*100,MLR9.score(x,y)*100,MLR10.score(x,y)*100,MLR11.score(x,y)*100]\n",
        "MAE = [meanAbErr1,meanAbErr2,meanAbErr3,meanAbErr4,meanAbErr5,meanAbErr6,meanAbErr7,meanAbErr8,meanAbErr9,meanAbErr10,meanAbErr11]\n",
        "MSE = [meanSqErr1,meanSqErr2,meanSqErr3,meanSqErr4,meanSqErr5,meanSqErr6,meanSqErr7,meanSqErr8,meanSqErr9,meanSqErr10,meanSqErr11]\n",
        "RMSE = [rootMeanSqErr1,rootMeanSqErr2,rootMeanSqErr3,rootMeanSqErr4,rootMeanSqErr5,rootMeanSqErr6,rootMeanSqErr7,rootMeanSqErr8,rootMeanSqErr9,rootMeanSqErr10,rootMeanSqErr11]\n",
        "MAPE = [meanAbsPer1,meanAbsPer2,meanAbsPer3,meanAbsPer4,meanAbsPer5,meanAbsPer6, meanAbsPer7, meanAbsPer8, meanAbsPer9, meanAbsPer10, meanAbsPer11]\n",
        "\n",
        "results = pd.DataFrame({'Trial': trial, 'R-Squared': rsquared, 'Mean Absolute Error':MAE, 'Mean Absolute Percentage Error':MAPE, 'Mean Square Error': MSE, 'Root Mean Square Error': RMSE})\n",
        "results"
      ],
      "metadata": {
        "colab": {
          "base_uri": "https://localhost:8080/",
          "height": 394
        },
        "id": "_Kezh6ues9n6",
        "outputId": "9dfd3049-475c-47d8-ef4c-f07e9808cbc2"
      },
      "execution_count": 193,
      "outputs": [
        {
          "output_type": "execute_result",
          "data": {
            "text/plain": [
              "    Trial  R-Squared  Mean Absolute Error  Mean Absolute Percentage Error  \\\n",
              "0       1  64.587521             0.047751                    2.691990e+00   \n",
              "1       2  65.518939             0.035440                    1.274603e+00   \n",
              "2       3  65.570667             0.035670                    1.324931e+00   \n",
              "3       4  66.074154             0.034395                    9.061499e-01   \n",
              "4       5  65.887354             0.033243                    1.600440e+00   \n",
              "5       6  66.040386             0.034348                    1.249587e+00   \n",
              "6       7  66.264786             0.032971                    1.526446e+00   \n",
              "7       8  66.356490             0.031845                    1.079202e+00   \n",
              "8       9  66.360285             0.035006                    1.503017e+00   \n",
              "9      10  66.438704             0.032547                    1.523076e+00   \n",
              "10     11  66.434505             0.036701                    7.706823e+10   \n",
              "\n",
              "    Mean Square Error  Root Mean Square Error  \n",
              "0            0.003738                0.061136  \n",
              "1            0.002875                0.053623  \n",
              "2            0.002324                0.048210  \n",
              "3            0.002606                0.051049  \n",
              "4            0.002347                0.048451  \n",
              "5            0.002997                0.054741  \n",
              "6            0.002130                0.046148  \n",
              "7            0.003014                0.054897  \n",
              "8            0.002906                0.053906  \n",
              "9            0.001907                0.043664  \n",
              "10           0.003206                0.056625  "
            ],
            "text/html": [
              "\n",
              "  <div id=\"df-b9ed59f0-2c4d-4454-ac92-b3d1a3c7de82\">\n",
              "    <div class=\"colab-df-container\">\n",
              "      <div>\n",
              "<style scoped>\n",
              "    .dataframe tbody tr th:only-of-type {\n",
              "        vertical-align: middle;\n",
              "    }\n",
              "\n",
              "    .dataframe tbody tr th {\n",
              "        vertical-align: top;\n",
              "    }\n",
              "\n",
              "    .dataframe thead th {\n",
              "        text-align: right;\n",
              "    }\n",
              "</style>\n",
              "<table border=\"1\" class=\"dataframe\">\n",
              "  <thead>\n",
              "    <tr style=\"text-align: right;\">\n",
              "      <th></th>\n",
              "      <th>Trial</th>\n",
              "      <th>R-Squared</th>\n",
              "      <th>Mean Absolute Error</th>\n",
              "      <th>Mean Absolute Percentage Error</th>\n",
              "      <th>Mean Square Error</th>\n",
              "      <th>Root Mean Square Error</th>\n",
              "    </tr>\n",
              "  </thead>\n",
              "  <tbody>\n",
              "    <tr>\n",
              "      <th>0</th>\n",
              "      <td>1</td>\n",
              "      <td>64.587521</td>\n",
              "      <td>0.047751</td>\n",
              "      <td>2.691990e+00</td>\n",
              "      <td>0.003738</td>\n",
              "      <td>0.061136</td>\n",
              "    </tr>\n",
              "    <tr>\n",
              "      <th>1</th>\n",
              "      <td>2</td>\n",
              "      <td>65.518939</td>\n",
              "      <td>0.035440</td>\n",
              "      <td>1.274603e+00</td>\n",
              "      <td>0.002875</td>\n",
              "      <td>0.053623</td>\n",
              "    </tr>\n",
              "    <tr>\n",
              "      <th>2</th>\n",
              "      <td>3</td>\n",
              "      <td>65.570667</td>\n",
              "      <td>0.035670</td>\n",
              "      <td>1.324931e+00</td>\n",
              "      <td>0.002324</td>\n",
              "      <td>0.048210</td>\n",
              "    </tr>\n",
              "    <tr>\n",
              "      <th>3</th>\n",
              "      <td>4</td>\n",
              "      <td>66.074154</td>\n",
              "      <td>0.034395</td>\n",
              "      <td>9.061499e-01</td>\n",
              "      <td>0.002606</td>\n",
              "      <td>0.051049</td>\n",
              "    </tr>\n",
              "    <tr>\n",
              "      <th>4</th>\n",
              "      <td>5</td>\n",
              "      <td>65.887354</td>\n",
              "      <td>0.033243</td>\n",
              "      <td>1.600440e+00</td>\n",
              "      <td>0.002347</td>\n",
              "      <td>0.048451</td>\n",
              "    </tr>\n",
              "    <tr>\n",
              "      <th>5</th>\n",
              "      <td>6</td>\n",
              "      <td>66.040386</td>\n",
              "      <td>0.034348</td>\n",
              "      <td>1.249587e+00</td>\n",
              "      <td>0.002997</td>\n",
              "      <td>0.054741</td>\n",
              "    </tr>\n",
              "    <tr>\n",
              "      <th>6</th>\n",
              "      <td>7</td>\n",
              "      <td>66.264786</td>\n",
              "      <td>0.032971</td>\n",
              "      <td>1.526446e+00</td>\n",
              "      <td>0.002130</td>\n",
              "      <td>0.046148</td>\n",
              "    </tr>\n",
              "    <tr>\n",
              "      <th>7</th>\n",
              "      <td>8</td>\n",
              "      <td>66.356490</td>\n",
              "      <td>0.031845</td>\n",
              "      <td>1.079202e+00</td>\n",
              "      <td>0.003014</td>\n",
              "      <td>0.054897</td>\n",
              "    </tr>\n",
              "    <tr>\n",
              "      <th>8</th>\n",
              "      <td>9</td>\n",
              "      <td>66.360285</td>\n",
              "      <td>0.035006</td>\n",
              "      <td>1.503017e+00</td>\n",
              "      <td>0.002906</td>\n",
              "      <td>0.053906</td>\n",
              "    </tr>\n",
              "    <tr>\n",
              "      <th>9</th>\n",
              "      <td>10</td>\n",
              "      <td>66.438704</td>\n",
              "      <td>0.032547</td>\n",
              "      <td>1.523076e+00</td>\n",
              "      <td>0.001907</td>\n",
              "      <td>0.043664</td>\n",
              "    </tr>\n",
              "    <tr>\n",
              "      <th>10</th>\n",
              "      <td>11</td>\n",
              "      <td>66.434505</td>\n",
              "      <td>0.036701</td>\n",
              "      <td>7.706823e+10</td>\n",
              "      <td>0.003206</td>\n",
              "      <td>0.056625</td>\n",
              "    </tr>\n",
              "  </tbody>\n",
              "</table>\n",
              "</div>\n",
              "      <button class=\"colab-df-convert\" onclick=\"convertToInteractive('df-b9ed59f0-2c4d-4454-ac92-b3d1a3c7de82')\"\n",
              "              title=\"Convert this dataframe to an interactive table.\"\n",
              "              style=\"display:none;\">\n",
              "        \n",
              "  <svg xmlns=\"http://www.w3.org/2000/svg\" height=\"24px\"viewBox=\"0 0 24 24\"\n",
              "       width=\"24px\">\n",
              "    <path d=\"M0 0h24v24H0V0z\" fill=\"none\"/>\n",
              "    <path d=\"M18.56 5.44l.94 2.06.94-2.06 2.06-.94-2.06-.94-.94-2.06-.94 2.06-2.06.94zm-11 1L8.5 8.5l.94-2.06 2.06-.94-2.06-.94L8.5 2.5l-.94 2.06-2.06.94zm10 10l.94 2.06.94-2.06 2.06-.94-2.06-.94-.94-2.06-.94 2.06-2.06.94z\"/><path d=\"M17.41 7.96l-1.37-1.37c-.4-.4-.92-.59-1.43-.59-.52 0-1.04.2-1.43.59L10.3 9.45l-7.72 7.72c-.78.78-.78 2.05 0 2.83L4 21.41c.39.39.9.59 1.41.59.51 0 1.02-.2 1.41-.59l7.78-7.78 2.81-2.81c.8-.78.8-2.07 0-2.86zM5.41 20L4 18.59l7.72-7.72 1.47 1.35L5.41 20z\"/>\n",
              "  </svg>\n",
              "      </button>\n",
              "      \n",
              "  <style>\n",
              "    .colab-df-container {\n",
              "      display:flex;\n",
              "      flex-wrap:wrap;\n",
              "      gap: 12px;\n",
              "    }\n",
              "\n",
              "    .colab-df-convert {\n",
              "      background-color: #E8F0FE;\n",
              "      border: none;\n",
              "      border-radius: 50%;\n",
              "      cursor: pointer;\n",
              "      display: none;\n",
              "      fill: #1967D2;\n",
              "      height: 32px;\n",
              "      padding: 0 0 0 0;\n",
              "      width: 32px;\n",
              "    }\n",
              "\n",
              "    .colab-df-convert:hover {\n",
              "      background-color: #E2EBFA;\n",
              "      box-shadow: 0px 1px 2px rgba(60, 64, 67, 0.3), 0px 1px 3px 1px rgba(60, 64, 67, 0.15);\n",
              "      fill: #174EA6;\n",
              "    }\n",
              "\n",
              "    [theme=dark] .colab-df-convert {\n",
              "      background-color: #3B4455;\n",
              "      fill: #D2E3FC;\n",
              "    }\n",
              "\n",
              "    [theme=dark] .colab-df-convert:hover {\n",
              "      background-color: #434B5C;\n",
              "      box-shadow: 0px 1px 3px 1px rgba(0, 0, 0, 0.15);\n",
              "      filter: drop-shadow(0px 1px 2px rgba(0, 0, 0, 0.3));\n",
              "      fill: #FFFFFF;\n",
              "    }\n",
              "  </style>\n",
              "\n",
              "      <script>\n",
              "        const buttonEl =\n",
              "          document.querySelector('#df-b9ed59f0-2c4d-4454-ac92-b3d1a3c7de82 button.colab-df-convert');\n",
              "        buttonEl.style.display =\n",
              "          google.colab.kernel.accessAllowed ? 'block' : 'none';\n",
              "\n",
              "        async function convertToInteractive(key) {\n",
              "          const element = document.querySelector('#df-b9ed59f0-2c4d-4454-ac92-b3d1a3c7de82');\n",
              "          const dataTable =\n",
              "            await google.colab.kernel.invokeFunction('convertToInteractive',\n",
              "                                                     [key], {});\n",
              "          if (!dataTable) return;\n",
              "\n",
              "          const docLinkHtml = 'Like what you see? Visit the ' +\n",
              "            '<a target=\"_blank\" href=https://colab.research.google.com/notebooks/data_table.ipynb>data table notebook</a>'\n",
              "            + ' to learn more about interactive tables.';\n",
              "          element.innerHTML = '';\n",
              "          dataTable['output_type'] = 'display_data';\n",
              "          await google.colab.output.renderOutput(dataTable, element);\n",
              "          const docLink = document.createElement('div');\n",
              "          docLink.innerHTML = docLinkHtml;\n",
              "          element.appendChild(docLink);\n",
              "        }\n",
              "      </script>\n",
              "    </div>\n",
              "  </div>\n",
              "  "
            ]
          },
          "metadata": {},
          "execution_count": 193
        }
      ]
    },
    {
      "cell_type": "code",
      "source": [
        "#plot the predicted values\n",
        "plt.plot(np.arange(len(y_pred_MLR1)) + len(ytrain1),ytest1)\n",
        "plt.plot(np.arange(len(y_pred_MLR1)) + len(ytrain1), y_pred_MLR1)\n",
        "plt.plot(ytrain1)\n",
        "# you seemed to mess up the labels\n",
        "plt.legend(['y_test', 'y_pred', 'y_train'])"
      ],
      "metadata": {
        "colab": {
          "base_uri": "https://localhost:8080/",
          "height": 282
        },
        "id": "ePWsVcNI8f86",
        "outputId": "2a036e63-5b7b-44ff-fa24-98e5958492ba"
      },
      "execution_count": 194,
      "outputs": [
        {
          "output_type": "execute_result",
          "data": {
            "text/plain": [
              "<matplotlib.legend.Legend at 0x7f5b395aac90>"
            ]
          },
          "metadata": {},
          "execution_count": 194
        },
        {
          "output_type": "display_data",
          "data": {
            "text/plain": [
              "<Figure size 432x288 with 1 Axes>"
            ],
            "image/png": "[encoded data removed]"
          },
          "metadata": {
            "needs_background": "light"
          }
        }
      ]
    },
    {
      "cell_type": "code",
      "source": [
        "#plot the predicted values\n",
        "plt.plot(np.arange(len(y_pred_MLR2)) + len(ytrain2),ytest2)\n",
        "plt.plot(np.arange(len(y_pred_MLR2)) + len(ytrain2), y_pred_MLR2)\n",
        "plt.plot(ytrain2)\n",
        "# you seemed to mess up the labels\n",
        "plt.legend(['y_test', 'y_pred', 'y_train'])"
      ],
      "metadata": {
        "colab": {
          "base_uri": "https://localhost:8080/",
          "height": 282
        },
        "id": "yIREUsB-KZwn",
        "outputId": "00418999-3b88-42db-fe29-164eec6f970e"
      },
      "execution_count": 195,
      "outputs": [
        {
          "output_type": "execute_result",
          "data": {
            "text/plain": [
              "<matplotlib.legend.Legend at 0x7f5b3953e950>"
            ]
          },
          "metadata": {},
          "execution_count": 195
        },
        {
          "output_type": "display_data",
          "data": {
            "text/plain": [
              "<Figure size 432x288 with 1 Axes>"
            ],
            "image/png": "[encoded data removed]"
          },
          "metadata": {
            "needs_background": "light"
          }
        }
      ]
    },
    {
      "cell_type": "code",
      "source": [
        "#plot the predicted values\n",
        "plt.plot(np.arange(len(y_pred_MLR3)) + len(ytrain3),ytest3)\n",
        "plt.plot(np.arange(len(y_pred_MLR3)) + len(ytrain3), y_pred_MLR3)\n",
        "plt.plot(ytrain3)\n",
        "# you seemed to mess up the labels\n",
        "plt.legend(['y_test', 'y_pred', 'y_train'])\n"
      ],
      "metadata": {
        "colab": {
          "base_uri": "https://localhost:8080/",
          "height": 282
        },
        "id": "lfcoLt68K_Yq",
        "outputId": "5280b7db-ac67-4eae-ad57-a1ab75974148"
      },
      "execution_count": 196,
      "outputs": [
        {
          "output_type": "execute_result",
          "data": {
            "text/plain": [
              "<matplotlib.legend.Legend at 0x7f5b394b6d50>"
            ]
          },
          "metadata": {},
          "execution_count": 196
        },
        {
          "output_type": "display_data",
          "data": {
            "text/plain": [
              "<Figure size 432x288 with 1 Axes>"
            ],
            "image/png": "[encoded data removed]"
          },
          "metadata": {
            "needs_background": "light"
          }
        }
      ]
    },
    {
      "cell_type": "code",
      "source": [
        "#plot the predicted values\n",
        "plt.plot(np.arange(len(y_pred_MLR4)) + len(ytrain4),ytest4)\n",
        "plt.plot(np.arange(len(y_pred_MLR4)) + len(ytrain4), y_pred_MLR4)\n",
        "plt.plot(ytrain4)\n",
        "# you seemed to mess up the labels\n",
        "plt.legend(['y_test', 'y_pred', 'y_train'])\n"
      ],
      "metadata": {
        "colab": {
          "base_uri": "https://localhost:8080/",
          "height": 282
        },
        "id": "F28mFGNnLHnn",
        "outputId": "21dc363c-f664-4685-9bef-595e113b5b21"
      },
      "execution_count": 197,
      "outputs": [
        {
          "output_type": "execute_result",
          "data": {
            "text/plain": [
              "<matplotlib.legend.Legend at 0x7f5b3943ec50>"
            ]
          },
          "metadata": {},
          "execution_count": 197
        },
        {
          "output_type": "display_data",
          "data": {
            "text/plain": [
              "<Figure size 432x288 with 1 Axes>"
            ],
            "image/png": "[encoded data removed]"
          },
          "metadata": {
            "needs_background": "light"
          }
        }
      ]
    },
    {
      "cell_type": "code",
      "source": [
        "#plot the predicted values\n",
        "plt.plot(np.arange(len(y_pred_MLR5)) + len(ytrain5),ytest5)\n",
        "plt.plot(np.arange(len(y_pred_MLR5)) + len(ytrain5), y_pred_MLR5)\n",
        "plt.plot(ytrain5)\n",
        "# you seemed to mess up the labels\n",
        "plt.legend(['y_test', 'y_pred', 'y_train'])\n"
      ],
      "metadata": {
        "colab": {
          "base_uri": "https://localhost:8080/",
          "height": 282
        },
        "id": "cLP4XF7gLRjU",
        "outputId": "39204f81-c766-4ded-e580-e0b92ccc2a78"
      },
      "execution_count": 198,
      "outputs": [
        {
          "output_type": "execute_result",
          "data": {
            "text/plain": [
              "<matplotlib.legend.Legend at 0x7f5b39511950>"
            ]
          },
          "metadata": {},
          "execution_count": 198
        },
        {
          "output_type": "display_data",
          "data": {
            "text/plain": [
              "<Figure size 432x288 with 1 Axes>"
            ],
            "image/png": "[encoded data removed]"
          },
          "metadata": {
            "needs_background": "light"
          }
        }
      ]
    },
    {
      "cell_type": "code",
      "source": [
        "#plot the predicted values\n",
        "plt.plot(np.arange(len(y_pred_MLR6)) + len(ytrain6),ytest6)\n",
        "plt.plot(np.arange(len(y_pred_MLR6)) + len(ytrain6), y_pred_MLR6)\n",
        "plt.plot(ytrain6)\n",
        "# you seemed to mess up the labels\n",
        "plt.legend(['y_test', 'y_pred', 'y_train'])\n"
      ],
      "metadata": {
        "colab": {
          "base_uri": "https://localhost:8080/",
          "height": 282
        },
        "id": "dsdu_NkMLb6W",
        "outputId": "68710f5a-a2dd-419c-a88e-e3876020a022"
      },
      "execution_count": 199,
      "outputs": [
        {
          "output_type": "execute_result",
          "data": {
            "text/plain": [
              "<matplotlib.legend.Legend at 0x7f5b392d5b50>"
            ]
          },
          "metadata": {},
          "execution_count": 199
        },
        {
          "output_type": "display_data",
          "data": {
            "text/plain": [
              "<Figure size 432x288 with 1 Axes>"
            ],
            "image/png": "[encoded data removed]"
          },
          "metadata": {
            "needs_background": "light"
          }
        }
      ]
    },
    {
      "cell_type": "code",
      "source": [
        "#plot the predicted values\n",
        "plt.plot(np.arange(len(y_pred_MLR7)) + len(ytrain7),ytest7)\n",
        "plt.plot(np.arange(len(y_pred_MLR7)) + len(ytrain7), y_pred_MLR7)\n",
        "plt.plot(ytrain7)\n",
        "# you seemed to mess up the labels\n",
        "plt.legend(['y_test', 'y_pred', 'y_train'])"
      ],
      "metadata": {
        "colab": {
          "base_uri": "https://localhost:8080/",
          "height": 282
        },
        "id": "sYuVIjyRLkiz",
        "outputId": "c9d03009-c6ea-438f-e570-00de1876d56b"
      },
      "execution_count": 200,
      "outputs": [
        {
          "output_type": "execute_result",
          "data": {
            "text/plain": [
              "<matplotlib.legend.Legend at 0x7f5b3bb78e50>"
            ]
          },
          "metadata": {},
          "execution_count": 200
        },
        {
          "output_type": "display_data",
          "data": {
            "text/plain": [
              "<Figure size 432x288 with 1 Axes>"
            ],
            "image/png": "[encoded data removed]"
          },
          "metadata": {
            "needs_background": "light"
          }
        }
      ]
    },
    {
      "cell_type": "code",
      "source": [
        "#plot the predicted values\n",
        "plt.plot(np.arange(len(y_pred_MLR8)) + len(ytrain8),ytest8)\n",
        "plt.plot(np.arange(len(y_pred_MLR8)) + len(ytrain8), y_pred_MLR8)\n",
        "plt.plot(ytrain8)\n",
        "# you seemed to mess up the labels\n",
        "plt.legend(['y_test', 'y_pred', 'y_train'])"
      ],
      "metadata": {
        "colab": {
          "base_uri": "https://localhost:8080/",
          "height": 282
        },
        "id": "o3TCRQydL06r",
        "outputId": "fd5474e2-9deb-42c0-e459-99444e310d29"
      },
      "execution_count": 201,
      "outputs": [
        {
          "output_type": "execute_result",
          "data": {
            "text/plain": [
              "<matplotlib.legend.Legend at 0x7f5b392ba690>"
            ]
          },
          "metadata": {},
          "execution_count": 201
        },
        {
          "output_type": "display_data",
          "data": {
            "text/plain": [
              "<Figure size 432x288 with 1 Axes>"
            ],
            "image/png": "[encoded data removed]"
          },
          "metadata": {
            "needs_background": "light"
          }
        }
      ]
    },
    {
      "cell_type": "code",
      "source": [
        "#plot the predicted values\n",
        "plt.plot(np.arange(len(y_pred_MLR9)) + len(ytrain9),ytest9)\n",
        "plt.plot(np.arange(len(y_pred_MLR9)) + len(ytrain9), y_pred_MLR9)\n",
        "plt.plot(ytrain9)\n",
        "# you seemed to mess up the labels\n",
        "plt.legend(['y_test', 'y_pred', 'y_train'])"
      ],
      "metadata": {
        "colab": {
          "base_uri": "https://localhost:8080/",
          "height": 282
        },
        "id": "dlXmpIiEL8aH",
        "outputId": "84ee4430-dcec-4560-aab5-2dcd62831fce"
      },
      "execution_count": 202,
      "outputs": [
        {
          "output_type": "execute_result",
          "data": {
            "text/plain": [
              "<matplotlib.legend.Legend at 0x7f5b3919ffd0>"
            ]
          },
          "metadata": {},
          "execution_count": 202
        },
        {
          "output_type": "display_data",
          "data": {
            "text/plain": [
              "<Figure size 432x288 with 1 Axes>"
            ],
            "image/png": "[encoded data removed]"
          },
          "metadata": {
            "needs_background": "light"
          }
        }
      ]
    },
    {
      "cell_type": "code",
      "source": [
        "#plot the predicted values\n",
        "plt.plot(np.arange(len(y_pred_MLR10)) + len(ytrain10),ytest10)\n",
        "plt.plot(np.arange(len(y_pred_MLR10)) + len(ytrain10), y_pred_MLR10)\n",
        "plt.plot(ytrain10)\n",
        "# you seemed to mess up the labels\n",
        "plt.legend(['y_test', 'y_pred', 'y_train'])"
      ],
      "metadata": {
        "colab": {
          "base_uri": "https://localhost:8080/",
          "height": 282
        },
        "id": "lTocWDq6MDYx",
        "outputId": "a6d9dbe2-4dd5-4e9d-ac3e-dafe3f8becbf"
      },
      "execution_count": 203,
      "outputs": [
        {
          "output_type": "execute_result",
          "data": {
            "text/plain": [
              "<matplotlib.legend.Legend at 0x7f5b3917b1d0>"
            ]
          },
          "metadata": {},
          "execution_count": 203
        },
        {
          "output_type": "display_data",
          "data": {
            "text/plain": [
              "<Figure size 432x288 with 1 Axes>"
            ],
            "image/png": "[encoded data removed]"
          },
          "metadata": {
            "needs_background": "light"
          }
        }
      ]
    },
    {
      "cell_type": "code",
      "source": [
        "#plot the predicted values\n",
        "plt.plot(np.arange(len(y_pred_MLR11)) + len(ytrain11),ytest11)\n",
        "plt.plot(np.arange(len(y_pred_MLR11)) + len(ytrain11), y_pred_MLR11)\n",
        "plt.plot(ytrain11)\n",
        "# you seemed to mess up the labels\n",
        "plt.legend(['y_test', 'y_pred', 'y_train'])"
      ],
      "metadata": {
        "colab": {
          "base_uri": "https://localhost:8080/",
          "height": 282
        },
        "id": "WkLf9Zv_MKr5",
        "outputId": "01ce5042-7c03-4d1b-e503-133f209e4614"
      },
      "execution_count": 204,
      "outputs": [
        {
          "output_type": "execute_result",
          "data": {
            "text/plain": [
              "<matplotlib.legend.Legend at 0x7f5b39204a10>"
            ]
          },
          "metadata": {},
          "execution_count": 204
        },
        {
          "output_type": "display_data",
          "data": {
            "text/plain": [
              "<Figure size 432x288 with 1 Axes>"
            ],
            "image/png": "[encoded data removed]"
          },
          "metadata": {
            "needs_background": "light"
          }
        }
      ]
    },
    {
      "cell_type": "code",
      "source": [
        "#Plot of test values vs predicted values\n",
        "plt.subplot(6, 6, 1)\n",
        "plt.scatter(ytest1, y_pred_MLR1)\n",
        " \n",
        "plt.subplot(6, 6, 2)\n",
        "plt.scatter(ytest2, y_pred_MLR2)\n",
        " \n",
        "plt.subplot(6, 6, 3)\n",
        "plt.scatter(ytest3, y_pred_MLR3)\n",
        " \n",
        "plt.subplot(6, 6, 4)\n",
        "plt.scatter(ytest4, y_pred_MLR4)\n",
        "\n",
        "plt.subplot(6, 6, 5)\n",
        "plt.scatter(ytest5, y_pred_MLR5)\n",
        "\n",
        "plt.subplot(6, 6, 6)\n",
        "plt.scatter(ytest6, y_pred_MLR6)\n",
        "\n",
        "plt.subplot(6, 6, 7)\n",
        "plt.scatter(ytest7, y_pred_MLR7)\n",
        "\n",
        "plt.subplot(6, 6, 8)\n",
        "plt.scatter(ytest8, y_pred_MLR8)\n",
        "\n",
        "plt.subplot(6, 6, 9)\n",
        "plt.scatter(ytest9, y_pred_MLR9)\n",
        "\n",
        "plt.subplot(6, 6, 10)\n",
        "plt.scatter(ytest10, y_pred_MLR10)\n",
        "\n",
        "plt.subplot(6, 6, 11)\n",
        "plt.scatter(ytest11, y_pred_MLR11)\n",
        " \n",
        "plt.suptitle(\"Y test vs Y Predicted\")\n",
        "plt.show()"
      ],
      "metadata": {
        "colab": {
          "base_uri": "https://localhost:8080/",
          "height": 145
        },
        "id": "zEIoavPYOLAq",
        "outputId": "b45a462f-a39b-4f98-fd87-b5f15d64f153"
      },
      "execution_count": 242,
      "outputs": [
        {
          "output_type": "display_data",
          "data": {
            "text/plain": [
              "<Figure size 432x288 with 11 Axes>"
            ],
            "image/png": "[encoded data removed]"
          },
          "metadata": {
            "needs_background": "light"
          }
        }
      ]
    },
    {
      "cell_type": "markdown",
      "source": [
        "# Multiple Linear Regression \n",
        "\n",
        "Independent variables included: SO2, NO2, CO and O3"
      ],
      "metadata": {
        "id": "hCKeCYpeNEuj"
      }
    },
    {
      "cell_type": "code",
      "source": [
        "#setting the independent and dependent variables\n",
        "x = data[['SO2', 'NO2','CO','O3']]\n",
        "y = data['PM25']"
      ],
      "metadata": {
        "id": "XI9AhdtCMSO6"
      },
      "execution_count": 244,
      "outputs": []
    },
    {
      "cell_type": "code",
      "source": [
        "#use training and test sets found in initial analysis\n",
        "#based on testing 3 months of data at a time\n",
        "#describing the independent variable \n",
        "xtrain1, xtest1 = data.iloc[:2922,5:9 ], data.iloc[2922:5844, 5:9]\n",
        "xtrain2, xtest2 = data.iloc[:5844,5:9 ], data.iloc[5844:8766,5:9]\n",
        "xtrain3, xtest3 = data.iloc[:8766,5:9 ], data.iloc[8766:11688,5:9 ]\n",
        "xtrain4, xtest4 = data.iloc[:11688,5:9 ], data.iloc[11688:14610,5:9 ]\n",
        "xtrain5, xtest5 = data.iloc[:14610,5:9 ], data.iloc[14610:17532,5:9 ]\n",
        "xtrain6, xtest6 = data.iloc[:17532,5:9 ], data.iloc[17532:20454,5:9 ]\n",
        "xtrain7, xtest7 = data.iloc[:20454,5:9 ], data.iloc[20454:23376,5:9 ]\n",
        "xtrain8, xtest8 = data.iloc[:23376,5:9 ], data.iloc[23376:26298,5:9 ]\n",
        "xtrain9, xtest9 = data.iloc[:26298,5:9 ], data.iloc[26298:29220,5:9 ]\n",
        "xtrain10, xtest10 = data.iloc[:29220,5:9 ], data.iloc[29220:32142,5:9 ]\n",
        "xtrain11, xtest11 = data.iloc[:32142,5:9 ], data.iloc[32142:35063,5:9 ]\n",
        "\n",
        "#setting the dependent variable\n",
        "ytrain1, ytest1 = data.iloc[:2922,3 ], data.iloc[2922:5844,3 ]\n",
        "ytrain2, ytest2 = data.iloc[:5844, 3], data.iloc[5844:8766, 3]\n",
        "ytrain3, ytest3 = data.iloc[:8766,3 ], data.iloc[8766:11688, 3]\n",
        "ytrain4, ytest4 = data.iloc[:11688,3 ], data.iloc[11688:14610,3 ]\n",
        "ytrain5, ytest5 = data.iloc[:14610,3 ], data.iloc[14610:17532, 3]\n",
        "ytrain6, ytest6 = data.iloc[:17532,3 ], data.iloc[17532:20454,3 ]\n",
        "ytrain7, ytest7 = data.iloc[:20454,3 ], data.iloc[20454:23376,3 ]\n",
        "ytrain8, ytest8 = data.iloc[:23376,3 ], data.iloc[23376:26298,3 ]\n",
        "ytrain9, ytest9 = data.iloc[:26298, 3], data.iloc[26298:29220,3 ]\n",
        "ytrain10, ytest10 = data.iloc[:29220,3 ], data.iloc[29220:32142,3 ]\n",
        "ytrain11, ytest11 = data.iloc[:32142,3 ], data.iloc[32142:35063, 3]"
      ],
      "metadata": {
        "id": "-7KM0g0fNnd-"
      },
      "execution_count": 245,
      "outputs": []
    },
    {
      "cell_type": "code",
      "source": [
        "#fitting multiple linear regression model\n",
        "MLR1 = lm.LinearRegression()\n",
        "MLR1.fit(xtrain1,ytrain1)\n",
        "#Prediction of test set\n",
        "y_pred1= MLR1.predict(xtest1)\n",
        "#evaluation metrics\n",
        "meanAbErr1 = metrics.mean_absolute_error(ytest1, y_pred1)\n",
        "meanSqErr1 = metrics.mean_squared_error(ytest1, y_pred1)\n",
        "rootMeanSqErr1 = np.sqrt(metrics.mean_squared_error(ytest1, y_pred1))\n",
        "meanAbsPer1 = metrics.mean_absolute_percentage_error(ytest1, y_pred1)\n",
        "rsquared1 = MLR1.score(x,y)*100 "
      ],
      "metadata": {
        "id": "Dq4EQjE-s20i"
      },
      "execution_count": 246,
      "outputs": []
    },
    {
      "cell_type": "code",
      "source": [
        "#trial 2\n",
        "MLR2 = lm.LinearRegression()\n",
        "MLR2.fit(xtrain2,ytrain2)\n",
        "#Prediction of test set\n",
        "y_pred2= MLR2.predict(xtest2)\n",
        "#evaluation metrics\n",
        "meanAbErr2 = metrics.mean_absolute_error(ytest2, y_pred2)\n",
        "meanSqErr2 = metrics.mean_squared_error(ytest2, y_pred2)\n",
        "rootMeanSqErr2 = np.sqrt(metrics.mean_squared_error(ytest2, y_pred2))\n",
        "meanAbsPer2 = metrics.mean_absolute_percentage_error(ytest2, y_pred2)\n",
        "rsquared2 = MLR2.score(x,y)*100 "
      ],
      "metadata": {
        "id": "qzIV0FJEtCoF"
      },
      "execution_count": 247,
      "outputs": []
    },
    {
      "cell_type": "code",
      "source": [
        "#trial 3\n",
        "MLR3 = lm.LinearRegression()\n",
        "MLR3.fit(xtrain3,ytrain3)\n",
        "#Prediction of test set\n",
        "y_pred3 = MLR3.predict(xtest3)\n",
        "#evaluation metrics\n",
        "meanAbErr3 = metrics.mean_absolute_error(ytest3, y_pred3)\n",
        "meanSqErr3 = metrics.mean_squared_error(ytest3, y_pred3)\n",
        "rootMeanSqErr3 = np.sqrt(metrics.mean_squared_error(ytest3, y_pred3))\n",
        "meanAbsPer3 = metrics.mean_absolute_percentage_error(ytest3, y_pred3)\n",
        "rsquared3 = MLR3.score(x,y)*100 "
      ],
      "metadata": {
        "id": "3MSDvJFpvI9T"
      },
      "execution_count": 248,
      "outputs": []
    },
    {
      "cell_type": "code",
      "source": [
        "#trial 4\n",
        "MLR4 = lm.LinearRegression()\n",
        "MLR4.fit(xtrain4,ytrain4)\n",
        "#Prediction of test set\n",
        "y_pred4= MLR4.predict(xtest1)\n",
        "#evaluation metrics\n",
        "meanAbErr4 = metrics.mean_absolute_error(ytest4, y_pred4)\n",
        "meanSqErr4 = metrics.mean_squared_error(ytest4, y_pred4)\n",
        "rootMeanSqErr4 = np.sqrt(metrics.mean_squared_error(ytest4, y_pred4))\n",
        "meanAbsPer4 = metrics.mean_absolute_percentage_error(ytest4, y_pred_MLR4)\n",
        "rsquared4 = MLR4.score(x,y)*100 "
      ],
      "metadata": {
        "id": "ivFRSZwPvJo7"
      },
      "execution_count": 249,
      "outputs": []
    },
    {
      "cell_type": "code",
      "source": [
        "#trial 5\n",
        "MLR5 = lm.LinearRegression()\n",
        "MLR5.fit(xtrain5,ytrain5)\n",
        "#Prediction of test set\n",
        "y_pred5= MLR5.predict(xtest5)\n",
        "#evaluation metrics\n",
        "meanAbErr5 = metrics.mean_absolute_error(ytest5, y_pred5)\n",
        "meanSqErr5 = metrics.mean_squared_error(ytest5, y_pred5)\n",
        "rootMeanSqErr5 = np.sqrt(metrics.mean_squared_error(ytest5, y_pred5))\n",
        "meanAbsPer5 = metrics.mean_absolute_percentage_error(ytest5, y_pred5)\n",
        "rsquared5 = MLR5.score(x,y)*100 "
      ],
      "metadata": {
        "id": "NgAcaXQXvLcI"
      },
      "execution_count": 250,
      "outputs": []
    },
    {
      "cell_type": "code",
      "source": [
        "#trial 6\n",
        "MLR6 = lm.LinearRegression()\n",
        "MLR6.fit(xtrain6,ytrain6)\n",
        "#Prediction of test set\n",
        "y_pred6= MLR6.predict(xtest6)\n",
        "#evaluation metrics\n",
        "meanAbErr6 = metrics.mean_absolute_error(ytest6, y_pred6)\n",
        "meanSqErr6 = metrics.mean_squared_error(ytest6, y_pred6)\n",
        "rootMeanSqErr6 = np.sqrt(metrics.mean_squared_error(ytest6, y_pred6))\n",
        "meanAbsPer6 = metrics.mean_absolute_percentage_error(ytest6, y_pred6)\n",
        "rsquared6 = MLR6.score(x,y)*100 "
      ],
      "metadata": {
        "id": "E5HPM0gNvZrE"
      },
      "execution_count": 251,
      "outputs": []
    },
    {
      "cell_type": "code",
      "source": [
        "#trial 7\n",
        "MLR7 = lm.LinearRegression()\n",
        "MLR7.fit(xtrain7,ytrain7)\n",
        "#Prediction of test set\n",
        "y_pred7= MLR7.predict(xtest7)\n",
        "#evaluation metrics\n",
        "meanAbErr7 = metrics.mean_absolute_error(ytest7, y_pred7)\n",
        "meanSqErr7 = metrics.mean_squared_error(ytest7, y_pred7)\n",
        "rootMeanSqErr7 = np.sqrt(metrics.mean_squared_error(ytest7, y_pred7))\n",
        "meanAbsPer7 = metrics.mean_absolute_percentage_error(ytest7, y_pred7)\n",
        "rsquared7 = MLR7.score(x,y)*100 "
      ],
      "metadata": {
        "id": "lkX4jWzEvb2F"
      },
      "execution_count": 252,
      "outputs": []
    },
    {
      "cell_type": "code",
      "source": [
        "#trial 8\n",
        "MLR8 = lm.LinearRegression()\n",
        "MLR8.fit(xtrain8,ytrain8)\n",
        "#Prediction of test set\n",
        "y_pred8= MLR8.predict(xtest8)\n",
        "#evaluation metrics\n",
        "meanAbErr8 = metrics.mean_absolute_error(ytest8, y_pred8)\n",
        "meanSqErr8 = metrics.mean_squared_error(ytest8, y_pred8)\n",
        "rootMeanSqErr8 = np.sqrt(metrics.mean_squared_error(ytest8, y_pred8))\n",
        "meanAbsPer8 = metrics.mean_absolute_percentage_error(ytest8, y_pred8)\n",
        "rsquared8 = MLR8.score(x,y)*100"
      ],
      "metadata": {
        "id": "Fctp-YsEvd2F"
      },
      "execution_count": 254,
      "outputs": []
    },
    {
      "cell_type": "code",
      "source": [
        "#trial 9\n",
        "MLR9 = lm.LinearRegression()\n",
        "MLR9.fit(xtrain9,ytrain9)\n",
        "#Prediction of test set\n",
        "y_pred9= MLR9.predict(xtest9)\n",
        "#evaluation metrics\n",
        "meanAbErr9 = metrics.mean_absolute_error(ytest9, y_pred9)\n",
        "meanSqErr9 = metrics.mean_squared_error(ytest9, y_pred9)\n",
        "rootMeanSqErr9 = np.sqrt(metrics.mean_squared_error(ytest9, y_pred9))\n",
        "meanAbsPer9 = metrics.mean_absolute_percentage_error(ytest9, y_pred9)\n",
        "rsquared9 = MLR9.score(x,y)*100 "
      ],
      "metadata": {
        "id": "RcvF9eV0LBCN"
      },
      "execution_count": 255,
      "outputs": []
    },
    {
      "cell_type": "code",
      "source": [
        "#trial 10\n",
        "MLR10 = lm.LinearRegression()\n",
        "MLR10.fit(xtrain10,ytrain10)\n",
        "#Prediction of test set\n",
        "y_pred10= MLR10.predict(xtest10)\n",
        "#evaluation metrics\n",
        "meanAbErr10 = metrics.mean_absolute_error(ytest10, y_pred10)\n",
        "meanSqErr10 = metrics.mean_squared_error(ytest10, y_pred10)\n",
        "rootMeanSqErr10 = np.sqrt(metrics.mean_squared_error(ytest10, y_pred10))\n",
        "meanAbsPer10 = metrics.mean_absolute_percentage_error(ytest10, y_pred10)\n",
        "rsquared10 = MLR10.score(x,y)*100 "
      ],
      "metadata": {
        "id": "gC3T7_RnLCVC"
      },
      "execution_count": 256,
      "outputs": []
    },
    {
      "cell_type": "code",
      "source": [
        "#trial 11\n",
        "MLR11 = lm.LinearRegression()\n",
        "MLR11.fit(xtrain11,ytrain11)\n",
        "#Prediction of test set\n",
        "y_pred11= MLR11.predict(xtest11)\n",
        "#evaluation metrics\n",
        "meanAbErr11 = metrics.mean_absolute_error(ytest11, y_pred11)\n",
        "meanSqErr11 = metrics.mean_squared_error(ytest11, y_pred11)\n",
        "rootMeanSqErr11 = np.sqrt(metrics.mean_squared_error(ytest11, y_pred11))\n",
        "meanAbsPer11 = metrics.mean_absolute_percentage_error(ytest11, y_pred11)\n",
        "rsquared11 = MLR11.score(x,y)*100 "
      ],
      "metadata": {
        "id": "tInbOYMcLefG"
      },
      "execution_count": 257,
      "outputs": []
    },
    {
      "cell_type": "code",
      "source": [
        "#print all evaluation metrics in one data frame\n",
        "trial = [1,2,3,4,5,6,7,8,9,10,11]\n",
        "rsquared = [MLR1.score(x,y)*100, MLR2.score(x,y)*100, MLR3.score(x,y)*100,MLR4.score(x,y)*100,MLR5.score(x,y)*100,MLR6.score(x,y)*100,MLR7.score(x,y)*100,MLR8.score(x,y)*100,MLR9.score(x,y)*100,MLR10.score(x,y)*100,MLR11.score(x,y)*100]\n",
        "MAE = [meanAbErr1,meanAbErr2,meanAbErr3,meanAbErr4,meanAbErr5,meanAbErr6,meanAbErr7,meanAbErr8,meanAbErr9,meanAbErr10,meanAbErr11]\n",
        "MSE = [meanSqErr1,meanSqErr2,meanSqErr3,meanSqErr4,meanSqErr5,meanSqErr6,meanSqErr7,meanSqErr8,meanSqErr9,meanSqErr10,meanSqErr11]\n",
        "RMSE = [rootMeanSqErr1,rootMeanSqErr2,rootMeanSqErr3,rootMeanSqErr4,rootMeanSqErr5,rootMeanSqErr6,rootMeanSqErr7,rootMeanSqErr8,rootMeanSqErr9,rootMeanSqErr10,rootMeanSqErr11]\n",
        "MAPE = [meanAbsPer1,meanAbsPer2,meanAbsPer3,meanAbsPer4,meanAbsPer5,meanAbsPer6, meanAbsPer7, meanAbsPer8, meanAbsPer9, meanAbsPer10, meanAbsPer11]\n",
        "\n",
        "results = pd.DataFrame({'Trial': trial, 'R-Squared': rsquared, 'Mean Absolute Error':MAE, 'Mean Absolute Percentage Error':MAPE, 'Mean Square Error': MSE, 'Root Mean Square Error': RMSE})\n",
        "results"
      ],
      "metadata": {
        "colab": {
          "base_uri": "https://localhost:8080/",
          "height": 394
        },
        "id": "MaiZQwYuvkOx",
        "outputId": "b726efeb-4766-4aed-e1cb-f54e75b8fbf7"
      },
      "execution_count": 258,
      "outputs": [
        {
          "output_type": "execute_result",
          "data": {
            "text/plain": [
              "    Trial  R-Squared  Mean Absolute Error  Mean Absolute Percentage Error  \\\n",
              "0       1  60.519397             0.042641                    2.178687e+00   \n",
              "1       2  62.895275             0.038947                    1.401055e+00   \n",
              "2       3  63.107072             0.035361                    1.116857e+00   \n",
              "3       4  63.396097             0.067116                    9.061499e-01   \n",
              "4       5  62.574984             0.035823                    1.371166e+00   \n",
              "5       6  63.374326             0.031580                    9.737832e-01   \n",
              "6       7  64.094312             0.028792                    1.150326e+00   \n",
              "7       8  63.997212             0.033301                    1.210298e+00   \n",
              "8       9  63.933725             0.034987                    1.495127e+00   \n",
              "9      10  63.981096             0.028033                    9.716695e-01   \n",
              "10     11  63.925819             0.041008                    1.811041e+11   \n",
              "\n",
              "    Mean Square Error  Root Mean Square Error  \n",
              "0            0.003423                0.058508  \n",
              "1            0.003258                0.057081  \n",
              "2            0.002458                0.049580  \n",
              "3            0.007823                0.088450  \n",
              "4            0.002731                0.052262  \n",
              "5            0.003252                0.057030  \n",
              "6            0.002075                0.045554  \n",
              "7            0.003014                0.054897  \n",
              "8            0.002928                0.054109  \n",
              "9            0.001810                0.042541  \n",
              "10           0.003657                0.060475  "
            ],
            "text/html": [
              "\n",
              "  <div id=\"df-158f578d-398c-4539-953a-a1e1b2f2b36d\">\n",
              "    <div class=\"colab-df-container\">\n",
              "      <div>\n",
              "<style scoped>\n",
              "    .dataframe tbody tr th:only-of-type {\n",
              "        vertical-align: middle;\n",
              "    }\n",
              "\n",
              "    .dataframe tbody tr th {\n",
              "        vertical-align: top;\n",
              "    }\n",
              "\n",
              "    .dataframe thead th {\n",
              "        text-align: right;\n",
              "    }\n",
              "</style>\n",
              "<table border=\"1\" class=\"dataframe\">\n",
              "  <thead>\n",
              "    <tr style=\"text-align: right;\">\n",
              "      <th></th>\n",
              "      <th>Trial</th>\n",
              "      <th>R-Squared</th>\n",
              "      <th>Mean Absolute Error</th>\n",
              "      <th>Mean Absolute Percentage Error</th>\n",
              "      <th>Mean Square Error</th>\n",
              "      <th>Root Mean Square Error</th>\n",
              "    </tr>\n",
              "  </thead>\n",
              "  <tbody>\n",
              "    <tr>\n",
              "      <th>0</th>\n",
              "      <td>1</td>\n",
              "      <td>60.519397</td>\n",
              "      <td>0.042641</td>\n",
              "      <td>2.178687e+00</td>\n",
              "      <td>0.003423</td>\n",
              "      <td>0.058508</td>\n",
              "    </tr>\n",
              "    <tr>\n",
              "      <th>1</th>\n",
              "      <td>2</td>\n",
              "      <td>62.895275</td>\n",
              "      <td>0.038947</td>\n",
              "      <td>1.401055e+00</td>\n",
              "      <td>0.003258</td>\n",
              "      <td>0.057081</td>\n",
              "    </tr>\n",
              "    <tr>\n",
              "      <th>2</th>\n",
              "      <td>3</td>\n",
              "      <td>63.107072</td>\n",
              "      <td>0.035361</td>\n",
              "      <td>1.116857e+00</td>\n",
              "      <td>0.002458</td>\n",
              "      <td>0.049580</td>\n",
              "    </tr>\n",
              "    <tr>\n",
              "      <th>3</th>\n",
              "      <td>4</td>\n",
              "      <td>63.396097</td>\n",
              "      <td>0.067116</td>\n",
              "      <td>9.061499e-01</td>\n",
              "      <td>0.007823</td>\n",
              "      <td>0.088450</td>\n",
              "    </tr>\n",
              "    <tr>\n",
              "      <th>4</th>\n",
              "      <td>5</td>\n",
              "      <td>62.574984</td>\n",
              "      <td>0.035823</td>\n",
              "      <td>1.371166e+00</td>\n",
              "      <td>0.002731</td>\n",
              "      <td>0.052262</td>\n",
              "    </tr>\n",
              "    <tr>\n",
              "      <th>5</th>\n",
              "      <td>6</td>\n",
              "      <td>63.374326</td>\n",
              "      <td>0.031580</td>\n",
              "      <td>9.737832e-01</td>\n",
              "      <td>0.003252</td>\n",
              "      <td>0.057030</td>\n",
              "    </tr>\n",
              "    <tr>\n",
              "      <th>6</th>\n",
              "      <td>7</td>\n",
              "      <td>64.094312</td>\n",
              "      <td>0.028792</td>\n",
              "      <td>1.150326e+00</td>\n",
              "      <td>0.002075</td>\n",
              "      <td>0.045554</td>\n",
              "    </tr>\n",
              "    <tr>\n",
              "      <th>7</th>\n",
              "      <td>8</td>\n",
              "      <td>63.997212</td>\n",
              "      <td>0.033301</td>\n",
              "      <td>1.210298e+00</td>\n",
              "      <td>0.003014</td>\n",
              "      <td>0.054897</td>\n",
              "    </tr>\n",
              "    <tr>\n",
              "      <th>8</th>\n",
              "      <td>9</td>\n",
              "      <td>63.933725</td>\n",
              "      <td>0.034987</td>\n",
              "      <td>1.495127e+00</td>\n",
              "      <td>0.002928</td>\n",
              "      <td>0.054109</td>\n",
              "    </tr>\n",
              "    <tr>\n",
              "      <th>9</th>\n",
              "      <td>10</td>\n",
              "      <td>63.981096</td>\n",
              "      <td>0.028033</td>\n",
              "      <td>9.716695e-01</td>\n",
              "      <td>0.001810</td>\n",
              "      <td>0.042541</td>\n",
              "    </tr>\n",
              "    <tr>\n",
              "      <th>10</th>\n",
              "      <td>11</td>\n",
              "      <td>63.925819</td>\n",
              "      <td>0.041008</td>\n",
              "      <td>1.811041e+11</td>\n",
              "      <td>0.003657</td>\n",
              "      <td>0.060475</td>\n",
              "    </tr>\n",
              "  </tbody>\n",
              "</table>\n",
              "</div>\n",
              "      <button class=\"colab-df-convert\" onclick=\"convertToInteractive('df-158f578d-398c-4539-953a-a1e1b2f2b36d')\"\n",
              "              title=\"Convert this dataframe to an interactive table.\"\n",
              "              style=\"display:none;\">\n",
              "        \n",
              "  <svg xmlns=\"http://www.w3.org/2000/svg\" height=\"24px\"viewBox=\"0 0 24 24\"\n",
              "       width=\"24px\">\n",
              "    <path d=\"M0 0h24v24H0V0z\" fill=\"none\"/>\n",
              "    <path d=\"M18.56 5.44l.94 2.06.94-2.06 2.06-.94-2.06-.94-.94-2.06-.94 2.06-2.06.94zm-11 1L8.5 8.5l.94-2.06 2.06-.94-2.06-.94L8.5 2.5l-.94 2.06-2.06.94zm10 10l.94 2.06.94-2.06 2.06-.94-2.06-.94-.94-2.06-.94 2.06-2.06.94z\"/><path d=\"M17.41 7.96l-1.37-1.37c-.4-.4-.92-.59-1.43-.59-.52 0-1.04.2-1.43.59L10.3 9.45l-7.72 7.72c-.78.78-.78 2.05 0 2.83L4 21.41c.39.39.9.59 1.41.59.51 0 1.02-.2 1.41-.59l7.78-7.78 2.81-2.81c.8-.78.8-2.07 0-2.86zM5.41 20L4 18.59l7.72-7.72 1.47 1.35L5.41 20z\"/>\n",
              "  </svg>\n",
              "      </button>\n",
              "      \n",
              "  <style>\n",
              "    .colab-df-container {\n",
              "      display:flex;\n",
              "      flex-wrap:wrap;\n",
              "      gap: 12px;\n",
              "    }\n",
              "\n",
              "    .colab-df-convert {\n",
              "      background-color: #E8F0FE;\n",
              "      border: none;\n",
              "      border-radius: 50%;\n",
              "      cursor: pointer;\n",
              "      display: none;\n",
              "      fill: #1967D2;\n",
              "      height: 32px;\n",
              "      padding: 0 0 0 0;\n",
              "      width: 32px;\n",
              "    }\n",
              "\n",
              "    .colab-df-convert:hover {\n",
              "      background-color: #E2EBFA;\n",
              "      box-shadow: 0px 1px 2px rgba(60, 64, 67, 0.3), 0px 1px 3px 1px rgba(60, 64, 67, 0.15);\n",
              "      fill: #174EA6;\n",
              "    }\n",
              "\n",
              "    [theme=dark] .colab-df-convert {\n",
              "      background-color: #3B4455;\n",
              "      fill: #D2E3FC;\n",
              "    }\n",
              "\n",
              "    [theme=dark] .colab-df-convert:hover {\n",
              "      background-color: #434B5C;\n",
              "      box-shadow: 0px 1px 3px 1px rgba(0, 0, 0, 0.15);\n",
              "      filter: drop-shadow(0px 1px 2px rgba(0, 0, 0, 0.3));\n",
              "      fill: #FFFFFF;\n",
              "    }\n",
              "  </style>\n",
              "\n",
              "      <script>\n",
              "        const buttonEl =\n",
              "          document.querySelector('#df-158f578d-398c-4539-953a-a1e1b2f2b36d button.colab-df-convert');\n",
              "        buttonEl.style.display =\n",
              "          google.colab.kernel.accessAllowed ? 'block' : 'none';\n",
              "\n",
              "        async function convertToInteractive(key) {\n",
              "          const element = document.querySelector('#df-158f578d-398c-4539-953a-a1e1b2f2b36d');\n",
              "          const dataTable =\n",
              "            await google.colab.kernel.invokeFunction('convertToInteractive',\n",
              "                                                     [key], {});\n",
              "          if (!dataTable) return;\n",
              "\n",
              "          const docLinkHtml = 'Like what you see? Visit the ' +\n",
              "            '<a target=\"_blank\" href=https://colab.research.google.com/notebooks/data_table.ipynb>data table notebook</a>'\n",
              "            + ' to learn more about interactive tables.';\n",
              "          element.innerHTML = '';\n",
              "          dataTable['output_type'] = 'display_data';\n",
              "          await google.colab.output.renderOutput(dataTable, element);\n",
              "          const docLink = document.createElement('div');\n",
              "          docLink.innerHTML = docLinkHtml;\n",
              "          element.appendChild(docLink);\n",
              "        }\n",
              "      </script>\n",
              "    </div>\n",
              "  </div>\n",
              "  "
            ]
          },
          "metadata": {},
          "execution_count": 258
        }
      ]
    },
    {
      "cell_type": "code",
      "source": [
        "#Plot of test values vs predicted values\n",
        "plt.subplot(6, 6, 1)\n",
        "plt.scatter(ytest1, y_pred1)\n",
        " \n",
        "plt.subplot(6, 6, 2)\n",
        "plt.scatter(ytest2, y_pred2)\n",
        " \n",
        "plt.subplot(6, 6, 3)\n",
        "plt.scatter(ytest3, y_pred3)\n",
        " \n",
        "plt.subplot(6, 6, 4)\n",
        "plt.scatter(ytest4, y_pred4)\n",
        "\n",
        "plt.subplot(6, 6, 5)\n",
        "plt.scatter(ytest5, y_pred5)\n",
        "\n",
        "plt.subplot(6, 6, 6)\n",
        "plt.scatter(ytest6, y_pred6)\n",
        "\n",
        "plt.subplot(6, 6, 7)\n",
        "plt.scatter(ytest7, y_pred7)\n",
        "\n",
        "plt.subplot(6, 6, 8)\n",
        "plt.scatter(ytest8, y_pred8)\n",
        "\n",
        "plt.subplot(6, 6, 9)\n",
        "plt.scatter(ytest9, y_pred9)\n",
        "\n",
        "plt.subplot(6, 6, 10)\n",
        "plt.scatter(ytest10, y_pred10)\n",
        "\n",
        "plt.subplot(6, 6, 11)\n",
        "plt.scatter(ytest11, y_pred11)\n",
        " \n",
        "plt.suptitle(\"Y test vs Y Predicted\")\n",
        "plt.show()"
      ],
      "metadata": {
        "id": "6473nXNiy7ic",
        "colab": {
          "base_uri": "https://localhost:8080/",
          "height": 145
        },
        "outputId": "7828e9b8-ed76-4ad7-f8ef-c4541d752ddc"
      },
      "execution_count": 259,
      "outputs": [
        {
          "output_type": "display_data",
          "data": {
            "text/plain": [
              "<Figure size 432x288 with 11 Axes>"
            ],
            "image/png": "[encoded data removed]"
          },
          "metadata": {
            "needs_background": "light"
          }
        }
      ]
    },
    {
      "cell_type": "code",
      "source": [
        ""
      ],
      "metadata": {
        "id": "pKI2H9gyXTDT"
      },
      "execution_count": null,
      "outputs": []
    }
  ]
}