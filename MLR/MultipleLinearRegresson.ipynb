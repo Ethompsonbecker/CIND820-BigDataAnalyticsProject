{
  "nbformat": 4,
  "nbformat_minor": 0,
  "metadata": {
    "colab": {
      "name": "MultipleLinearRegresson.ipynb",
      "provenance": [],
      "collapsed_sections": []
    },
    "kernelspec": {
      "name": "python3",
      "display_name": "Python 3"
    },
    "language_info": {
      "name": "python"
    }
  },
  "cells": [
    {
      "cell_type": "markdown",
      "source": [
        "Code for Multiple Linear Regression\n"
      ],
      "metadata": {
        "id": "FMNvhtD5M8Is"
      }
    },
    {
      "cell_type": "code",
      "execution_count": 1,
      "metadata": {
        "id": "HLjFl2nm74Gw"
      },
      "outputs": [],
      "source": [
        "import pandas as pd\n",
        "import numpy as np\n",
        "import matplotlib.pyplot as plt\n",
        "import seaborn as sns\n",
        "import sklearn.linear_model as lm\n",
        "from sklearn import metrics"
      ]
    },
    {
      "cell_type": "code",
      "source": [
        "data = pd.read_csv(\"Shunyi-data_norm-py.csv\")"
      ],
      "metadata": {
        "id": "jNz0ErBs78gd"
      },
      "execution_count": null,
      "outputs": []
    },
    {
      "cell_type": "code",
      "source": [
        "data.head()"
      ],
      "metadata": {
        "colab": {
          "base_uri": "https://localhost:8080/",
          "height": 374
        },
        "id": "bjchRwvq8Gye",
        "outputId": "148a40f0-4001-4682-ef98-5cf970126a45"
      },
      "execution_count": null,
      "outputs": [
        {
          "output_type": "execute_result",
          "data": {
            "text/plain": [
              "   Unnamed: 0        date  hour      PM25      PM10       SO2       NO2  \\\n",
              "0           0  2013-03-01     0  0.001065  0.004012  0.011371  0.023438   \n",
              "1           1  2013-03-01     1  0.010650  0.010030  0.011371  0.019531   \n",
              "2           2  2013-03-01     2  0.012780  0.012036  0.011371  0.019531   \n",
              "3           3  2013-03-01     3  0.010650  0.010030  0.011371  0.011719   \n",
              "4           4  2013-03-01     4  0.010650  0.010030  0.011371  0.011719   \n",
              "\n",
              "         CO        O3      TEMP      PRES      DEWP  RAIN      WSPM    year  \\\n",
              "0  0.020202  0.124568  0.277003  0.689781  0.244094   0.0  0.726562  2013.0   \n",
              "1  0.020202  0.133102  0.273519  0.695255  0.231496   0.0  0.734375  2013.0   \n",
              "2  0.010101  0.061979  0.263066  0.697080  0.204724   0.0  0.671875  2013.0   \n",
              "3  0.010101  0.061979  0.256098  0.717153  0.200000   0.0  0.515625  2013.0   \n",
              "4  0.010101  0.030685  0.250871  0.724453  0.206299   0.0  0.351562  2013.0   \n",
              "\n",
              "  month  \n",
              "0   Mar  \n",
              "1   Mar  \n",
              "2   Mar  \n",
              "3   Mar  \n",
              "4   Mar  "
            ],
            "text/html": [
              "\n",
              "  <div id=\"df-c46d5611-b07f-453c-88ce-d5f017383b91\">\n",
              "    <div class=\"colab-df-container\">\n",
              "      <div>\n",
              "<style scoped>\n",
              "    .dataframe tbody tr th:only-of-type {\n",
              "        vertical-align: middle;\n",
              "    }\n",
              "\n",
              "    .dataframe tbody tr th {\n",
              "        vertical-align: top;\n",
              "    }\n",
              "\n",
              "    .dataframe thead th {\n",
              "        text-align: right;\n",
              "    }\n",
              "</style>\n",
              "<table border=\"1\" class=\"dataframe\">\n",
              "  <thead>\n",
              "    <tr style=\"text-align: right;\">\n",
              "      <th></th>\n",
              "      <th>Unnamed: 0</th>\n",
              "      <th>date</th>\n",
              "      <th>hour</th>\n",
              "      <th>PM25</th>\n",
              "      <th>PM10</th>\n",
              "      <th>SO2</th>\n",
              "      <th>NO2</th>\n",
              "      <th>CO</th>\n",
              "      <th>O3</th>\n",
              "      <th>TEMP</th>\n",
              "      <th>PRES</th>\n",
              "      <th>DEWP</th>\n",
              "      <th>RAIN</th>\n",
              "      <th>WSPM</th>\n",
              "      <th>year</th>\n",
              "      <th>month</th>\n",
              "    </tr>\n",
              "  </thead>\n",
              "  <tbody>\n",
              "    <tr>\n",
              "      <th>0</th>\n",
              "      <td>0</td>\n",
              "      <td>2013-03-01</td>\n",
              "      <td>0</td>\n",
              "      <td>0.001065</td>\n",
              "      <td>0.004012</td>\n",
              "      <td>0.011371</td>\n",
              "      <td>0.023438</td>\n",
              "      <td>0.020202</td>\n",
              "      <td>0.124568</td>\n",
              "      <td>0.277003</td>\n",
              "      <td>0.689781</td>\n",
              "      <td>0.244094</td>\n",
              "      <td>0.0</td>\n",
              "      <td>0.726562</td>\n",
              "      <td>2013.0</td>\n",
              "      <td>Mar</td>\n",
              "    </tr>\n",
              "    <tr>\n",
              "      <th>1</th>\n",
              "      <td>1</td>\n",
              "      <td>2013-03-01</td>\n",
              "      <td>1</td>\n",
              "      <td>0.010650</td>\n",
              "      <td>0.010030</td>\n",
              "      <td>0.011371</td>\n",
              "      <td>0.019531</td>\n",
              "      <td>0.020202</td>\n",
              "      <td>0.133102</td>\n",
              "      <td>0.273519</td>\n",
              "      <td>0.695255</td>\n",
              "      <td>0.231496</td>\n",
              "      <td>0.0</td>\n",
              "      <td>0.734375</td>\n",
              "      <td>2013.0</td>\n",
              "      <td>Mar</td>\n",
              "    </tr>\n",
              "    <tr>\n",
              "      <th>2</th>\n",
              "      <td>2</td>\n",
              "      <td>2013-03-01</td>\n",
              "      <td>2</td>\n",
              "      <td>0.012780</td>\n",
              "      <td>0.012036</td>\n",
              "      <td>0.011371</td>\n",
              "      <td>0.019531</td>\n",
              "      <td>0.010101</td>\n",
              "      <td>0.061979</td>\n",
              "      <td>0.263066</td>\n",
              "      <td>0.697080</td>\n",
              "      <td>0.204724</td>\n",
              "      <td>0.0</td>\n",
              "      <td>0.671875</td>\n",
              "      <td>2013.0</td>\n",
              "      <td>Mar</td>\n",
              "    </tr>\n",
              "    <tr>\n",
              "      <th>3</th>\n",
              "      <td>3</td>\n",
              "      <td>2013-03-01</td>\n",
              "      <td>3</td>\n",
              "      <td>0.010650</td>\n",
              "      <td>0.010030</td>\n",
              "      <td>0.011371</td>\n",
              "      <td>0.011719</td>\n",
              "      <td>0.010101</td>\n",
              "      <td>0.061979</td>\n",
              "      <td>0.256098</td>\n",
              "      <td>0.717153</td>\n",
              "      <td>0.200000</td>\n",
              "      <td>0.0</td>\n",
              "      <td>0.515625</td>\n",
              "      <td>2013.0</td>\n",
              "      <td>Mar</td>\n",
              "    </tr>\n",
              "    <tr>\n",
              "      <th>4</th>\n",
              "      <td>4</td>\n",
              "      <td>2013-03-01</td>\n",
              "      <td>4</td>\n",
              "      <td>0.010650</td>\n",
              "      <td>0.010030</td>\n",
              "      <td>0.011371</td>\n",
              "      <td>0.011719</td>\n",
              "      <td>0.010101</td>\n",
              "      <td>0.030685</td>\n",
              "      <td>0.250871</td>\n",
              "      <td>0.724453</td>\n",
              "      <td>0.206299</td>\n",
              "      <td>0.0</td>\n",
              "      <td>0.351562</td>\n",
              "      <td>2013.0</td>\n",
              "      <td>Mar</td>\n",
              "    </tr>\n",
              "  </tbody>\n",
              "</table>\n",
              "</div>\n",
              "      <button class=\"colab-df-convert\" onclick=\"convertToInteractive('df-c46d5611-b07f-453c-88ce-d5f017383b91')\"\n",
              "              title=\"Convert this dataframe to an interactive table.\"\n",
              "              style=\"display:none;\">\n",
              "        \n",
              "  <svg xmlns=\"http://www.w3.org/2000/svg\" height=\"24px\"viewBox=\"0 0 24 24\"\n",
              "       width=\"24px\">\n",
              "    <path d=\"M0 0h24v24H0V0z\" fill=\"none\"/>\n",
              "    <path d=\"M18.56 5.44l.94 2.06.94-2.06 2.06-.94-2.06-.94-.94-2.06-.94 2.06-2.06.94zm-11 1L8.5 8.5l.94-2.06 2.06-.94-2.06-.94L8.5 2.5l-.94 2.06-2.06.94zm10 10l.94 2.06.94-2.06 2.06-.94-2.06-.94-.94-2.06-.94 2.06-2.06.94z\"/><path d=\"M17.41 7.96l-1.37-1.37c-.4-.4-.92-.59-1.43-.59-.52 0-1.04.2-1.43.59L10.3 9.45l-7.72 7.72c-.78.78-.78 2.05 0 2.83L4 21.41c.39.39.9.59 1.41.59.51 0 1.02-.2 1.41-.59l7.78-7.78 2.81-2.81c.8-.78.8-2.07 0-2.86zM5.41 20L4 18.59l7.72-7.72 1.47 1.35L5.41 20z\"/>\n",
              "  </svg>\n",
              "      </button>\n",
              "      \n",
              "  <style>\n",
              "    .colab-df-container {\n",
              "      display:flex;\n",
              "      flex-wrap:wrap;\n",
              "      gap: 12px;\n",
              "    }\n",
              "\n",
              "    .colab-df-convert {\n",
              "      background-color: #E8F0FE;\n",
              "      border: none;\n",
              "      border-radius: 50%;\n",
              "      cursor: pointer;\n",
              "      display: none;\n",
              "      fill: #1967D2;\n",
              "      height: 32px;\n",
              "      padding: 0 0 0 0;\n",
              "      width: 32px;\n",
              "    }\n",
              "\n",
              "    .colab-df-convert:hover {\n",
              "      background-color: #E2EBFA;\n",
              "      box-shadow: 0px 1px 2px rgba(60, 64, 67, 0.3), 0px 1px 3px 1px rgba(60, 64, 67, 0.15);\n",
              "      fill: #174EA6;\n",
              "    }\n",
              "\n",
              "    [theme=dark] .colab-df-convert {\n",
              "      background-color: #3B4455;\n",
              "      fill: #D2E3FC;\n",
              "    }\n",
              "\n",
              "    [theme=dark] .colab-df-convert:hover {\n",
              "      background-color: #434B5C;\n",
              "      box-shadow: 0px 1px 3px 1px rgba(0, 0, 0, 0.15);\n",
              "      filter: drop-shadow(0px 1px 2px rgba(0, 0, 0, 0.3));\n",
              "      fill: #FFFFFF;\n",
              "    }\n",
              "  </style>\n",
              "\n",
              "      <script>\n",
              "        const buttonEl =\n",
              "          document.querySelector('#df-c46d5611-b07f-453c-88ce-d5f017383b91 button.colab-df-convert');\n",
              "        buttonEl.style.display =\n",
              "          google.colab.kernel.accessAllowed ? 'block' : 'none';\n",
              "\n",
              "        async function convertToInteractive(key) {\n",
              "          const element = document.querySelector('#df-c46d5611-b07f-453c-88ce-d5f017383b91');\n",
              "          const dataTable =\n",
              "            await google.colab.kernel.invokeFunction('convertToInteractive',\n",
              "                                                     [key], {});\n",
              "          if (!dataTable) return;\n",
              "\n",
              "          const docLinkHtml = 'Like what you see? Visit the ' +\n",
              "            '<a target=\"_blank\" href=https://colab.research.google.com/notebooks/data_table.ipynb>data table notebook</a>'\n",
              "            + ' to learn more about interactive tables.';\n",
              "          element.innerHTML = '';\n",
              "          dataTable['output_type'] = 'display_data';\n",
              "          await google.colab.output.renderOutput(dataTable, element);\n",
              "          const docLink = document.createElement('div');\n",
              "          docLink.innerHTML = docLinkHtml;\n",
              "          element.appendChild(docLink);\n",
              "        }\n",
              "      </script>\n",
              "    </div>\n",
              "  </div>\n",
              "  "
            ]
          },
          "metadata": {},
          "execution_count": 7
        }
      ]
    },
    {
      "cell_type": "code",
      "source": [
        "#setting the independent and dependent variables\n",
        "x = data[['PM10','SO2', 'NO2','CO','O3','TEMP','PRES','DEWP','RAIN','WSPM']]\n",
        "y = data['PM25']"
      ],
      "metadata": {
        "id": "Jm3tP4769BOg"
      },
      "execution_count": null,
      "outputs": []
    },
    {
      "cell_type": "code",
      "source": [
        "#use training and test sets found in initial analysis\n",
        "#Splitting according to the above description\n",
        "xtrain1, xtest1 = data.iloc[:2922,4:14 ], data.iloc[2922:5844, 4:14]\n",
        "xtrain2, xtest2 = data.iloc[:5844,4:14 ], data.iloc[5844:8766,4:14 ]\n",
        "xtrain3, xtest3 = data.iloc[:8766,4:14 ], data.iloc[8766:11688,4:14 ]\n",
        "xtrain4, xtest4 = data.iloc[:11688,4:14 ], data.iloc[11688:14610,4:14 ]\n",
        "xtrain5, xtest5 = data.iloc[:14610,4:14 ], data.iloc[14610:17532,4:14 ]\n",
        "xtrain6, xtest6 = data.iloc[:17532,4:14 ], data.iloc[17532:20454,4:14 ]\n",
        "xtrain7, xtest7 = data.iloc[:20454,4:14 ], data.iloc[20454:23376,4:14 ]\n",
        "xtrain8, xtest8 = data.iloc[:23376,4:14 ], data.iloc[23376:26298,4:14 ]\n",
        "xtrain9, xtest9 = data.iloc[:26298,4:14 ], data.iloc[26298:29220,4:14 ]\n",
        "xtrain10, xtest10 = data.iloc[:29220,4:14 ], data.iloc[29220:32142,4:14 ]\n",
        "xtrain11, xtest11 = data.iloc[:32142,4:14 ], data.iloc[32142:35063,4:14 ]\n",
        "\n",
        "#Splitting according to the above description\n",
        "ytrain1, ytest1 = data.iloc[:2922,3 ], data.iloc[2922:5844,3 ]\n",
        "ytrain2, ytest2 = data.iloc[:5844, 3], data.iloc[5844:8766, 3]\n",
        "ytrain3, ytest3 = data.iloc[:8766,3 ], data.iloc[8766:11688, 3]\n",
        "ytrain4, ytest4 = data.iloc[:11688,3 ], data.iloc[11688:14610,3 ]\n",
        "ytrain5, ytest5 = data.iloc[:14610,3 ], data.iloc[14610:17532, 3]\n",
        "ytrain6, ytest6 = data.iloc[:17532,3 ], data.iloc[17532:20454,3 ]\n",
        "ytrain7, ytest7 = data.iloc[:20454,3 ], data.iloc[20454:23376,3 ]\n",
        "ytrain8, ytest8 = data.iloc[:23376,3 ], data.iloc[23376:26298,3 ]\n",
        "ytrain9, ytest9 = data.iloc[:26298, 3], data.iloc[26298:29220,3 ]\n",
        "ytrain10, ytest10 = data.iloc[:29220,3 ], data.iloc[29220:32142,3 ]\n",
        "ytrain11, ytest11 = data.iloc[:32142,3 ], data.iloc[32142:35063, 3]"
      ],
      "metadata": {
        "id": "v-_3rpK09p9F"
      },
      "execution_count": null,
      "outputs": []
    },
    {
      "cell_type": "code",
      "source": [
        "#fitting multiple linear regression model\n",
        "MLR1 = lm.LinearRegression()\n",
        "MLR1.fit(xtrain1,ytrain1)"
      ],
      "metadata": {
        "colab": {
          "base_uri": "https://localhost:8080/"
        },
        "id": "RqrlgaoX90Oi",
        "outputId": "5ede02c7-c846-4daa-fa1d-0ecbe3bdb231"
      },
      "execution_count": null,
      "outputs": [
        {
          "output_type": "execute_result",
          "data": {
            "text/plain": [
              "LinearRegression()"
            ]
          },
          "metadata": {},
          "execution_count": 30
        }
      ]
    },
    {
      "cell_type": "code",
      "source": [
        "#Intercept and Coefficient\n",
        "print(\"Intercept: \", MLR1.intercept_)\n",
        "print(\"Coefficients:\")\n",
        "list(zip(x, MLR1.coef_))"
      ],
      "metadata": {
        "colab": {
          "base_uri": "https://localhost:8080/"
        },
        "id": "ENZmse0o_Lue",
        "outputId": "7022c873-b024-4236-e686-b636605438c1"
      },
      "execution_count": null,
      "outputs": [
        {
          "output_type": "stream",
          "name": "stdout",
          "text": [
            "Intercept:  -0.02877537160995898\n",
            "Coefficients:\n"
          ]
        },
        {
          "output_type": "execute_result",
          "data": {
            "text/plain": [
              "[('PM10', 0.28815803532939926),\n",
              " ('SO2', -0.037070710939398455),\n",
              " ('NO2', 0.11737450042259487),\n",
              " ('CO', 0.36679985602956433),\n",
              " ('O3', 0.0770682957394089),\n",
              " ('TEMP', -0.11180470305063421),\n",
              " ('PRES', -0.021667662100484337),\n",
              " ('DEWP', 0.13512579535995284),\n",
              " ('RAIN', 0.029076933445940506),\n",
              " ('WSPM', 0.0073804400065364826)]"
            ]
          },
          "metadata": {},
          "execution_count": 31
        }
      ]
    },
    {
      "cell_type": "code",
      "source": [
        "#Prediction of test set\n",
        "y_pred_MLR1= MLR1.predict(xtest1)\n",
        "#Predicted values\n",
        "print(\"Prediction for test set: {}\".format(y_pred_MLR1))\n"
      ],
      "metadata": {
        "colab": {
          "base_uri": "https://localhost:8080/"
        },
        "id": "c2r2JZ9x_IE8",
        "outputId": "dedc0fd8-13b8-4b49-a0fc-9dd0c811106f"
      },
      "execution_count": null,
      "outputs": [
        {
          "output_type": "stream",
          "name": "stdout",
          "text": [
            "Prediction for test set: [0.15707693 0.17196456 0.175594   ... 0.04500258 0.01895702 0.01971469]\n"
          ]
        }
      ]
    },
    {
      "cell_type": "code",
      "source": [
        "#Actual value and the predicted value\n",
        "MLR1_diff = pd.DataFrame({'Actual value': ytest1, 'Predicted value': y_pred_MLR1})\n",
        "MLR1_diff"
      ],
      "metadata": {
        "colab": {
          "base_uri": "https://localhost:8080/",
          "height": 424
        },
        "id": "WKVVQyBM_D9b",
        "outputId": "b3cf74a4-15ee-4d78-fd64-75df9d19d4c9"
      },
      "execution_count": null,
      "outputs": [
        {
          "output_type": "execute_result",
          "data": {
            "text/plain": [
              "      Actual value  Predicted value\n",
              "2922      0.200213         0.157077\n",
              "2923      0.241747         0.171965\n",
              "2924      0.279020         0.175594\n",
              "2925      0.279020         0.165083\n",
              "2926      0.236422         0.126684\n",
              "...            ...              ...\n",
              "5839      0.019169         0.027145\n",
              "5840      0.007455         0.027906\n",
              "5841      0.033014         0.045003\n",
              "5842      0.027689         0.018957\n",
              "5843      0.027689         0.019715\n",
              "\n",
              "[2922 rows x 2 columns]"
            ],
            "text/html": [
              "\n",
              "  <div id=\"df-663f412c-25e6-48d9-a679-566f126984b9\">\n",
              "    <div class=\"colab-df-container\">\n",
              "      <div>\n",
              "<style scoped>\n",
              "    .dataframe tbody tr th:only-of-type {\n",
              "        vertical-align: middle;\n",
              "    }\n",
              "\n",
              "    .dataframe tbody tr th {\n",
              "        vertical-align: top;\n",
              "    }\n",
              "\n",
              "    .dataframe thead th {\n",
              "        text-align: right;\n",
              "    }\n",
              "</style>\n",
              "<table border=\"1\" class=\"dataframe\">\n",
              "  <thead>\n",
              "    <tr style=\"text-align: right;\">\n",
              "      <th></th>\n",
              "      <th>Actual value</th>\n",
              "      <th>Predicted value</th>\n",
              "    </tr>\n",
              "  </thead>\n",
              "  <tbody>\n",
              "    <tr>\n",
              "      <th>2922</th>\n",
              "      <td>0.200213</td>\n",
              "      <td>0.157077</td>\n",
              "    </tr>\n",
              "    <tr>\n",
              "      <th>2923</th>\n",
              "      <td>0.241747</td>\n",
              "      <td>0.171965</td>\n",
              "    </tr>\n",
              "    <tr>\n",
              "      <th>2924</th>\n",
              "      <td>0.279020</td>\n",
              "      <td>0.175594</td>\n",
              "    </tr>\n",
              "    <tr>\n",
              "      <th>2925</th>\n",
              "      <td>0.279020</td>\n",
              "      <td>0.165083</td>\n",
              "    </tr>\n",
              "    <tr>\n",
              "      <th>2926</th>\n",
              "      <td>0.236422</td>\n",
              "      <td>0.126684</td>\n",
              "    </tr>\n",
              "    <tr>\n",
              "      <th>...</th>\n",
              "      <td>...</td>\n",
              "      <td>...</td>\n",
              "    </tr>\n",
              "    <tr>\n",
              "      <th>5839</th>\n",
              "      <td>0.019169</td>\n",
              "      <td>0.027145</td>\n",
              "    </tr>\n",
              "    <tr>\n",
              "      <th>5840</th>\n",
              "      <td>0.007455</td>\n",
              "      <td>0.027906</td>\n",
              "    </tr>\n",
              "    <tr>\n",
              "      <th>5841</th>\n",
              "      <td>0.033014</td>\n",
              "      <td>0.045003</td>\n",
              "    </tr>\n",
              "    <tr>\n",
              "      <th>5842</th>\n",
              "      <td>0.027689</td>\n",
              "      <td>0.018957</td>\n",
              "    </tr>\n",
              "    <tr>\n",
              "      <th>5843</th>\n",
              "      <td>0.027689</td>\n",
              "      <td>0.019715</td>\n",
              "    </tr>\n",
              "  </tbody>\n",
              "</table>\n",
              "<p>2922 rows × 2 columns</p>\n",
              "</div>\n",
              "      <button class=\"colab-df-convert\" onclick=\"convertToInteractive('df-663f412c-25e6-48d9-a679-566f126984b9')\"\n",
              "              title=\"Convert this dataframe to an interactive table.\"\n",
              "              style=\"display:none;\">\n",
              "        \n",
              "  <svg xmlns=\"http://www.w3.org/2000/svg\" height=\"24px\"viewBox=\"0 0 24 24\"\n",
              "       width=\"24px\">\n",
              "    <path d=\"M0 0h24v24H0V0z\" fill=\"none\"/>\n",
              "    <path d=\"M18.56 5.44l.94 2.06.94-2.06 2.06-.94-2.06-.94-.94-2.06-.94 2.06-2.06.94zm-11 1L8.5 8.5l.94-2.06 2.06-.94-2.06-.94L8.5 2.5l-.94 2.06-2.06.94zm10 10l.94 2.06.94-2.06 2.06-.94-2.06-.94-.94-2.06-.94 2.06-2.06.94z\"/><path d=\"M17.41 7.96l-1.37-1.37c-.4-.4-.92-.59-1.43-.59-.52 0-1.04.2-1.43.59L10.3 9.45l-7.72 7.72c-.78.78-.78 2.05 0 2.83L4 21.41c.39.39.9.59 1.41.59.51 0 1.02-.2 1.41-.59l7.78-7.78 2.81-2.81c.8-.78.8-2.07 0-2.86zM5.41 20L4 18.59l7.72-7.72 1.47 1.35L5.41 20z\"/>\n",
              "  </svg>\n",
              "      </button>\n",
              "      \n",
              "  <style>\n",
              "    .colab-df-container {\n",
              "      display:flex;\n",
              "      flex-wrap:wrap;\n",
              "      gap: 12px;\n",
              "    }\n",
              "\n",
              "    .colab-df-convert {\n",
              "      background-color: #E8F0FE;\n",
              "      border: none;\n",
              "      border-radius: 50%;\n",
              "      cursor: pointer;\n",
              "      display: none;\n",
              "      fill: #1967D2;\n",
              "      height: 32px;\n",
              "      padding: 0 0 0 0;\n",
              "      width: 32px;\n",
              "    }\n",
              "\n",
              "    .colab-df-convert:hover {\n",
              "      background-color: #E2EBFA;\n",
              "      box-shadow: 0px 1px 2px rgba(60, 64, 67, 0.3), 0px 1px 3px 1px rgba(60, 64, 67, 0.15);\n",
              "      fill: #174EA6;\n",
              "    }\n",
              "\n",
              "    [theme=dark] .colab-df-convert {\n",
              "      background-color: #3B4455;\n",
              "      fill: #D2E3FC;\n",
              "    }\n",
              "\n",
              "    [theme=dark] .colab-df-convert:hover {\n",
              "      background-color: #434B5C;\n",
              "      box-shadow: 0px 1px 3px 1px rgba(0, 0, 0, 0.15);\n",
              "      filter: drop-shadow(0px 1px 2px rgba(0, 0, 0, 0.3));\n",
              "      fill: #FFFFFF;\n",
              "    }\n",
              "  </style>\n",
              "\n",
              "      <script>\n",
              "        const buttonEl =\n",
              "          document.querySelector('#df-663f412c-25e6-48d9-a679-566f126984b9 button.colab-df-convert');\n",
              "        buttonEl.style.display =\n",
              "          google.colab.kernel.accessAllowed ? 'block' : 'none';\n",
              "\n",
              "        async function convertToInteractive(key) {\n",
              "          const element = document.querySelector('#df-663f412c-25e6-48d9-a679-566f126984b9');\n",
              "          const dataTable =\n",
              "            await google.colab.kernel.invokeFunction('convertToInteractive',\n",
              "                                                     [key], {});\n",
              "          if (!dataTable) return;\n",
              "\n",
              "          const docLinkHtml = 'Like what you see? Visit the ' +\n",
              "            '<a target=\"_blank\" href=https://colab.research.google.com/notebooks/data_table.ipynb>data table notebook</a>'\n",
              "            + ' to learn more about interactive tables.';\n",
              "          element.innerHTML = '';\n",
              "          dataTable['output_type'] = 'display_data';\n",
              "          await google.colab.output.renderOutput(dataTable, element);\n",
              "          const docLink = document.createElement('div');\n",
              "          docLink.innerHTML = docLinkHtml;\n",
              "          element.appendChild(docLink);\n",
              "        }\n",
              "      </script>\n",
              "    </div>\n",
              "  </div>\n",
              "  "
            ]
          },
          "metadata": {},
          "execution_count": 33
        }
      ]
    },
    {
      "cell_type": "code",
      "source": [
        "#use evaluation metrics to check if the regression fits \n",
        "meanAbErr1 = metrics.mean_absolute_error(ytest1, y_pred_MLR1)\n",
        "meanSqErr1 = metrics.mean_squared_error(ytest1, y_pred_MLR1)\n",
        "rootMeanSqErr1 = np.sqrt(metrics.mean_squared_error(ytest1, y_pred_MLR1))\n",
        "print('R squared: {:.2f}'.format(MLR1.score(x,y)*100))\n",
        "print('Mean Absolute Error:', meanAbErr1)\n",
        "print('Mean Square Error:', meanSqErr1)\n",
        "print('Root Mean Square Error:', rootMeanSqErr1)"
      ],
      "metadata": {
        "colab": {
          "base_uri": "https://localhost:8080/"
        },
        "id": "58aE7hkF-HiI",
        "outputId": "e1284614-1abc-45e4-8ce1-4b341ac918e6"
      },
      "execution_count": null,
      "outputs": [
        {
          "output_type": "stream",
          "name": "stdout",
          "text": [
            "R squared: 77.16\n",
            "Mean Absolute Error: 0.03859543198183616\n",
            "Mean Square Error: 0.0025542033724896105\n",
            "Root Mean Square Error: 0.05053912714412082\n"
          ]
        }
      ]
    },
    {
      "cell_type": "code",
      "source": [
        "## repeat the above steps 11 times for each test set\n",
        "\n",
        "#fitting multiple linear regression model\n",
        "MLR2 = lm.LinearRegression()\n",
        "MLR2.fit(xtrain2,ytrain2)\n",
        "\n",
        "#fitting multiple linear regression model\n",
        "MLR3 = lm.LinearRegression()\n",
        "MLR3.fit(xtrain3,ytrain3)\n",
        "\n",
        "#fitting multiple linear regression model\n",
        "MLR4 = lm.LinearRegression()\n",
        "MLR4.fit(xtrain4,ytrain4)\n",
        "\n",
        "#fitting multiple linear regression model\n",
        "MLR5 = lm.LinearRegression()\n",
        "MLR5.fit(xtrain5,ytrain5)\n",
        "\n",
        "#fitting multiple linear regression model\n",
        "MLR6 = lm.LinearRegression()\n",
        "MLR6.fit(xtrain6,ytrain6)\n",
        "\n",
        "#fitting multiple linear regression model\n",
        "MLR7 = lm.LinearRegression()\n",
        "MLR7.fit(xtrain7,ytrain7)\n",
        "\n",
        "#fitting multiple linear regression model\n",
        "MLR8 = lm.LinearRegression()\n",
        "MLR8.fit(xtrain8,ytrain8)\n",
        "\n",
        "#fitting multiple linear regression model\n",
        "MLR9 = lm.LinearRegression()\n",
        "MLR9.fit(xtrain9,ytrain9)\n",
        "\n",
        "#fitting multiple linear regression model\n",
        "MLR10 = lm.LinearRegression()\n",
        "MLR10.fit(xtrain10,ytrain10)\n",
        "\n",
        "#fitting multiple linear regression model\n",
        "MLR11 = lm.LinearRegression()\n",
        "MLR11.fit(xtrain11,ytrain11)\n"
      ],
      "metadata": {
        "colab": {
          "base_uri": "https://localhost:8080/"
        },
        "id": "oLaupZZV--Dp",
        "outputId": "f0df2be4-6c85-4845-9e0a-454348556fc4"
      },
      "execution_count": null,
      "outputs": [
        {
          "output_type": "execute_result",
          "data": {
            "text/plain": [
              "LinearRegression()"
            ]
          },
          "metadata": {},
          "execution_count": 35
        }
      ]
    },
    {
      "cell_type": "code",
      "source": [
        "#Intercept and Coefficient\n",
        "print(\"Intercept: \", MLR1.intercept_)\n",
        "print(\"Coefficients:\")\n",
        "list(zip(x, MLR1.coef_))"
      ],
      "metadata": {
        "id": "4wxx5NolDmdK",
        "colab": {
          "base_uri": "https://localhost:8080/"
        },
        "outputId": "71796659-f3e2-48eb-e596-fe9b96b2179d"
      },
      "execution_count": null,
      "outputs": [
        {
          "output_type": "stream",
          "name": "stdout",
          "text": [
            "Intercept:  -0.02877537160995898\n",
            "Coefficients:\n"
          ]
        },
        {
          "output_type": "execute_result",
          "data": {
            "text/plain": [
              "[('PM10', 0.28815803532939926),\n",
              " ('SO2', -0.037070710939398455),\n",
              " ('NO2', 0.11737450042259487),\n",
              " ('CO', 0.36679985602956433),\n",
              " ('O3', 0.0770682957394089),\n",
              " ('TEMP', -0.11180470305063421),\n",
              " ('PRES', -0.021667662100484337),\n",
              " ('DEWP', 0.13512579535995284),\n",
              " ('RAIN', 0.029076933445940506),\n",
              " ('WSPM', 0.0073804400065364826)]"
            ]
          },
          "metadata": {},
          "execution_count": 36
        }
      ]
    },
    {
      "cell_type": "code",
      "source": [
        "#Prediction of test set\n",
        "y_pred_MLR2= MLR2.predict(xtest2)\n",
        "#Prediction of test set\n",
        "y_pred_MLR3= MLR3.predict(xtest3)\n",
        "#Prediction of test set\n",
        "y_pred_MLR4= MLR4.predict(xtest4)\n",
        "#Prediction of test set\n",
        "y_pred_MLR5= MLR5.predict(xtest5)\n",
        "#Prediction of test set\n",
        "y_pred_MLR6= MLR6.predict(xtest6)\n",
        "#Prediction of test set\n",
        "y_pred_MLR7= MLR7.predict(xtest7)\n",
        "#Prediction of test set\n",
        "y_pred_MLR8= MLR8.predict(xtest8)\n",
        "#Prediction of test set\n",
        "y_pred_MLR9= MLR9.predict(xtest9)\n",
        "#Prediction of test set\n",
        "y_pred_MLR10= MLR1.predict(xtest10)\n",
        "#Prediction of test set\n",
        "y_pred_MLR11= MLR11.predict(xtest11)"
      ],
      "metadata": {
        "id": "_20wtx_nEe3C"
      },
      "execution_count": null,
      "outputs": []
    },
    {
      "cell_type": "code",
      "source": [
        "meanAbErr2 = metrics.mean_absolute_error(ytest2, y_pred_MLR2)\n",
        "meanSqErr2 = metrics.mean_squared_error(ytest2, y_pred_MLR2)\n",
        "rootMeanSqErr2 = np.sqrt(metrics.mean_squared_error(ytest2, y_pred_MLR2))\n",
        "print('2:R squared: {:.2f}'.format(MLR2.score(x,y)*100))\n",
        "\n",
        "meanAbErr3 = metrics.mean_absolute_error(ytest3, y_pred_MLR3)\n",
        "meanSqErr3 = metrics.mean_squared_error(ytest3, y_pred_MLR3)\n",
        "rootMeanSqErr3 = np.sqrt(metrics.mean_squared_error(ytest3, y_pred_MLR3))\n",
        "print('3:R squared: {:.2f}'.format(MLR3.score(x,y)*100))\n",
        "\n",
        "meanAbErr4 = metrics.mean_absolute_error(ytest4, y_pred_MLR4)\n",
        "meanSqErr4 = metrics.mean_squared_error(ytest4, y_pred_MLR4)\n",
        "rootMeanSqErr4 = np.sqrt(metrics.mean_squared_error(ytest4, y_pred_MLR4))\n",
        "print('4:R squared: {:.2f}'.format(MLR4.score(x,y)*100))\n",
        "\n",
        "\n",
        "meanAbErr5 = metrics.mean_absolute_error(ytest5, y_pred_MLR5)\n",
        "meanSqErr5 = metrics.mean_squared_error(ytest5, y_pred_MLR5)\n",
        "rootMeanSqErr5 = np.sqrt(metrics.mean_squared_error(ytest5, y_pred_MLR5))\n",
        "print('5:R squared: {:.2f}'.format(MLR5.score(x,y)*100))\n",
        "\n",
        "\n",
        "meanAbErr6 = metrics.mean_absolute_error(ytest6, y_pred_MLR6)\n",
        "meanSqErr6 = metrics.mean_squared_error(ytest6, y_pred_MLR6)\n",
        "rootMeanSqErr6 = np.sqrt(metrics.mean_squared_error(ytest6, y_pred_MLR6))\n",
        "print('6:R squared: {:.2f}'.format(MLR6.score(x,y)*100))\n",
        "\n",
        "\n",
        "meanAbErr7 = metrics.mean_absolute_error(ytest7, y_pred_MLR7)\n",
        "meanSqErr7 = metrics.mean_squared_error(ytest7, y_pred_MLR7)\n",
        "rootMeanSqErr7 = np.sqrt(metrics.mean_squared_error(ytest7, y_pred_MLR7))\n",
        "print('7:R squared: {:.2f}'.format(MLR7.score(x,y)*100))\n",
        "\n",
        "meanAbErr8 = metrics.mean_absolute_error(ytest8, y_pred_MLR8)\n",
        "meanSqErr8 = metrics.mean_squared_error(ytest8, y_pred_MLR8)\n",
        "rootMeanSqErr8 = np.sqrt(metrics.mean_squared_error(ytest8, y_pred_MLR8))\n",
        "print('8:R squared: {:.2f}'.format(MLR8.score(x,y)*100))\n",
        "\n",
        "meanAbErr9 = metrics.mean_absolute_error(ytest9, y_pred_MLR9)\n",
        "meanSqErr9 = metrics.mean_squared_error(ytest9, y_pred_MLR9)\n",
        "rootMeanSqErr9 = np.sqrt(metrics.mean_squared_error(ytest9, y_pred_MLR9))\n",
        "print('9:R squared: {:.2f}'.format(MLR9.score(x,y)*100))\n",
        "\n",
        "meanAbErr10 = metrics.mean_absolute_error(ytest10, y_pred_MLR10)\n",
        "meanSqErr10 = metrics.mean_squared_error(ytest10, y_pred_MLR10)\n",
        "rootMeanSqErr10 = np.sqrt(metrics.mean_squared_error(ytest10, y_pred_MLR10))\n",
        "print('10:R squared: {:.2f}'.format(MLR10.score(x,y)*100))\n",
        "\n",
        "\n",
        "meanAbErr11 = metrics.mean_absolute_error(ytest11, y_pred_MLR11)\n",
        "meanSqErr11 = metrics.mean_squared_error(ytest11, y_pred_MLR11)\n",
        "rootMeanSqErr11 = np.sqrt(metrics.mean_squared_error(ytest11, y_pred_MLR11))\n",
        "print('11:R squared: {:.2f}'.format(MLR11.score(x,y)*100))"
      ],
      "metadata": {
        "colab": {
          "base_uri": "https://localhost:8080/"
        },
        "id": "4cAyNNy6FWMZ",
        "outputId": "a85ab5f0-f505-41c6-97b7-1b42ac3a4628"
      },
      "execution_count": null,
      "outputs": [
        {
          "output_type": "stream",
          "name": "stdout",
          "text": [
            "2:R squared: 81.83\n",
            "3:R squared: 83.00\n",
            "4:R squared: 82.94\n",
            "5:R squared: 83.18\n",
            "6:R squared: 83.07\n",
            "7:R squared: 83.06\n",
            "8:R squared: 83.26\n",
            "9:R squared: 83.46\n",
            "10:R squared: 83.51\n",
            "11:R squared: 83.56\n"
          ]
        }
      ]
    },
    {
      "cell_type": "code",
      "source": [
        "trial = [1,2,3,4,5,6,7,8,9,10,11]\n",
        "rsquared = [MLR1.score(x,y)*100, MLR2.score(x,y)*100, MLR3.score(x,y)*100,MLR4.score(x,y)*100,MLR5.score(x,y)*100,MLR6.score(x,y)*100,MLR7.score(x,y)*100,MLR8.score(x,y)*100,MLR9.score(x,y)*100,MLR10.score(x,y)*100,MLR11.score(x,y)*100]\n",
        "MAE = [meanAbErr1,meanAbErr2,meanAbErr3,meanAbErr4,meanAbErr5,meanAbErr6,meanAbErr7,meanAbErr8,meanAbErr9,meanAbErr10,meanAbErr11]\n",
        "MSE = [meanSqErr1,meanSqErr2,meanSqErr3,meanSqErr4,meanSqErr5,meanSqErr6,meanSqErr7,meanSqErr8,meanSqErr9,meanSqErr10,meanSqErr11]\n",
        "RMSE = [rootMeanSqErr1,rootMeanSqErr2,rootMeanSqErr3,rootMeanSqErr4,rootMeanSqErr5,rootMeanSqErr6,rootMeanSqErr7,rootMeanSqErr8,rootMeanSqErr9,rootMeanSqErr10,rootMeanSqErr11]\n",
        "\n",
        "results = pd.DataFrame({'Trial': trial, 'R-Squared': rsquared, 'Mean Absolute Error':MAE, 'Mean Square Error': MSE, 'Root Mean Square Error': RMSE})\n",
        "results"
      ],
      "metadata": {
        "colab": {
          "base_uri": "https://localhost:8080/",
          "height": 438
        },
        "id": "_Kezh6ues9n6",
        "outputId": "596044a6-ca1f-4a06-c851-bc9886cc912b"
      },
      "execution_count": null,
      "outputs": [
        {
          "output_type": "execute_result",
          "data": {
            "text/plain": [
              "    Trial  R-Squared  Mean Absolute Error  Mean Square Error  \\\n",
              "0       1  77.163401             0.038595           0.002554   \n",
              "1       2  81.834545             0.024967           0.001525   \n",
              "2       3  83.001708             0.024935           0.001246   \n",
              "3       4  82.943777             0.023760           0.001105   \n",
              "4       5  83.182121             0.023931           0.001649   \n",
              "5       6  83.074757             0.024125           0.001505   \n",
              "6       7  83.057216             0.019638           0.000828   \n",
              "7       8  83.259501             0.018535           0.001089   \n",
              "8       9  83.455131             0.023318           0.001363   \n",
              "9      10  83.513509             0.025137           0.001128   \n",
              "10     11  83.556050             0.020442           0.000946   \n",
              "\n",
              "    Root Mean Square Error  \n",
              "0                 0.050539  \n",
              "1                 0.039050  \n",
              "2                 0.035302  \n",
              "3                 0.033248  \n",
              "4                 0.040603  \n",
              "5                 0.038794  \n",
              "6                 0.028767  \n",
              "7                 0.033001  \n",
              "8                 0.036915  \n",
              "9                 0.033579  \n",
              "10                0.030765  "
            ],
            "text/html": [
              "\n",
              "  <div id=\"df-2d2f4d5a-62df-4a17-8163-3348021f719f\">\n",
              "    <div class=\"colab-df-container\">\n",
              "      <div>\n",
              "<style scoped>\n",
              "    .dataframe tbody tr th:only-of-type {\n",
              "        vertical-align: middle;\n",
              "    }\n",
              "\n",
              "    .dataframe tbody tr th {\n",
              "        vertical-align: top;\n",
              "    }\n",
              "\n",
              "    .dataframe thead th {\n",
              "        text-align: right;\n",
              "    }\n",
              "</style>\n",
              "<table border=\"1\" class=\"dataframe\">\n",
              "  <thead>\n",
              "    <tr style=\"text-align: right;\">\n",
              "      <th></th>\n",
              "      <th>Trial</th>\n",
              "      <th>R-Squared</th>\n",
              "      <th>Mean Absolute Error</th>\n",
              "      <th>Mean Square Error</th>\n",
              "      <th>Root Mean Square Error</th>\n",
              "    </tr>\n",
              "  </thead>\n",
              "  <tbody>\n",
              "    <tr>\n",
              "      <th>0</th>\n",
              "      <td>1</td>\n",
              "      <td>77.163401</td>\n",
              "      <td>0.038595</td>\n",
              "      <td>0.002554</td>\n",
              "      <td>0.050539</td>\n",
              "    </tr>\n",
              "    <tr>\n",
              "      <th>1</th>\n",
              "      <td>2</td>\n",
              "      <td>81.834545</td>\n",
              "      <td>0.024967</td>\n",
              "      <td>0.001525</td>\n",
              "      <td>0.039050</td>\n",
              "    </tr>\n",
              "    <tr>\n",
              "      <th>2</th>\n",
              "      <td>3</td>\n",
              "      <td>83.001708</td>\n",
              "      <td>0.024935</td>\n",
              "      <td>0.001246</td>\n",
              "      <td>0.035302</td>\n",
              "    </tr>\n",
              "    <tr>\n",
              "      <th>3</th>\n",
              "      <td>4</td>\n",
              "      <td>82.943777</td>\n",
              "      <td>0.023760</td>\n",
              "      <td>0.001105</td>\n",
              "      <td>0.033248</td>\n",
              "    </tr>\n",
              "    <tr>\n",
              "      <th>4</th>\n",
              "      <td>5</td>\n",
              "      <td>83.182121</td>\n",
              "      <td>0.023931</td>\n",
              "      <td>0.001649</td>\n",
              "      <td>0.040603</td>\n",
              "    </tr>\n",
              "    <tr>\n",
              "      <th>5</th>\n",
              "      <td>6</td>\n",
              "      <td>83.074757</td>\n",
              "      <td>0.024125</td>\n",
              "      <td>0.001505</td>\n",
              "      <td>0.038794</td>\n",
              "    </tr>\n",
              "    <tr>\n",
              "      <th>6</th>\n",
              "      <td>7</td>\n",
              "      <td>83.057216</td>\n",
              "      <td>0.019638</td>\n",
              "      <td>0.000828</td>\n",
              "      <td>0.028767</td>\n",
              "    </tr>\n",
              "    <tr>\n",
              "      <th>7</th>\n",
              "      <td>8</td>\n",
              "      <td>83.259501</td>\n",
              "      <td>0.018535</td>\n",
              "      <td>0.001089</td>\n",
              "      <td>0.033001</td>\n",
              "    </tr>\n",
              "    <tr>\n",
              "      <th>8</th>\n",
              "      <td>9</td>\n",
              "      <td>83.455131</td>\n",
              "      <td>0.023318</td>\n",
              "      <td>0.001363</td>\n",
              "      <td>0.036915</td>\n",
              "    </tr>\n",
              "    <tr>\n",
              "      <th>9</th>\n",
              "      <td>10</td>\n",
              "      <td>83.513509</td>\n",
              "      <td>0.025137</td>\n",
              "      <td>0.001128</td>\n",
              "      <td>0.033579</td>\n",
              "    </tr>\n",
              "    <tr>\n",
              "      <th>10</th>\n",
              "      <td>11</td>\n",
              "      <td>83.556050</td>\n",
              "      <td>0.020442</td>\n",
              "      <td>0.000946</td>\n",
              "      <td>0.030765</td>\n",
              "    </tr>\n",
              "  </tbody>\n",
              "</table>\n",
              "</div>\n",
              "      <button class=\"colab-df-convert\" onclick=\"convertToInteractive('df-2d2f4d5a-62df-4a17-8163-3348021f719f')\"\n",
              "              title=\"Convert this dataframe to an interactive table.\"\n",
              "              style=\"display:none;\">\n",
              "        \n",
              "  <svg xmlns=\"http://www.w3.org/2000/svg\" height=\"24px\"viewBox=\"0 0 24 24\"\n",
              "       width=\"24px\">\n",
              "    <path d=\"M0 0h24v24H0V0z\" fill=\"none\"/>\n",
              "    <path d=\"M18.56 5.44l.94 2.06.94-2.06 2.06-.94-2.06-.94-.94-2.06-.94 2.06-2.06.94zm-11 1L8.5 8.5l.94-2.06 2.06-.94-2.06-.94L8.5 2.5l-.94 2.06-2.06.94zm10 10l.94 2.06.94-2.06 2.06-.94-2.06-.94-.94-2.06-.94 2.06-2.06.94z\"/><path d=\"M17.41 7.96l-1.37-1.37c-.4-.4-.92-.59-1.43-.59-.52 0-1.04.2-1.43.59L10.3 9.45l-7.72 7.72c-.78.78-.78 2.05 0 2.83L4 21.41c.39.39.9.59 1.41.59.51 0 1.02-.2 1.41-.59l7.78-7.78 2.81-2.81c.8-.78.8-2.07 0-2.86zM5.41 20L4 18.59l7.72-7.72 1.47 1.35L5.41 20z\"/>\n",
              "  </svg>\n",
              "      </button>\n",
              "      \n",
              "  <style>\n",
              "    .colab-df-container {\n",
              "      display:flex;\n",
              "      flex-wrap:wrap;\n",
              "      gap: 12px;\n",
              "    }\n",
              "\n",
              "    .colab-df-convert {\n",
              "      background-color: #E8F0FE;\n",
              "      border: none;\n",
              "      border-radius: 50%;\n",
              "      cursor: pointer;\n",
              "      display: none;\n",
              "      fill: #1967D2;\n",
              "      height: 32px;\n",
              "      padding: 0 0 0 0;\n",
              "      width: 32px;\n",
              "    }\n",
              "\n",
              "    .colab-df-convert:hover {\n",
              "      background-color: #E2EBFA;\n",
              "      box-shadow: 0px 1px 2px rgba(60, 64, 67, 0.3), 0px 1px 3px 1px rgba(60, 64, 67, 0.15);\n",
              "      fill: #174EA6;\n",
              "    }\n",
              "\n",
              "    [theme=dark] .colab-df-convert {\n",
              "      background-color: #3B4455;\n",
              "      fill: #D2E3FC;\n",
              "    }\n",
              "\n",
              "    [theme=dark] .colab-df-convert:hover {\n",
              "      background-color: #434B5C;\n",
              "      box-shadow: 0px 1px 3px 1px rgba(0, 0, 0, 0.15);\n",
              "      filter: drop-shadow(0px 1px 2px rgba(0, 0, 0, 0.3));\n",
              "      fill: #FFFFFF;\n",
              "    }\n",
              "  </style>\n",
              "\n",
              "      <script>\n",
              "        const buttonEl =\n",
              "          document.querySelector('#df-2d2f4d5a-62df-4a17-8163-3348021f719f button.colab-df-convert');\n",
              "        buttonEl.style.display =\n",
              "          google.colab.kernel.accessAllowed ? 'block' : 'none';\n",
              "\n",
              "        async function convertToInteractive(key) {\n",
              "          const element = document.querySelector('#df-2d2f4d5a-62df-4a17-8163-3348021f719f');\n",
              "          const dataTable =\n",
              "            await google.colab.kernel.invokeFunction('convertToInteractive',\n",
              "                                                     [key], {});\n",
              "          if (!dataTable) return;\n",
              "\n",
              "          const docLinkHtml = 'Like what you see? Visit the ' +\n",
              "            '<a target=\"_blank\" href=https://colab.research.google.com/notebooks/data_table.ipynb>data table notebook</a>'\n",
              "            + ' to learn more about interactive tables.';\n",
              "          element.innerHTML = '';\n",
              "          dataTable['output_type'] = 'display_data';\n",
              "          await google.colab.output.renderOutput(dataTable, element);\n",
              "          const docLink = document.createElement('div');\n",
              "          docLink.innerHTML = docLinkHtml;\n",
              "          element.appendChild(docLink);\n",
              "        }\n",
              "      </script>\n",
              "    </div>\n",
              "  </div>\n",
              "  "
            ]
          },
          "metadata": {},
          "execution_count": 41
        }
      ]
    },
    {
      "cell_type": "code",
      "source": [
        "#plot the predicted values\n",
        "plt.plot(np.arange(len(y_pred_MLR1)) + len(ytrain1),ytest1)\n",
        "plt.plot(np.arange(len(y_pred_MLR1)) + len(ytrain1), y_pred_MLR1)\n",
        "plt.plot(ytrain1)\n",
        "# you seemed to mess up the labels\n",
        "plt.legend(['y_test', 'y_test_pred', 'y_train'])\n"
      ],
      "metadata": {
        "colab": {
          "base_uri": "https://localhost:8080/",
          "height": 282
        },
        "id": "ZA-flD-uIx1X",
        "outputId": "a240675a-fd41-468c-96c7-04feb4ec8250"
      },
      "execution_count": null,
      "outputs": [
        {
          "output_type": "execute_result",
          "data": {
            "text/plain": [
              "<matplotlib.legend.Legend at 0x7f535c445fd0>"
            ]
          },
          "metadata": {},
          "execution_count": 62
        },
        {
          "output_type": "display_data",
          "data": {
            "text/plain": [
              "<Figure size 432x288 with 1 Axes>"
            ],
            "image/png": "[encoded data removed]"
          },
          "metadata": {
            "needs_background": "light"
          }
        }
      ]
    },
    {
      "cell_type": "code",
      "source": [
        "#plot the predicted values\n",
        "plt.plot(np.arange(len(y_pred_MLR2)) + len(ytrain2),ytest2)\n",
        "plt.plot(np.arange(len(y_pred_MLR2)) + len(ytrain2), y_pred_MLR2)\n",
        "plt.plot(ytrain2)\n",
        "# you seemed to mess up the labels\n",
        "plt.legend(['y_test', 'y_test_pred', 'y_train'])"
      ],
      "metadata": {
        "colab": {
          "base_uri": "https://localhost:8080/",
          "height": 282
        },
        "id": "yIREUsB-KZwn",
        "outputId": "759cc8de-56d7-4c4c-cad9-504814abf4c0"
      },
      "execution_count": null,
      "outputs": [
        {
          "output_type": "execute_result",
          "data": {
            "text/plain": [
              "<matplotlib.legend.Legend at 0x7f535c4380d0>"
            ]
          },
          "metadata": {},
          "execution_count": 63
        },
        {
          "output_type": "display_data",
          "data": {
            "text/plain": [
              "<Figure size 432x288 with 1 Axes>"
            ],
            "image/png": "[encoded data removed]"
          },
          "metadata": {
            "needs_background": "light"
          }
        }
      ]
    },
    {
      "cell_type": "code",
      "source": [
        "#plot the predicted values\n",
        "plt.plot(np.arange(len(y_pred_MLR3)) + len(ytrain3),ytest3)\n",
        "plt.plot(np.arange(len(y_pred_MLR3)) + len(ytrain3), y_pred_MLR3)\n",
        "plt.plot(ytrain3)\n",
        "# you seemed to mess up the labels\n",
        "plt.legend(['y_test', 'y_test_pred', 'y_train'])\n"
      ],
      "metadata": {
        "colab": {
          "base_uri": "https://localhost:8080/",
          "height": 282
        },
        "id": "lfcoLt68K_Yq",
        "outputId": "429d2dde-d93b-42ec-fe24-b469e9dde2e8"
      },
      "execution_count": null,
      "outputs": [
        {
          "output_type": "execute_result",
          "data": {
            "text/plain": [
              "<matplotlib.legend.Legend at 0x7f535c6798d0>"
            ]
          },
          "metadata": {},
          "execution_count": 64
        },
        {
          "output_type": "display_data",
          "data": {
            "text/plain": [
              "<Figure size 432x288 with 1 Axes>"
            ],
            "image/png": "[encoded data removed]"
          },
          "metadata": {
            "needs_background": "light"
          }
        }
      ]
    },
    {
      "cell_type": "code",
      "source": [
        "#plot the predicted values\n",
        "plt.plot(np.arange(len(y_pred_MLR4)) + len(ytrain4),ytest4)\n",
        "plt.plot(np.arange(len(y_pred_MLR4)) + len(ytrain4), y_pred_MLR4)\n",
        "plt.plot(ytrain4)\n",
        "# you seemed to mess up the labels\n",
        "plt.legend(['y_test', 'y_test_pred', 'y_train'])\n"
      ],
      "metadata": {
        "colab": {
          "base_uri": "https://localhost:8080/",
          "height": 282
        },
        "id": "F28mFGNnLHnn",
        "outputId": "00faf639-7d52-4386-8d3a-9afbb51db714"
      },
      "execution_count": null,
      "outputs": [
        {
          "output_type": "execute_result",
          "data": {
            "text/plain": [
              "<matplotlib.legend.Legend at 0x7f535c5d4c10>"
            ]
          },
          "metadata": {},
          "execution_count": 65
        },
        {
          "output_type": "display_data",
          "data": {
            "text/plain": [
              "<Figure size 432x288 with 1 Axes>"
            ],
            "image/png": "[encoded data removed]"
          },
          "metadata": {
            "needs_background": "light"
          }
        }
      ]
    },
    {
      "cell_type": "code",
      "source": [
        "#plot the predicted values\n",
        "plt.plot(np.arange(len(y_pred_MLR5)) + len(ytrain5),ytest5)\n",
        "plt.plot(np.arange(len(y_pred_MLR5)) + len(ytrain5), y_pred_MLR5)\n",
        "plt.plot(ytrain5)\n",
        "# you seemed to mess up the labels\n",
        "plt.legend(['y_test', 'y_test_pred', 'y_train'])\n"
      ],
      "metadata": {
        "colab": {
          "base_uri": "https://localhost:8080/",
          "height": 282
        },
        "id": "cLP4XF7gLRjU",
        "outputId": "6909e3c4-9312-4b6f-e5ff-2dc6bbd82bfd"
      },
      "execution_count": null,
      "outputs": [
        {
          "output_type": "execute_result",
          "data": {
            "text/plain": [
              "<matplotlib.legend.Legend at 0x7f5362731ad0>"
            ]
          },
          "metadata": {},
          "execution_count": 66
        },
        {
          "output_type": "display_data",
          "data": {
            "text/plain": [
              "<Figure size 432x288 with 1 Axes>"
            ],
            "image/png": "[encoded data removed]"
          },
          "metadata": {
            "needs_background": "light"
          }
        }
      ]
    },
    {
      "cell_type": "code",
      "source": [
        "#plot the predicted values\n",
        "plt.plot(np.arange(len(y_pred_MLR6)) + len(ytrain6),ytest6)\n",
        "plt.plot(np.arange(len(y_pred_MLR6)) + len(ytrain6), y_pred_MLR6)\n",
        "plt.plot(ytrain6)\n",
        "# you seemed to mess up the labels\n",
        "plt.legend(['y_test', 'y_test_pred', 'y_train'])\n"
      ],
      "metadata": {
        "colab": {
          "base_uri": "https://localhost:8080/",
          "height": 282
        },
        "id": "dsdu_NkMLb6W",
        "outputId": "d732276f-be92-4f4a-94fe-f77a92f16301"
      },
      "execution_count": null,
      "outputs": [
        {
          "output_type": "execute_result",
          "data": {
            "text/plain": [
              "<matplotlib.legend.Legend at 0x7f535d9af9d0>"
            ]
          },
          "metadata": {},
          "execution_count": 67
        },
        {
          "output_type": "display_data",
          "data": {
            "text/plain": [
              "<Figure size 432x288 with 1 Axes>"
            ],
            "image/png": "[encoded data removed]"
          },
          "metadata": {
            "needs_background": "light"
          }
        }
      ]
    },
    {
      "cell_type": "code",
      "source": [
        "#plot the predicted values\n",
        "plt.plot(np.arange(len(y_pred_MLR7)) + len(ytrain7),ytest7)\n",
        "plt.plot(np.arange(len(y_pred_MLR7)) + len(ytrain7), y_pred_MLR7)\n",
        "plt.plot(ytrain7)\n",
        "# you seemed to mess up the labels\n",
        "plt.legend(['y_test', 'y_test_pred', 'y_train'])"
      ],
      "metadata": {
        "colab": {
          "base_uri": "https://localhost:8080/",
          "height": 282
        },
        "id": "sYuVIjyRLkiz",
        "outputId": "37b64f33-ae6a-4ceb-b391-95cd676da93d"
      },
      "execution_count": null,
      "outputs": [
        {
          "output_type": "execute_result",
          "data": {
            "text/plain": [
              "<matplotlib.legend.Legend at 0x7f535d0dcb10>"
            ]
          },
          "metadata": {},
          "execution_count": 68
        },
        {
          "output_type": "display_data",
          "data": {
            "text/plain": [
              "<Figure size 432x288 with 1 Axes>"
            ],
            "image/png": "[encoded data removed]"
          },
          "metadata": {
            "needs_background": "light"
          }
        }
      ]
    },
    {
      "cell_type": "code",
      "source": [
        "#plot the predicted values\n",
        "plt.plot(np.arange(len(y_pred_MLR8)) + len(ytrain8),ytest8)\n",
        "plt.plot(np.arange(len(y_pred_MLR8)) + len(ytrain8), y_pred_MLR8)\n",
        "plt.plot(ytrain8)\n",
        "# you seemed to mess up the labels\n",
        "plt.legend(['y_test', 'y_test_pred', 'y_train'])"
      ],
      "metadata": {
        "colab": {
          "base_uri": "https://localhost:8080/",
          "height": 282
        },
        "id": "o3TCRQydL06r",
        "outputId": "a865353a-67ca-4594-871b-366c6a01db6d"
      },
      "execution_count": null,
      "outputs": [
        {
          "output_type": "execute_result",
          "data": {
            "text/plain": [
              "<matplotlib.legend.Legend at 0x7f535ce16e90>"
            ]
          },
          "metadata": {},
          "execution_count": 69
        },
        {
          "output_type": "display_data",
          "data": {
            "text/plain": [
              "<Figure size 432x288 with 1 Axes>"
            ],
            "image/png": "[encoded data removed]"
          },
          "metadata": {
            "needs_background": "light"
          }
        }
      ]
    },
    {
      "cell_type": "code",
      "source": [
        "#plot the predicted values\n",
        "plt.plot(np.arange(len(y_pred_MLR9)) + len(ytrain9),ytest9)\n",
        "plt.plot(np.arange(len(y_pred_MLR9)) + len(ytrain9), y_pred_MLR9)\n",
        "plt.plot(ytrain9)\n",
        "# you seemed to mess up the labels\n",
        "plt.legend(['y_test', 'y_test_pred', 'y_train'])"
      ],
      "metadata": {
        "colab": {
          "base_uri": "https://localhost:8080/",
          "height": 282
        },
        "id": "dlXmpIiEL8aH",
        "outputId": "758a13b9-a1e1-4448-d5ff-321e5e31bd3f"
      },
      "execution_count": null,
      "outputs": [
        {
          "output_type": "execute_result",
          "data": {
            "text/plain": [
              "<matplotlib.legend.Legend at 0x7f535d901810>"
            ]
          },
          "metadata": {},
          "execution_count": 70
        },
        {
          "output_type": "display_data",
          "data": {
            "text/plain": [
              "<Figure size 432x288 with 1 Axes>"
            ],
            "image/png": "[encoded data removed]"
          },
          "metadata": {
            "needs_background": "light"
          }
        }
      ]
    },
    {
      "cell_type": "code",
      "source": [
        "#plot the predicted values\n",
        "plt.plot(np.arange(len(y_pred_MLR10)) + len(ytrain10),ytest10)\n",
        "plt.plot(np.arange(len(y_pred_MLR10)) + len(ytrain10), y_pred_MLR10)\n",
        "plt.plot(ytrain10)\n",
        "# you seemed to mess up the labels\n",
        "plt.legend(['y_test', 'y_test_pred', 'y_train'])"
      ],
      "metadata": {
        "colab": {
          "base_uri": "https://localhost:8080/",
          "height": 282
        },
        "id": "lTocWDq6MDYx",
        "outputId": "4bbb8f10-9e93-41c3-d086-a7f8152af82f"
      },
      "execution_count": null,
      "outputs": [
        {
          "output_type": "execute_result",
          "data": {
            "text/plain": [
              "<matplotlib.legend.Legend at 0x7f535d07e4d0>"
            ]
          },
          "metadata": {},
          "execution_count": 71
        },
        {
          "output_type": "display_data",
          "data": {
            "text/plain": [
              "<Figure size 432x288 with 1 Axes>"
            ],
            "image/png": "[encoded data removed]"
          },
          "metadata": {
            "needs_background": "light"
          }
        }
      ]
    },
    {
      "cell_type": "code",
      "source": [
        "#plot the predicted values\n",
        "plt.plot(np.arange(len(y_pred_MLR11)) + len(ytrain11),ytest11)\n",
        "plt.plot(np.arange(len(y_pred_MLR11)) + len(ytrain11), y_pred_MLR11)\n",
        "plt.plot(ytrain11)\n",
        "# you seemed to mess up the labels\n",
        "plt.legend(['y_test', 'y_test_pred', 'y_train'])"
      ],
      "metadata": {
        "colab": {
          "base_uri": "https://localhost:8080/",
          "height": 282
        },
        "id": "WkLf9Zv_MKr5",
        "outputId": "b3a3aaa4-519f-4c45-e304-2136d2b06465"
      },
      "execution_count": null,
      "outputs": [
        {
          "output_type": "execute_result",
          "data": {
            "text/plain": [
              "<matplotlib.legend.Legend at 0x7f535d13df10>"
            ]
          },
          "metadata": {},
          "execution_count": 72
        },
        {
          "output_type": "display_data",
          "data": {
            "text/plain": [
              "<Figure size 432x288 with 1 Axes>"
            ],
            "image/png": "[encoded data removed]"
          },
          "metadata": {
            "needs_background": "light"
          }
        }
      ]
    },
    {
      "cell_type": "code",
      "source": [
        ""
      ],
      "metadata": {
        "id": "XI9AhdtCMSO6"
      },
      "execution_count": null,
      "outputs": []
    }
  ]
}